{
  "nbformat": 4,
  "nbformat_minor": 0,
  "metadata": {
    "colab": {
      "name": "run_frontend_in_colab.ipynb",
      "provenance": []
    },
    "kernelspec": {
      "name": "python3",
      "display_name": "Python 3"
    },
    "language_info": {
      "name": "python"
    }
  },
  "cells": [
    {
      "cell_type": "markdown",
      "source": [
        "# Testing your app\n",
        "\n",
        "Once your app is running you can query it. You can simply do that by navigating to the URL that ngrok gave you above or through code in a different python session. For example, once the frontend app is running, you can navigate to:\n",
        "http://YOUR_SERVER_DOMAIN/search?query=hello+world where YOUR_SERVER_DOMAIN is something like XXXX-XX-XX-XX-XX.ngrok.io, which is printed above in Colab or that is your external IP on GCP.\n",
        "\n",
        "The code below shows how to issue a query from python. This is also how our testing code will issue queries to your search engine, so make sure to test your search engine this way after you deploy it to GCP and before submission. Command line instructions for deploying your search engine to GCP are available at `run_frontend_in_gcp.sh`. Note that we will not only issue training queries to your search engine, but also test queries, i.e. queries that you've never seen before."
      ],
      "metadata": {
        "id": "Na0MC_1nzDbi"
      }
    },
    {
      "cell_type": "code",
      "source": [
        "import json\n",
        "\n",
        "with open('queries_train.json', 'rt') as f:\n",
        "  # queries = dict(list(json.load(f).items())[20:30])\n",
        "  queries = json.load(f)"
      ],
      "metadata": {
        "id": "EM5ePrRHojbG"
      },
      "execution_count": 77,
      "outputs": []
    },
    {
      "cell_type": "code",
      "source": [
        "def average_precision(true_list, predicted_list, k=40):\n",
        "    true_set = frozenset(true_list)\n",
        "    predicted_list = predicted_list[:k]\n",
        "    precisions = []\n",
        "    for i,doc_id in enumerate(predicted_list):        \n",
        "        if doc_id in true_set:\n",
        "            prec = (len(precisions)+1) / (i+1)            \n",
        "            precisions.append(prec)\n",
        "    if len(precisions) == 0:\n",
        "        return 0.0\n",
        "    return round(sum(precisions)/len(precisions),3)"
      ],
      "metadata": {
        "id": "gWimZWCOy3Ei"
      },
      "execution_count": null,
      "outputs": []
    },
    {
      "cell_type": "code",
      "source": [
        "def avg_time_pres(qs):\n",
        "  return sum([time for _,time,_ in qs])/len(qs),sum([pres for _,_,pres in qs if pres!= None])/(len(qs))\n"
      ],
      "metadata": {
        "id": "ZWxHZJOynZhy"
      },
      "execution_count": null,
      "outputs": []
    },
    {
      "cell_type": "code",
      "source": [
        "def prams_to_string(parms):\n",
        "  return f'title_parms: w_cosine_similarity {parms[0]}, w_boolean {parms[1]},w_BM25_b_k1_k3_baselog {parms[2:7]}     body_parms: w_cosine_similarity {parms[7]}, w_boolean {parms[8]},w_BM25_b_k1_k3_baselog {parms[9:]}'\n",
        "  \n"
      ],
      "metadata": {
        "id": "Kb1WY-UVDWO_"
      },
      "execution_count": 43,
      "outputs": []
    },
    {
      "cell_type": "code",
      "source": [
        "import requests\n",
        "from time import time\n",
        "url = 'http://34.173.94.228:8080'"
      ],
      "metadata": {
        "id": "lO7XqIlM-FGZ"
      },
      "execution_count": 95,
      "outputs": []
    },
    {
      "cell_type": "markdown",
      "source": [
        "## **result dict by parameters**"
      ],
      "metadata": {
        "id": "CeOVXkRH9kGB"
      }
    },
    {
      "cell_type": "code",
      "source": [
        "result_dict={}"
      ],
      "metadata": {
        "id": "aUmu16A19hZZ"
      },
      "execution_count": 96,
      "outputs": []
    },
    {
      "cell_type": "markdown",
      "source": [
        "## **set parameters**"
      ],
      "metadata": {
        "id": "MrBt6syC-bWK"
      }
    },
    {
      "cell_type": "code",
      "source": [
        "qs_res = []\n",
        "p_title_cosine_similarity = 0\n",
        "p_title_boolean = 0.6\n",
        "p_title_BM25 = 0.7\n",
        "b_title_BM25 =0\n",
        "k1_title_BM25 = 1.75\n",
        "k3_title_BM25 = 1.75\n",
        "base_log_title_BM25 = 10\n",
        "\n",
        "p_body_cosine_similarity = 0\n",
        "p_body_boolean = 0\n",
        "p_body_BM25 = 0.3\n",
        "b_body_BM25 = 0.75\n",
        "k1_body_BM25 = 1.75\n",
        "k3_body_BM25 = 1.75\n",
        "base_log_body_BM25 = 10\n",
        "\n",
        "merge_n=230\n",
        "\n",
        "parameters=[p_title_cosine_similarity,p_title_boolean,p_title_BM25,b_title_BM25,k1_title_BM25,k3_title_BM25,base_log_title_BM25,\n",
        "            p_body_cosine_similarity,p_body_boolean,p_body_BM25,b_body_BM25,k1_body_BM25,k3_body_BM25,base_log_body_BM25,merge_n]\n",
        "\n"
      ],
      "metadata": {
        "id": "UqkmK72Q9fi-"
      },
      "execution_count": 137,
      "outputs": []
    },
    {
      "cell_type": "code",
      "source": [
        "duration, ap = None, None\n",
        "t_start = time()\n",
        "try:\n",
        "  res = requests.post(url+'/set_parameters',json=parameters)\n",
        "  duration = time() - t_start\n",
        "  if res.status_code == 200:\n",
        "    qs_res= res.json()\n",
        "except:\n",
        "  pass\n",
        "  \n",
        "qs_res"
      ],
      "metadata": {
        "colab": {
          "base_uri": "https://localhost:8080/"
        },
        "id": "V-c-Ym6hJ4cD",
        "outputId": "760ad07e-bde0-435a-d399-18d598f0adbd"
      },
      "execution_count": 138,
      "outputs": [
        {
          "output_type": "execute_result",
          "data": {
            "text/plain": [
              "[True]"
            ]
          },
          "metadata": {},
          "execution_count": 138
        }
      ]
    },
    {
      "cell_type": "markdown",
      "source": [
        "## **Auto Tests**\n"
      ],
      "metadata": {
        "id": "CNcS4xcqcaOg"
      }
    },
    {
      "cell_type": "code",
      "source": [
        "import random\n",
        "def get_parameters(parameters):\n",
        "  for i in range(len(parameters)-4):\n",
        "    if i>2 and i<7:\n",
        "      continue\n",
        "    if  random.uniform(0,1)<0.35:\n",
        "      parameters[i]= round(random.uniform(0,1),3)\n",
        "    else:\n",
        "       parameters[i]=0\n",
        "  return parameters"
      ],
      "metadata": {
        "id": "sQ0T7BTgcbFM"
      },
      "execution_count": null,
      "outputs": []
    },
    {
      "cell_type": "code",
      "source": [
        "def set_param(parameters):\n",
        "  duration, ap = None, None\n",
        "  try:\n",
        "    res = requests.post(url+'/set_parameters',json=parameters)\n",
        "    if res.status_code == 200:\n",
        "      qs_res= res.json()\n",
        "  except:\n",
        "    pass"
      ],
      "metadata": {
        "id": "iH3YSmOSgdy_"
      },
      "execution_count": null,
      "outputs": []
    },
    {
      "cell_type": "code",
      "source": [
        "def search():\n",
        "  qs_res = []\n",
        "  for q, true_wids in queries.items():\n",
        "    duration, ap = None, None\n",
        "    t_start = time()\n",
        "    try:\n",
        "      res = requests.get(url + '/search', {'query': q}, timeout=35)\n",
        "      duration = time() - t_start\n",
        "      if res.status_code == 200:\n",
        "        pred_wids, _ = zip(*res.json())\n",
        "        ap = average_precision(true_wids, pred_wids)\n",
        "    except:\n",
        "      pass\n",
        "    \n",
        "    qs_res.append((q, duration, ap))\n",
        "  return(qs_res)"
      ],
      "metadata": {
        "id": "OtGxZpfTg0IE"
      },
      "execution_count": null,
      "outputs": []
    },
    {
      "cell_type": "code",
      "source": [
        "  for i in range(30):\n",
        "    parameters = get_parameters(parameters)\n",
        "    set_param(parameters)\n",
        "    qs_res = search()\n",
        "    result_dict[prams_to_string(parameters)] = avg_time_pres(qs_res)\n",
        "    \n",
        "    \n"
      ],
      "metadata": {
        "id": "TwJQOP-SeS6k"
      },
      "execution_count": null,
      "outputs": []
    },
    {
      "cell_type": "markdown",
      "source": [
        "## **Plot Test Results** "
      ],
      "metadata": {
        "id": "rKPyxqj_mZii"
      }
    },
    {
      "cell_type": "code",
      "source": [
        "from nltk.metrics.scores import precision\n",
        "from matplotlib.pyplot import figure\n",
        "import matplotlib.pyplot as plt\n",
        "import numpy as np\n",
        "\n",
        "\n",
        "labels = result_dict.keys()\n",
        "duration,precision = zip(*result_dict.values())\n",
        "\n",
        "\n",
        "x = np.arange(len(labels))  # the label locations\n",
        "width = 0.35  # the width of the bars\n",
        "\n",
        "fig, ax = plt.subplots()\n",
        "rects1 = ax.bar(x - width/2, duration, width, label='duration')\n",
        "rects2 = ax.bar(x + width/2, precision, width, label='precision')\n",
        "\n",
        "# Add some text for labels, title and custom x-axis tick labels, etc.\n",
        "ax.set_ylabel('Scores')\n",
        "ax.set_title('Results Test')\n",
        "ax.set_xticks(range(len(labels)))\n",
        "ax.legend()\n",
        "\n",
        "for bar in rects1:\n",
        "  height = bar.get_height()\n",
        "  ax.text(bar.get_x() + bar.get_width()/2, height, round(height,3), ha='center', va='bottom',fontsize=7,fontweight='bold')\n",
        "\n",
        "for bar in rects2:\n",
        "  height = bar.get_height()\n",
        "  ax.text(bar.get_x() + bar.get_width()/2, height, round(height,3), ha='center', va='bottom',fontsize=7,fontweight='bold')\n",
        "fig.tight_layout()\n",
        "\n",
        "plt.show()\n",
        "max_key = max(result_dict, key = lambda x: result_dict.get(x)[1])\n",
        "\n",
        "\n",
        "print(result_dict[max_key])\n",
        "print(max_key)"
      ],
      "metadata": {
        "colab": {
          "base_uri": "https://localhost:8080/",
          "height": 862
        },
        "id": "b9r91I1GmXwu",
        "outputId": "7e8305bc-9b8b-4fba-d30c-d119e6899e69"
      },
      "execution_count": null,
      "outputs": [
        {
          "output_type": "display_data",
          "data": {
            "text/plain": [
              "<Figure size 1200x800 with 1 Axes>"
            ],
            "image/png": "[encoded data removed]"
          },
          "metadata": {
            "needs_background": "light"
          }
        },
        {
          "output_type": "stream",
          "name": "stdout",
          "text": [
            "(4.570995008945465, 0.51405)\n",
            "title_parms: w_cosine_similarity 0.471, w_boolean 0.917,w_BM25_b_k1_k3_baselog [0.833, 0.75, 1.75, 1.75, 10]     body_parms: w_cosine_similarity 0.677, w_boolean 0.396,w_BM25_b_k1_k3_baselog [0.732, 0.75, 1.75, 1.75, 10]\n"
          ]
        }
      ]
    },
    {
      "cell_type": "markdown",
      "source": [
        "## **Test search**"
      ],
      "metadata": {
        "id": "-wD0KIGP9-p_"
      }
    },
    {
      "cell_type": "code",
      "source": [
        "\n",
        "# url = 'http://35.232.59.3:8080'\n",
        "# place the domain you got from ngrok or GCP IP below. \n",
        "\n",
        "\n",
        "qs_res = []\n",
        "for q, true_wids in queries.items():\n",
        "  duration, ap = None, None\n",
        "  t_start = time()\n",
        "  try:\n",
        "    res = requests.get(url + '/search', {'query': q}, timeout=35)\n",
        "    duration = time() - t_start\n",
        "    if res.status_code == 200:\n",
        "      pred_wids, _ = zip(*res.json())\n",
        "      ap = average_precision(true_wids, pred_wids)\n",
        "  except:\n",
        "    pass\n",
        "  \n",
        "  qs_res.append((q, duration, ap))\n",
        "  \n"
      ],
      "metadata": {
        "id": "Gatr1Dtm-Cct"
      },
      "execution_count": 134,
      "outputs": []
    },
    {
      "cell_type": "code",
      "source": [
        "qs_res"
      ],
      "metadata": {
        "colab": {
          "base_uri": "https://localhost:8080/"
        },
        "id": "6AxGSP-SB31k",
        "outputId": "92268316-dfa3-421c-a41b-88f270680836"
      },
      "execution_count": 135,
      "outputs": [
        {
          "output_type": "execute_result",
          "data": {
            "text/plain": [
              "[('best marvel movie', 3.6490061283111572, 0.917),\n",
              " ('How do kids come to world?', 5.922337532043457, 0.0),\n",
              " ('Information retrieval', 0.7367570400238037, 1.0),\n",
              " ('LinkedIn', 0.09660196304321289, 0.967),\n",
              " ('How to make coffee?', 1.6775104999542236, 0.0),\n",
              " ('Ritalin', 0.08374190330505371, 0.801),\n",
              " ('How to make wine at home?', 4.284828186035156, 0.0),\n",
              " ('Most expensive city in the world', 7.350297927856445, 0.402),\n",
              " ('India', 1.654405117034912, 0.421),\n",
              " ('how to make money fast?', 2.6384329795837402, 1.0),\n",
              " ('Netflix', 0.1745467185974121, 1.0),\n",
              " ('Apple computer', 1.0287964344024658, 0.667),\n",
              " ('The Simpsons', 0.12407302856445312, 1.0),\n",
              " ('World cup', 5.2275567054748535, 0.486),\n",
              " ('How to lose weight?', 0.9249405860900879, 1.0),\n",
              " ('Java', 0.21521544456481934, 0.96),\n",
              " ('Air Jordan', 1.8426389694213867, 0.599),\n",
              " ('how to deal with depression?', 0.8334581851959229, 0.0),\n",
              " ('How do you make gold', 3.1099720001220703, 1.0),\n",
              " ('Marijuana', 0.12984514236450195, 0.298),\n",
              " ('How to make hummus', 1.4797122478485107, 1.0),\n",
              " ('Winter', 1.1136610507965088, 0.552),\n",
              " ('Rick and Morty', 0.36269545555114746, 1.0),\n",
              " ('Natural Language processing', 1.9338438510894775, 1.0),\n",
              " ('World Cup 2022', 5.384582042694092, 0.634),\n",
              " ('Dolly the sheep', 0.30371665954589844, 0.732),\n",
              " ('Cigarettes', 0.12221837043762207, 1.0),\n",
              " ('What is the best place to live in?', 6.605537176132202, 0.066),\n",
              " ('Elon musk', 0.10915875434875488, 0.398),\n",
              " ('How do you breed flowers?', 0.5721151828765869, 0.722)]"
            ]
          },
          "metadata": {},
          "execution_count": 135
        }
      ]
    },
    {
      "cell_type": "code",
      "source": [
        "avg_time_pres(qs_res)"
      ],
      "metadata": {
        "colab": {
          "base_uri": "https://localhost:8080/"
        },
        "id": "aKuFCaYolK--",
        "outputId": "8fdd71eb-0f21-42cf-d2c9-3a47da834b3f"
      },
      "execution_count": 136,
      "outputs": [
        {
          "output_type": "execute_result",
          "data": {
            "text/plain": [
              "(1.9897401094436646, 0.6540666666666667)"
            ]
          },
          "metadata": {},
          "execution_count": 136
        }
      ]
    },
    {
      "cell_type": "code",
      "source": [
        "result_dict[prams_to_string(parameters)] = avg_time_pres(qs_res)"
      ],
      "metadata": {
        "id": "bNlaCcfx-LPU"
      },
      "execution_count": null,
      "outputs": []
    },
    {
      "cell_type": "code",
      "source": [
        "result_dict "
      ],
      "metadata": {
        "colab": {
          "base_uri": "https://localhost:8080/"
        },
        "id": "78PqsrTRG6gQ",
        "outputId": "4ac1a4fc-cd4b-437d-a688-c3ed8d7b4846"
      },
      "execution_count": null,
      "outputs": [
        {
          "output_type": "execute_result",
          "data": {
            "text/plain": [
              "{'title_parms: w_cosine_similarity 0, w_boolean 0.6,w_BM25_b_k1_k3_baselog [0, 0, 1.75, 1.75, 10]     body_parms: w_cosine_similarity 0, w_boolean 0,w_BM25_b_k1_k3_baselog [0.4, 0.75, 1.75, 1.75, 10]': (2.2836541175842284,\n",
              "  0.4268)}"
            ]
          },
          "metadata": {},
          "execution_count": 89
        }
      ]
    },
    {
      "cell_type": "markdown",
      "source": [
        "## **Test search_body**"
      ],
      "metadata": {
        "id": "e-lvloy_97TN"
      }
    },
    {
      "cell_type": "code",
      "source": [
        "qs_res = []\n",
        "for q, true_wids in queries.items():\n",
        "  duration, ap = None, None\n",
        "  t_start = time()\n",
        "  try:\n",
        "    res = requests.get(url + '/search_body', {'query': q}, timeout=35)\n",
        "    duration = time() - t_start\n",
        "    if res.status_code == 200:\n",
        "      pred_wids, _ = zip(*res.json())\n",
        "      ap = average_precision(true_wids, pred_wids)\n",
        "  except:\n",
        "    pass\n",
        "  \n",
        "  qs_res.append((q, duration, ap))"
      ],
      "metadata": {
        "id": "gsaD3VfS9GkB"
      },
      "execution_count": null,
      "outputs": []
    },
    {
      "cell_type": "code",
      "source": [
        "qs_res"
      ],
      "metadata": {
        "colab": {
          "base_uri": "https://localhost:8080/"
        },
        "id": "NBeoYHKlncb9",
        "outputId": "cd457f21-d31f-4ad6-b3f3-371f57e40e47"
      },
      "execution_count": null,
      "outputs": [
        {
          "output_type": "execute_result",
          "data": {
            "text/plain": [
              "[('best marvel movie', 2.6888821125030518, 0.221),\n",
              " ('How do kids come to world?', 4.359713792800903, 0.037),\n",
              " ('Information retrieval', 1.2467851638793945, 0.376),\n",
              " ('LinkedIn', 0.32838964462280273, 0.815),\n",
              " ('How to make coffee?', 1.7823688983917236, 0.505),\n",
              " ('Ritalin', 0.32057785987854004, 0.712),\n",
              " ('How to make wine at home?', 3.7062108516693115, 0.249),\n",
              " ('Most expensive city in the world', 6.143420457839966, 1.0),\n",
              " ('India', 1.1721875667572021, 0.263),\n",
              " ('how to make money fast?', 2.4201366901397705, 0.276),\n",
              " ('Netflix', 0.3690643310546875, 0.712),\n",
              " ('Apple computer', 0.822045087814331, 0.508),\n",
              " ('The Simpsons', 0.3415541648864746, 0.192),\n",
              " ('World cup', 4.317164659500122, 0.54),\n",
              " ('How to lose weight?', 0.7297241687774658, 0.288),\n",
              " ('Java', 0.3810234069824219, 0.407),\n",
              " ('Air Jordan', 1.3638386726379395, 0.421),\n",
              " ('how to deal with depression?', 0.9454023838043213, 0.323),\n",
              " ('How do you make gold', 2.374253273010254, 0.385),\n",
              " ('Marijuana', 0.3480856418609619, 0.081),\n",
              " ('How to make hummus', 1.6905841827392578, 0.809),\n",
              " ('Winter', 0.8574564456939697, 0.335),\n",
              " ('Rick and Morty', 0.46031737327575684, 0.628),\n",
              " ('Natural Language processing', 1.8218657970428467, 0.367),\n",
              " ('World Cup 2022', 4.5374016761779785, 0.038),\n",
              " ('Dolly the sheep', 0.4458787441253662, 0.534),\n",
              " ('Ciggarets', 0.319347620010376, None),\n",
              " ('What is the best place to live in?', 5.256739377975464, 0.0),\n",
              " ('Elon musk', 0.33922553062438965, 0.494),\n",
              " ('How do you breed flowers?', 0.5886294841766357, 0.033)]"
            ]
          },
          "metadata": {},
          "execution_count": 91
        }
      ]
    },
    {
      "cell_type": "code",
      "source": [
        "avg_time_pres(qs_res)"
      ],
      "metadata": {
        "colab": {
          "base_uri": "https://localhost:8080/"
        },
        "id": "8l-Rn-DR-1Mk",
        "outputId": "8ef505a0-95a8-4300-b025-07a528003689"
      },
      "execution_count": null,
      "outputs": [
        {
          "output_type": "execute_result",
          "data": {
            "text/plain": [
              "(1.749275835355123, 0.3849666666666666)"
            ]
          },
          "metadata": {},
          "execution_count": 92
        }
      ]
    },
    {
      "cell_type": "markdown",
      "source": [
        "## **Test search_title**"
      ],
      "metadata": {
        "id": "Gp0Wc-mu9s63"
      }
    },
    {
      "cell_type": "code",
      "source": [
        "qs_res = []\n",
        "for q, true_wids in queries.items():\n",
        "  duration, ap = None, None\n",
        "  t_start = time()\n",
        "  try:\n",
        "    res = requests.get(url + '/search_title', {'query': q}, timeout=35)\n",
        "    duration = time() - t_start\n",
        "    if res.status_code == 200:\n",
        "      pred_wids, _ = zip(*res.json())\n",
        "      ap = average_precision(true_wids, pred_wids)\n",
        "  except:\n",
        "    pass\n",
        "  \n",
        "  qs_res.append((q, duration, ap))"
      ],
      "metadata": {
        "id": "xIzj0oIo-3bR"
      },
      "execution_count": null,
      "outputs": []
    },
    {
      "cell_type": "code",
      "source": [
        "qs_res"
      ],
      "metadata": {
        "colab": {
          "base_uri": "https://localhost:8080/"
        },
        "id": "cTE9HXfTndfG",
        "outputId": "546e5de8-cca0-410a-e985-fa79619bbbe1"
      },
      "execution_count": null,
      "outputs": [
        {
          "output_type": "execute_result",
          "data": {
            "text/plain": [
              "[('best marvel movie', 1.186560869216919, 0.0),\n",
              " ('How do kids come to world?', 1.6448984146118164, 0.097),\n",
              " ('Information retrieval', 0.8095262050628662, 0.817),\n",
              " ('LinkedIn', 0.31943368911743164, 1.0),\n",
              " ('How to make coffee?', 0.6507124900817871, 0.284),\n",
              " ('Ritalin', 0.3190593719482422, 1.0),\n",
              " ('How to make wine at home?', 0.9993784427642822, 0.0),\n",
              " ('Most expensive city in the world', 1.8301446437835693, 0.25),\n",
              " ('India', 1.003746747970581, 0.433),\n",
              " ('how to make money fast?', 0.8107409477233887, 0.616),\n",
              " ('Netflix', 0.3197157382965088, 0.557),\n",
              " ('Apple computer', 0.8113000392913818, 0.622),\n",
              " ('The Simpsons', 0.32015538215637207, 0.546),\n",
              " ('World cup', 1.8495383262634277, 0.408),\n",
              " ('How to lose weight?', 0.47997331619262695, 0.0),\n",
              " ('Java', 0.4779019355773926, 0.642),\n",
              " ('Air Jordan', 1.1833832263946533, 0.756),\n",
              " ('how to deal with depression?', 0.4838869571685791, 0.0),\n",
              " ('How do you make gold', 0.9706940650939941, 0.416),\n",
              " ('Marijuana', 0.3211393356323242, 0.842),\n",
              " ('How to make hummus', 0.6385974884033203, 0.833),\n",
              " ('Winter', 1.1412718296051025, 0.36),\n",
              " ('Rick and Morty', 0.6419687271118164, 0.908),\n",
              " ('Natural Language processing', 1.2006938457489014, 0.903),\n",
              " ('World Cup 2022', 1.8485522270202637, 0.568),\n",
              " ('Dolly the sheep', 0.48592185974121094, 0.69),\n",
              " ('Ciggarets', 0.3192484378814697, None),\n",
              " ('What is the best place to live in?', 1.3511512279510498, 0.0),\n",
              " ('Elon musk', 0.31984972953796387, 0.695),\n",
              " ('How do you breed flowers?', 0.4867429733276367, 0.0)]"
            ]
          },
          "metadata": {},
          "execution_count": 94
        }
      ]
    },
    {
      "cell_type": "code",
      "source": [
        "avg_time_pres(qs_res)"
      ],
      "metadata": {
        "colab": {
          "base_uri": "https://localhost:8080/"
        },
        "id": "4hXnKJH99GrA",
        "outputId": "bb84a663-58bc-4f03-ebbc-079b69b2efe1"
      },
      "execution_count": null,
      "outputs": [
        {
          "output_type": "execute_result",
          "data": {
            "text/plain": [
              "(0.8408629496892294, 0.47476666666666667)"
            ]
          },
          "metadata": {},
          "execution_count": 95
        }
      ]
    },
    {
      "cell_type": "markdown",
      "source": [
        "## **Test search_anchor**"
      ],
      "metadata": {
        "id": "sMMV1wzQ9zNI"
      }
    },
    {
      "cell_type": "code",
      "source": [
        "qs_res = []\n",
        "for q, true_wids in queries.items():\n",
        "  duration, ap = None, None\n",
        "  t_start = time()\n",
        "  try:\n",
        "    res = requests.get(url + '/search_anchor', {'query': q}, timeout=35)\n",
        "    duration = time() - t_start\n",
        "    if res.status_code == 200:\n",
        "      pred_wids, _ = zip(*res.json())\n",
        "      ap = average_precision(true_wids, pred_wids)\n",
        "  except:\n",
        "    pass\n",
        "  \n",
        "  qs_res.append((q, duration, ap))"
      ],
      "metadata": {
        "id": "jxx7MJc29GzG"
      },
      "execution_count": null,
      "outputs": []
    },
    {
      "cell_type": "code",
      "source": [
        "qs_res"
      ],
      "metadata": {
        "colab": {
          "base_uri": "https://localhost:8080/"
        },
        "id": "YfKA6WBV_EbH",
        "outputId": "de261b2c-54ac-4614-f960-e5c57844ba55"
      },
      "execution_count": null,
      "outputs": [
        {
          "output_type": "execute_result",
          "data": {
            "text/plain": [
              "[('best marvel movie', 2.5895748138427734, 0.211),\n",
              " ('How do kids come to world?', 3.4236786365509033, 0.0),\n",
              " ('Information retrieval', 1.4278738498687744, 0.539),\n",
              " ('LinkedIn', 0.8411605358123779, 0.0),\n",
              " ('How to make coffee?', 1.3876454830169678, 0.0),\n",
              " ('Ritalin', 0.34062910079956055, 1.0),\n",
              " ('How to make wine at home?', 1.9492156505584717, 0.0),\n",
              " ('Most expensive city in the world', 5.010385751724243, 0.0),\n",
              " ('India', 1.7032344341278076, 0.0),\n",
              " ('how to make money fast?', 1.3944618701934814, 0.0),\n",
              " ('Netflix', 1.1800377368927002, 0.0),\n",
              " ('Apple computer', 1.8347883224487305, 0.058),\n",
              " ('The Simpsons', 0.859311580657959, 0.0),\n",
              " ('World cup', 4.478655576705933, 0.0),\n",
              " ('How to lose weight?', 0.6719150543212891, 1.0),\n",
              " ('Java', 1.0633227825164795, 0.0),\n",
              " ('Air Jordan', 2.4306509494781494, 0.0),\n",
              " ('how to deal with depression?', 1.1879346370697021, 0.0),\n",
              " ('How do you make gold', 1.6291918754577637, 0.0),\n",
              " ('Marijuana', 0.3364853858947754, 0.408),\n",
              " ('How to make hummus', 1.1945891380310059, 0.75),\n",
              " ('Winter', 1.4947640895843506, 0.0),\n",
              " ('Rick and Morty', 1.319458246231079, 0.395),\n",
              " ('Natural Language processing', 1.9261395931243896, 0.0),\n",
              " ('World Cup 2022', 4.4825522899627686, 0.0),\n",
              " ('Dolly the sheep', 0.6713860034942627, 0.516),\n",
              " ('Ciggarets', 0.31967973709106445, None),\n",
              " ('What is the best place to live in?', 2.813646078109741, 0.0),\n",
              " ('Elon musk', 0.35677003860473633, 0.625),\n",
              " ('How do you breed flowers?', 1.020263433456421, 0.097)]"
            ]
          },
          "metadata": {},
          "execution_count": 97
        }
      ]
    },
    {
      "cell_type": "code",
      "source": [
        "avg_time_pres(qs_res)"
      ],
      "metadata": {
        "colab": {
          "base_uri": "https://localhost:8080/"
        },
        "id": "Hha4GQDn2oCu",
        "outputId": "1b90d298-45cd-4c98-efae-9c941797133c"
      },
      "execution_count": null,
      "outputs": [
        {
          "output_type": "execute_result",
          "data": {
            "text/plain": [
              "(1.7113134225209554, 0.18663333333333335)"
            ]
          },
          "metadata": {},
          "execution_count": 98
        }
      ]
    },
    {
      "cell_type": "markdown",
      "source": [
        "## **Test Page Rank**"
      ],
      "metadata": {
        "id": "-m5bHO0O9o6p"
      }
    },
    {
      "cell_type": "code",
      "source": [
        "qs_res = []\n",
        "lst = [100,200,300,565677,54656,89897]\n",
        "\n",
        "duration, ap = None, None\n",
        "t_start = time()\n",
        "try:\n",
        "  res = requests.post(url+'/get_pagerank',json=lst)\n",
        "  duration = time() - t_start\n",
        "  if res.status_code == 200:\n",
        "    qs_res= res.json()\n",
        "except:\n",
        "  pass\n",
        "  \n",
        "qs_res"
      ],
      "metadata": {
        "colab": {
          "base_uri": "https://localhost:8080/"
        },
        "id": "cbmkpYRU9G9f",
        "outputId": "68e837d6-cc4b-4f0c-b165-aaccf8735d4d"
      },
      "execution_count": null,
      "outputs": [
        {
          "output_type": "execute_result",
          "data": {
            "text/plain": [
              "[[100, 0.0],\n",
              " [200, 0.0],\n",
              " [300, 0.0],\n",
              " [565677, 0.5988047365295416],\n",
              " [54656, 0.0],\n",
              " [89897, 0.0]]"
            ]
          },
          "metadata": {},
          "execution_count": 99
        }
      ]
    },
    {
      "cell_type": "markdown",
      "source": [
        "## **Test Page View**"
      ],
      "metadata": {
        "id": "nwwHip4a9IqF"
      }
    },
    {
      "cell_type": "code",
      "source": [
        "qs_res = []\n",
        "lst = [100,200,300,565677,54656,89897]\n",
        "\n",
        "duration, ap = None, None\n",
        "t_start = time()\n",
        "try:\n",
        "  res = requests.post(url+'/get_pageview',json=lst)\n",
        "  duration = time() - t_start\n",
        "  if res.status_code == 200:\n",
        "    qs_res= res.json()\n",
        "except:\n",
        "  pass\n",
        "  \n",
        "qs_res"
      ],
      "metadata": {
        "id": "dYmNTq9u0ChK",
        "colab": {
          "base_uri": "https://localhost:8080/"
        },
        "outputId": "f9a174f8-9f3d-48e3-bb0b-ee1cdf65a21b"
      },
      "execution_count": null,
      "outputs": [
        {
          "output_type": "execute_result",
          "data": {
            "text/plain": [
              "[[100, 0.0],\n",
              " [200, 0.0],\n",
              " [300, 0.0],\n",
              " [565677, 1719],\n",
              " [54656, 0.0],\n",
              " [89897, 0.0]]"
            ]
          },
          "metadata": {},
          "execution_count": 100
        }
      ]
    }
  ]
}