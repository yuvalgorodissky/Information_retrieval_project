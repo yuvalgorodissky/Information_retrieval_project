{
  "nbformat": 4,
  "nbformat_minor": 0,
  "metadata": {
    "colab": {
      "name": "run_frontend_in_colab.ipynb",
      "provenance": []
    },
    "kernelspec": {
      "name": "python3",
      "display_name": "Python 3"
    },
    "language_info": {
      "name": "python"
    }
  },
  "cells": [
    {
      "cell_type": "markdown",
      "source": [
        "# Testing your app\n",
        "\n",
        "Once your app is running you can query it. You can simply do that by navigating to the URL that ngrok gave you above or through code in a different python session. For example, once the frontend app is running, you can navigate to:\n",
        "http://YOUR_SERVER_DOMAIN/search?query=hello+world where YOUR_SERVER_DOMAIN is something like XXXX-XX-XX-XX-XX.ngrok.io, which is printed above in Colab or that is your external IP on GCP.\n",
        "\n",
        "The code below shows how to issue a query from python. This is also how our testing code will issue queries to your search engine, so make sure to test your search engine this way after you deploy it to GCP and before submission. Command line instructions for deploying your search engine to GCP are available at `run_frontend_in_gcp.sh`. Note that we will not only issue training queries to your search engine, but also test queries, i.e. queries that you've never seen before."
      ],
      "metadata": {
        "id": "Na0MC_1nzDbi"
      }
    },
    {
      "cell_type": "code",
      "source": [
        "import json\n",
        "\n",
        "with open('queries_train.json', 'rt') as f:\n",
        "  queries = dict(list(json.load(f).items())[:20])\n",
        "  # queries = json.load(f)"
      ],
      "metadata": {
        "id": "EM5ePrRHojbG"
      },
      "execution_count": 15,
      "outputs": []
    },
    {
      "cell_type": "code",
      "source": [
        "def average_precision(true_list, predicted_list, k=40):\n",
        "    true_set = frozenset(true_list)\n",
        "    predicted_list = predicted_list[:k]\n",
        "    precisions = []\n",
        "    for i,doc_id in enumerate(predicted_list):        \n",
        "        if doc_id in true_set:\n",
        "            prec = (len(precisions)+1) / (i+1)            \n",
        "            precisions.append(prec)\n",
        "    if len(precisions) == 0:\n",
        "        return 0.0\n",
        "    return round(sum(precisions)/len(precisions),3)"
      ],
      "metadata": {
        "id": "gWimZWCOy3Ei"
      },
      "execution_count": 16,
      "outputs": []
    },
    {
      "cell_type": "code",
      "source": [
        "def avg_time_pres(qs):\n",
        "  return sum([time for _,time,_ in qs])/len(qs),sum([pres for _,_,pres in qs if pres!= None])/(len(qs))\n"
      ],
      "metadata": {
        "id": "ZWxHZJOynZhy"
      },
      "execution_count": 17,
      "outputs": []
    },
    {
      "cell_type": "code",
      "source": [
        "def prams_to_string(parms):\n",
        "  return f'title_parms: w_cosine_similarity {parms[0]}, w_boolean {parms[1]},w_BM25_b_k1_k3_baselog {parms[2:7]}     body_parms: w_cosine_similarity {parms[7]}, w_boolean {parms[8]},w_BM25_b_k1_k3_baselog {parms[9:14]}'\n",
        "  \n"
      ],
      "metadata": {
        "id": "Kb1WY-UVDWO_"
      },
      "execution_count": 18,
      "outputs": []
    },
    {
      "cell_type": "code",
      "source": [
        "import requests\n",
        "from time import time\n",
        "url = 'http://34.173.94.228:8080'"
      ],
      "metadata": {
        "id": "lO7XqIlM-FGZ"
      },
      "execution_count": 19,
      "outputs": []
    },
    {
      "cell_type": "markdown",
      "source": [
        "## **result dict by parameters**"
      ],
      "metadata": {
        "id": "CeOVXkRH9kGB"
      }
    },
    {
      "cell_type": "code",
      "source": [
        "result_dict={}"
      ],
      "metadata": {
        "id": "aUmu16A19hZZ"
      },
      "execution_count": 20,
      "outputs": []
    },
    {
      "cell_type": "markdown",
      "source": [
        "## **set parameters**"
      ],
      "metadata": {
        "id": "MrBt6syC-bWK"
      }
    },
    {
      "cell_type": "code",
      "source": [
        "def get_init_param():\n",
        "  p_title_cosine_similarity = 0\n",
        "  p_title_boolean = 0\n",
        "  p_title_BM25 = 0\n",
        "  b_title_BM25 = 0\n",
        "  k1_title_BM25 = 0\n",
        "  k3_title_BM25 = 0\n",
        "  base_log_title_BM25 = 0\n",
        "\n",
        "  p_body_cosine_similarity = 0\n",
        "  p_body_boolean = 0\n",
        "  p_body_BM25 = 0\n",
        "  b_body_BM25 = 0\n",
        "  k1_body_BM25 = 0\n",
        "  k3_body_BM25 = 0\n",
        "  base_log_body_BM25 = 0\n",
        "\n",
        "  merge_n=0\n",
        "\n",
        "  parameters=[p_title_cosine_similarity,p_title_boolean,p_title_BM25,b_title_BM25,k1_title_BM25,k3_title_BM25,base_log_title_BM25,\n",
        "              p_body_cosine_similarity,p_body_boolean,p_body_BM25,b_body_BM25,k1_body_BM25,k3_body_BM25,base_log_body_BM25,merge_n]\n",
        "  return parameters\n",
        "\n"
      ],
      "metadata": {
        "id": "UqkmK72Q9fi-"
      },
      "execution_count": 21,
      "outputs": []
    },
    {
      "cell_type": "code",
      "source": [
        "duration, ap = None, None\n",
        "t_start = time()\n",
        "qs_res=None\n",
        "try:\n",
        "  res = requests.post(url+'/set_parameters',json=get_init_param())\n",
        "  duration = time() - t_start\n",
        "  if res.status_code == 200:\n",
        "    qs_res= res.json()\n",
        "except:\n",
        "  pass\n",
        "qs_res"
      ],
      "metadata": {
        "colab": {
          "base_uri": "https://localhost:8080/"
        },
        "id": "V-c-Ym6hJ4cD",
        "outputId": "8be602e4-d22a-4289-a102-68ec406862cc"
      },
      "execution_count": 22,
      "outputs": [
        {
          "output_type": "execute_result",
          "data": {
            "text/plain": [
              "[True]"
            ]
          },
          "metadata": {},
          "execution_count": 22
        }
      ]
    },
    {
      "cell_type": "markdown",
      "source": [
        "## **Auto Tests**\n"
      ],
      "metadata": {
        "id": "CNcS4xcqcaOg"
      }
    },
    {
      "cell_type": "markdown",
      "source": [
        "### **Choose model**\n"
      ],
      "metadata": {
        "id": "EyI-9hoen9k_"
      }
    },
    {
      "cell_type": "code",
      "source": [
        "import random\n",
        "def get_parameters_Choose_model():\n",
        "  parameters=get_init_param()\n",
        "  parameters[0]=random.randint(0, 2)\n",
        "  parameters[1]=random.randint(0, 2)\n",
        "  parameters[2]=random.randint(0, 2)\n",
        "  parameters[3]=0.75\n",
        "  parameters[4]=1.75\n",
        "  parameters[5]=1.75\n",
        "  parameters[6]=10\n",
        "  parameters[7]=random.randint(0, 2)\n",
        "  parameters[8]=random.randint(0, 2)\n",
        "  parameters[9]=random.randint(0, 2)\n",
        "  parameters[10]=0.75\n",
        "  parameters[11]=1.75\n",
        "  parameters[12]=1.75\n",
        "  parameters[13]=10\n",
        "\n",
        "  return parameters"
      ],
      "metadata": {
        "id": "sQ0T7BTgcbFM"
      },
      "execution_count": 23,
      "outputs": []
    },
    {
      "cell_type": "code",
      "source": [
        "def set_param(parameters):\n",
        "  duration, ap = None, None\n",
        "  t_start = time()\n",
        "  qs_res=None\n",
        "  try:\n",
        "    res = requests.post(url+'/set_parameters',json=parameters)\n",
        "    duration = time() - t_start\n",
        "    if res.status_code == 200:\n",
        "      qs_res= res.json()\n",
        "  except:\n",
        "    pass\n",
        "  print(qs_res)"
      ],
      "metadata": {
        "id": "iH3YSmOSgdy_"
      },
      "execution_count": 24,
      "outputs": []
    },
    {
      "cell_type": "code",
      "source": [
        "def search():\n",
        "  qs_res = []\n",
        "  for q, true_wids in queries.items():\n",
        "    duration, ap = None, None\n",
        "    t_start = time()\n",
        "    try:\n",
        "      res = requests.get(url + '/search', {'query': q}, timeout=35)\n",
        "      duration = time() - t_start\n",
        "      if res.status_code == 200:\n",
        "        pred_wids, _ = zip(*res.json())\n",
        "        ap = average_precision(true_wids, pred_wids)\n",
        "    except:\n",
        "      pass\n",
        "    \n",
        "    qs_res.append((q, duration, ap))\n",
        "  return(qs_res)"
      ],
      "metadata": {
        "id": "OtGxZpfTg0IE"
      },
      "execution_count": 25,
      "outputs": []
    },
    {
      "cell_type": "code",
      "source": [
        "for a in range(2):\n",
        "  for b in range(2):\n",
        "    for c in range(2):\n",
        "        for d in range(2):\n",
        "            for e in range(2):\n",
        "                if (a+b+c+d+e==0):\n",
        "                  continue\n",
        "                parameters = get_parameters_Choose_model()\n",
        "                parameters[0]=0\n",
        "                parameters[1]=b\n",
        "                parameters[2]=c\n",
        "                parameters[7]=d\n",
        "                parameters[8]=e\n",
        "                parameters[9]=a   \n",
        "                set_param(parameters)\n",
        "                qs_res = search()\n",
        "                print(qs_res)\n",
        "                print(parameters)\n",
        "                result_dict[prams_to_string(parameters)] = avg_time_pres(qs_res)\n",
        "\n",
        "\n"
      ],
      "metadata": {
        "id": "TwJQOP-SeS6k",
        "colab": {
          "base_uri": "https://localhost:8080/"
        },
        "outputId": "9e1fb6a9-0fc5-4847-9c5a-911548fe0219"
      },
      "execution_count": 26,
      "outputs": [
        {
          "output_type": "stream",
          "name": "stdout",
          "text": [
            "[True]\n",
            "[('best marvel movie', 2.7233879566192627, 0.0), ('How do kids come to world?', 3.779963493347168, 0.0), ('Information retrieval', 0.607119083404541, 0.0), ('LinkedIn', 0.11441683769226074, 0.0), ('How to make coffee?', 1.1907422542572021, 0.0), ('Ritalin', 0.10592365264892578, 0.113), ('How to make wine at home?', 2.8662478923797607, 0.0), ('Most expensive city in the world', 5.480297565460205, 0.0), ('India', 1.2050554752349854, 0.0), ('how to make money fast?', 1.9793431758880615, 0.0), ('Netflix', 0.1540384292602539, 0.0), ('Apple computer', 0.8240542411804199, 0.196), ('The Simpsons', 0.15505337715148926, 0.0), ('World cup', 3.530168294906616, 0.0), ('How to lose weight?', 0.6985175609588623, 0.0), ('Java', 0.15735793113708496, 0.0), ('Air Jordan', 0.8711552619934082, 0.0), ('how to deal with depression?', 0.3964071273803711, 0.0), ('How do you make gold', 1.0999383926391602, 0.0), ('Marijuana', 0.12000036239624023, 0.0)]\n",
            "[0, 0, 0, 0.75, 1.75, 1.75, 10, 0, 1, 0, 0.75, 1.75, 1.75, 10, 0]\n",
            "[True]\n",
            "[('best marvel movie', 1.807063341140747, 0.229), ('How do kids come to world?', 2.821984052658081, 0.077), ('Information retrieval', 0.36573028564453125, 0.635), ('LinkedIn', 0.09498333930969238, 0.819), ('How to make coffee?', 0.8070509433746338, 0.506), ('Ritalin', 0.08806586265563965, 0.719), ('How to make wine at home?', 2.1287076473236084, 0.212), ('Most expensive city in the world', 3.339216947555542, 0.0), ('India', 0.8588168621063232, 0.282), ('how to make money fast?', 1.297908067703247, 0.278), ('Netflix', 0.13095498085021973, 0.869), ('Apple computer', 0.5606627464294434, 0.508), ('The Simpsons', 0.10811352729797363, 0.165), ('World cup', 2.405268907546997, 0.077), ('How to lose weight?', 0.5321450233459473, 0.288), ('Java', 0.14894485473632812, 0.39), ('Air Jordan', 0.9396848678588867, 1.0), ('how to deal with depression?', 0.4380459785461426, 0.383), ('How do you make gold', 1.55401611328125, 0.388), ('Marijuana', 0.11539602279663086, 0.19)]\n",
            "[0, 0, 0, 0.75, 1.75, 1.75, 10, 1, 0, 0, 0.75, 1.75, 1.75, 10, 0]\n",
            "[True]\n",
            "[('best marvel movie', 2.617125988006592, 0.192), ('How do kids come to world?', 4.171765327453613, 0.071), ('Information retrieval', 0.5553936958312988, 0.55), ('LinkedIn', 0.09716272354125977, 0.819), ('How to make coffee?', 1.200498104095459, 0.461), ('Ritalin', 0.08849120140075684, 0.719), ('How to make wine at home?', 3.030653476715088, 0.167), ('Most expensive city in the world', 5.128128528594971, 0.0), ('India', 1.209303855895996, 0.216), ('how to make money fast?', 1.943826675415039, 0.225), ('Netflix', 0.1464681625366211, 0.869), ('Apple computer', 0.7449021339416504, 0.54), ('The Simpsons', 0.11594200134277344, 0.165), ('World cup', 3.5668251514434814, 0.071), ('How to lose weight?', 0.6728739738464355, 0.629), ('Java', 0.16759729385375977, 0.39), ('Air Jordan', 1.3186700344085693, 1.0), ('how to deal with depression?', 0.6101350784301758, 0.352), ('How do you make gold', 2.280998706817627, 0.365), ('Marijuana', 0.12405252456665039, 0.19)]\n",
            "[0, 0, 0, 0.75, 1.75, 1.75, 10, 1, 1, 0, 0.75, 1.75, 1.75, 10, 0]\n",
            "[True]\n",
            "[('best marvel movie', 0.15522122383117676, 0.0), ('How do kids come to world?', 0.3236517906188965, 0.0), ('Information retrieval', 0.13453125953674316, 0.811), ('LinkedIn', 0.1262199878692627, 1.0), ('How to make coffee?', 0.11600494384765625, 0.525), ('Ritalin', 0.10586905479431152, 1.0), ('How to make wine at home?', 0.13463664054870605, 0.04), ('Most expensive city in the world', 0.28321146965026855, 0.088), ('India', 0.14644956588745117, 0.277), ('how to make money fast?', 0.14142608642578125, 1.0), ('Netflix', 0.11002826690673828, 0.613), ('Apple computer', 0.14405131340026855, 0.806), ('The Simpsons', 0.09958052635192871, 0.521), ('World cup', 0.2858452796936035, 1.0), ('How to lose weight?', 0.12185215950012207, 0.0), ('Java', 0.09077811241149902, 0.346), ('Air Jordan', 0.1492459774017334, 0.833), ('how to deal with depression?', 0.16076350212097168, 0.122), ('How do you make gold', 0.14632654190063477, 0.036), ('Marijuana', 0.10878920555114746, 0.344)]\n",
            "[0, 0, 1, 0.75, 1.75, 1.75, 10, 0, 0, 0, 0.75, 1.75, 1.75, 10, 0]\n",
            "[True]\n",
            "[('best marvel movie', 1.169060230255127, 0.0), ('How do kids come to world?', 1.8625507354736328, 0.0), ('Information retrieval', 0.30530714988708496, 0.759), ('LinkedIn', 0.09063458442687988, 1.0), ('How to make coffee?', 0.5548348426818848, 0.461), ('Ritalin', 0.08807229995727539, 0.293), ('How to make wine at home?', 1.3250250816345215, 0.039), ('Most expensive city in the world', 2.3635478019714355, 0.084), ('India', 0.516742467880249, 0.237), ('how to make money fast?', 0.8531124591827393, 1.0), ('Netflix', 0.11074662208557129, 0.613), ('Apple computer', 0.34972071647644043, 0.419), ('The Simpsons', 0.09893560409545898, 0.521), ('World cup', 1.7821569442749023, 1.0), ('How to lose weight?', 0.328749418258667, 0.467), ('Java', 0.12157559394836426, 0.346), ('Air Jordan', 0.6093008518218994, 0.75), ('how to deal with depression?', 0.30849504470825195, 0.111), ('How do you make gold', 1.0093891620635986, 0.034), ('Marijuana', 0.0993504524230957, 0.344)]\n",
            "[0, 0, 1, 0.75, 1.75, 1.75, 10, 0, 1, 0, 0.75, 1.75, 1.75, 10, 0]\n",
            "[True]\n",
            "[('best marvel movie', 1.7748501300811768, 0.208), ('How do kids come to world?', 2.8545517921447754, 0.037), ('Information retrieval', 0.3674125671386719, 0.839), ('LinkedIn', 0.09372949600219727, 0.879), ('How to make coffee?', 0.8047988414764404, 0.525), ('Ritalin', 0.08887624740600586, 0.719), ('How to make wine at home?', 2.07721209526062, 0.381), ('Most expensive city in the world', 3.3876304626464844, 0.037), ('India', 0.8428654670715332, 0.273), ('how to make money fast?', 1.3235960006713867, 0.379), ('Netflix', 0.13582825660705566, 0.759), ('Apple computer', 0.5359053611755371, 0.528), ('The Simpsons', 0.10887694358825684, 0.398), ('World cup', 2.5402450561523438, 0.322), ('How to lose weight?', 0.5027115345001221, 0.389), ('Java', 0.15462660789489746, 0.374), ('Air Jordan', 0.9803390502929688, 0.475), ('how to deal with depression?', 0.4475862979888916, 0.307), ('How do you make gold', 1.5730080604553223, 0.388), ('Marijuana', 0.11152958869934082, 0.402)]\n",
            "[0, 0, 1, 0.75, 1.75, 1.75, 10, 1, 0, 0, 0.75, 1.75, 1.75, 10, 0]\n",
            "[True]\n",
            "[('best marvel movie', 2.6409239768981934, 0.208), ('How do kids come to world?', 4.208211660385132, 0.037), ('Information retrieval', 0.5725212097167969, 0.829), ('LinkedIn', 0.09723210334777832, 0.879), ('How to make coffee?', 1.2246668338775635, 0.525), ('Ritalin', 0.08905768394470215, 0.719), ('How to make wine at home?', 2.971928834915161, 0.381), ('Most expensive city in the world', 5.288068532943726, 0.036), ('India', 1.1940815448760986, 0.273), ('how to make money fast?', 1.9528396129608154, 0.379), ('Netflix', 0.15307283401489258, 0.759), ('Apple computer', 0.7429556846618652, 0.521), ('The Simpsons', 0.1205129623413086, 0.398), ('World cup', 3.742687702178955, 0.322), ('How to lose weight?', 0.7009625434875488, 0.638), ('Java', 0.1782386302947998, 0.374), ('Air Jordan', 1.3356666564941406, 0.475), ('how to deal with depression?', 0.6338992118835449, 0.307), ('How do you make gold', 2.28875470161438, 0.388), ('Marijuana', 0.1250605583190918, 0.402)]\n",
            "[0, 0, 1, 0.75, 1.75, 1.75, 10, 1, 1, 0, 0.75, 1.75, 1.75, 10, 0]\n",
            "[True]\n",
            "[('best marvel movie', 0.10174798965454102, 0.0), ('How do kids come to world?', 0.14580154418945312, 0.048), ('Information retrieval', 0.09065485000610352, 0.89), ('LinkedIn', 0.08604288101196289, 1.0), ('How to make coffee?', 0.0888667106628418, 0.321), ('Ritalin', 0.08647418022155762, 1.0), ('How to make wine at home?', 0.09495759010314941, 0.0), ('Most expensive city in the world', 0.1696300506591797, 0.25), ('India', 0.0948178768157959, 0.337), ('how to make money fast?', 0.09138369560241699, 0.515), ('Netflix', 0.08681392669677734, 0.511), ('Apple computer', 0.09091997146606445, 0.455), ('The Simpsons', 0.08757996559143066, 0.674), ('World cup', 0.17564105987548828, 0.772), ('How to lose weight?', 0.08781790733337402, 0.0), ('Java', 0.08723902702331543, 0.674), ('Air Jordan', 0.1018218994140625, 0.7), ('how to deal with depression?', 0.0880129337310791, 0.0), ('How do you make gold', 0.0929253101348877, 0.416), ('Marijuana', 0.08704042434692383, 0.417)]\n",
            "[0, 1, 0, 0.75, 1.75, 1.75, 10, 0, 0, 0, 0.75, 1.75, 1.75, 10, 0]\n",
            "[True]\n",
            "[('best marvel movie', 1.1443161964416504, 0.0), ('How do kids come to world?', 1.8106591701507568, 0.048), ('Information retrieval', 0.300121545791626, 0.89), ('LinkedIn', 0.09179115295410156, 1.0), ('How to make coffee?', 0.5568349361419678, 0.721), ('Ritalin', 0.08861899375915527, 0.293), ('How to make wine at home?', 1.3002216815948486, 0.0), ('Most expensive city in the world', 2.337533950805664, 0.25), ('India', 0.5108633041381836, 0.337), ('how to make money fast?', 0.8417437076568604, 0.467), ('Netflix', 0.10994863510131836, 0.511), ('Apple computer', 0.35058116912841797, 0.483), ('The Simpsons', 0.09788966178894043, 0.674), ('World cup', 1.6913669109344482, 0.772), ('How to lose weight?', 0.32478785514831543, 0.369), ('Java', 0.12022757530212402, 0.674), ('Air Jordan', 0.6102724075317383, 0.7), ('how to deal with depression?', 0.30420780181884766, 0.146), ('How do you make gold', 0.9564800262451172, 0.33), ('Marijuana', 0.09952545166015625, 0.417)]\n",
            "[0, 1, 0, 0.75, 1.75, 1.75, 10, 0, 1, 0, 0.75, 1.75, 1.75, 10, 0]\n",
            "[True]\n",
            "[('best marvel movie', 1.722886562347412, 0.31), ('How do kids come to world?', 2.819000482559204, 0.056), ('Information retrieval', 0.36456823348999023, 0.861), ('LinkedIn', 0.09444499015808105, 0.879), ('How to make coffee?', 0.8228139877319336, 0.503), ('Ritalin', 0.08855271339416504, 0.719), ('How to make wine at home?', 1.9945406913757324, 0.191), ('Most expensive city in the world', 3.3797953128814697, 0.125), ('India', 0.8897185325622559, 0.362), ('how to make money fast?', 1.2935912609100342, 0.489), ('Netflix', 0.1374492645263672, 0.61), ('Apple computer', 0.52982497215271, 0.498), ('The Simpsons', 0.10895085334777832, 0.223), ('World cup', 2.4748315811157227, 0.154), ('How to lose weight?', 0.5106949806213379, 0.332), ('Java', 0.1536707878112793, 0.5), ('Air Jordan', 0.9425389766693115, 0.75), ('how to deal with depression?', 0.4343233108520508, 0.343), ('How do you make gold', 1.58636474609375, 0.395), ('Marijuana', 0.11372828483581543, 0.32)]\n",
            "[0, 1, 0, 0.75, 1.75, 1.75, 10, 1, 0, 0, 0.75, 1.75, 1.75, 10, 0]\n",
            "[True]\n",
            "[('best marvel movie', 2.617586851119995, 0.31), ('How do kids come to world?', 4.239282131195068, 0.056), ('Information retrieval', 0.562654972076416, 0.861), ('LinkedIn', 0.09729385375976562, 0.879), ('How to make coffee?', 1.1328544616699219, 0.503), ('Ritalin', 0.08871793746948242, 0.719), ('How to make wine at home?', 2.9235715866088867, 0.191), ('Most expensive city in the world', 4.968421936035156, 0.125), ('India', 1.1850223541259766, 0.362), ('how to make money fast?', 1.8655500411987305, 0.489), ('Netflix', 0.14977812767028809, 0.61), ('Apple computer', 0.7249405384063721, 0.488), ('The Simpsons', 0.11876416206359863, 0.223), ('World cup', 3.4943861961364746, 0.154), ('How to lose weight?', 0.7008886337280273, 0.702), ('Java', 0.17843174934387207, 0.5), ('Air Jordan', 1.2535278797149658, 0.75), ('how to deal with depression?', 0.6068227291107178, 0.343), ('How do you make gold', 2.188006639480591, 0.395), ('Marijuana', 0.12298774719238281, 0.32)]\n",
            "[0, 1, 0, 0.75, 1.75, 1.75, 10, 1, 1, 0, 0.75, 1.75, 1.75, 10, 0]\n",
            "[True]\n",
            "[('best marvel movie', 0.12117671966552734, 0.0), ('How do kids come to world?', 0.22856616973876953, 0.062), ('Information retrieval', 0.09763669967651367, 0.967), ('LinkedIn', 0.08686065673828125, 1.0), ('How to make coffee?', 0.09389352798461914, 0.525), ('Ritalin', 0.08729791641235352, 1.0), ('How to make wine at home?', 0.1109154224395752, 0.0), ('Most expensive city in the world', 0.28894829750061035, 1.0), ('India', 0.10796475410461426, 0.277), ('how to make money fast?', 0.09899449348449707, 0.498), ('Netflix', 0.0891578197479248, 0.613), ('Apple computer', 0.09835624694824219, 0.565), ('The Simpsons', 0.08988809585571289, 0.521), ('World cup', 0.33083367347717285, 1.0), ('How to lose weight?', 0.08926677703857422, 0.0), ('Java', 0.08871150016784668, 0.346), ('Air Jordan', 0.12554931640625, 0.833), ('how to deal with depression?', 0.09015512466430664, 0.122), ('How do you make gold', 0.10226273536682129, 0.036), ('Marijuana', 0.08686041831970215, 0.344)]\n",
            "[0, 1, 1, 0.75, 1.75, 1.75, 10, 0, 0, 0, 0.75, 1.75, 1.75, 10, 0]\n",
            "[True]\n",
            "[('best marvel movie', 1.1533851623535156, 0.0), ('How do kids come to world?', 1.8134191036224365, 0.062), ('Information retrieval', 0.29227495193481445, 0.967), ('LinkedIn', 0.09225201606750488, 1.0), ('How to make coffee?', 0.5350391864776611, 0.395), ('Ritalin', 0.08778762817382812, 0.293), ('How to make wine at home?', 1.3125696182250977, 0.0), ('Most expensive city in the world', 2.3832526206970215, 1.0), ('India', 0.527503252029419, 0.277), ('how to make money fast?', 0.8138909339904785, 0.498), ('Netflix', 0.10936093330383301, 0.613), ('Apple computer', 0.3399162292480469, 0.393), ('The Simpsons', 0.09945106506347656, 0.521), ('World cup', 1.7807633876800537, 1.0), ('How to lose weight?', 0.33254337310791016, 0.467), ('Java', 0.12009477615356445, 0.346), ('Air Jordan', 0.6138181686401367, 0.833), ('how to deal with depression?', 0.3003425598144531, 0.122), ('How do you make gold', 0.9627437591552734, 0.036), ('Marijuana', 0.09829592704772949, 0.344)]\n",
            "[0, 1, 1, 0.75, 1.75, 1.75, 10, 0, 1, 0, 0.75, 1.75, 1.75, 10, 0]\n",
            "[True]\n",
            "[('best marvel movie', 1.7569243907928467, 0.139), ('How do kids come to world?', 2.776466131210327, 0.028), ('Information retrieval', 0.3676726818084717, 0.896), ('LinkedIn', 0.09389948844909668, 0.879), ('How to make coffee?', 0.8187878131866455, 0.525), ('Ritalin', 0.08805346488952637, 0.719), ('How to make wine at home?', 2.019225835800171, 0.26), ('Most expensive city in the world', 3.323493719100952, 0.333), ('India', 0.8847043514251709, 0.273), ('how to make money fast?', 1.2795312404632568, 0.404), ('Netflix', 0.13434290885925293, 0.617), ('Apple computer', 0.5559446811676025, 0.421), ('The Simpsons', 0.10840535163879395, 0.398), ('World cup', 2.545260429382324, 0.323), ('How to lose weight?', 0.5204415321350098, 0.389), ('Java', 0.15329408645629883, 0.374), ('Air Jordan', 0.9527935981750488, 0.585), ('how to deal with depression?', 0.4410574436187744, 0.307), ('How do you make gold', 1.462580680847168, 0.326), ('Marijuana', 0.11394476890563965, 0.402)]\n",
            "[0, 1, 1, 0.75, 1.75, 1.75, 10, 1, 0, 0, 0.75, 1.75, 1.75, 10, 0]\n",
            "[True]\n",
            "[('best marvel movie', 2.4944183826446533, 0.139), ('How do kids come to world?', 4.192353248596191, 0.028), ('Information retrieval', 0.5541481971740723, 0.896), ('LinkedIn', 0.0962677001953125, 0.879), ('How to make coffee?', 1.172522783279419, 0.525), ('Ritalin', 0.0894474983215332, 0.719), ('How to make wine at home?', 2.9024429321289062, 0.26), ('Most expensive city in the world', 5.116777181625366, 0.333), ('India', 1.2335188388824463, 0.273), ('how to make money fast?', 1.8703510761260986, 0.404), ('Netflix', 0.14962029457092285, 0.617), ('Apple computer', 0.7124466896057129, 0.44), ('The Simpsons', 0.11544036865234375, 0.398), ('World cup', 3.6644952297210693, 0.323), ('How to lose weight?', 0.7161350250244141, 0.638), ('Java', 0.17618203163146973, 0.374), ('Air Jordan', 1.3057029247283936, 0.585), ('how to deal with depression?', 0.6129729747772217, 0.307), ('How do you make gold', 2.232233762741089, 0.326), ('Marijuana', 0.1210792064666748, 0.402)]\n",
            "[0, 1, 1, 0.75, 1.75, 1.75, 10, 1, 1, 0, 0.75, 1.75, 1.75, 10, 0]\n",
            "[True]\n",
            "[('best marvel movie', 2.148648977279663, 0.141), ('How do kids come to world?', 3.399878740310669, 0.082), ('Information retrieval', 0.537386417388916, 0.65), ('LinkedIn', 0.09593868255615234, 0.79), ('How to make coffee?', 1.0584609508514404, 0.491), ('Ritalin', 0.08773541450500488, 0.801), ('How to make wine at home?', 2.611198663711548, 0.234), ('Most expensive city in the world', 4.376341342926025, 0.026), ('India', 0.966454029083252, 0.121), ('how to make money fast?', 1.6041383743286133, 0.556), ('Netflix', 0.1442246437072754, 0.491), ('Apple computer', 0.5848178863525391, 0.455), ('The Simpsons', 0.10946297645568848, 0.079), ('World cup', 2.9933464527130127, 0.071), ('How to lose weight?', 0.5582296848297119, 0.446), ('Java', 0.15359091758728027, 0.318), ('Air Jordan', 1.0471477508544922, 0.445), ('how to deal with depression?', 0.543752908706665, 0.186), ('How do you make gold', 1.8620491027832031, 0.298), ('Marijuana', 0.11626791954040527, 0.337)]\n",
            "[0, 0, 0, 0.75, 1.75, 1.75, 10, 0, 0, 1, 0.75, 1.75, 1.75, 10, 0]\n",
            "[True]\n",
            "[('best marvel movie', 2.9251317977905273, 0.129), ('How do kids come to world?', 4.75957465171814, 0.077), ('Information retrieval', 0.7186291217803955, 0.576), ('LinkedIn', 0.09688091278076172, 0.79), ('How to make coffee?', 1.3978490829467773, 0.45), ('Ritalin', 0.08901691436767578, 0.801), ('How to make wine at home?', 3.609476089477539, 0.194), ('Most expensive city in the world', 6.102817535400391, 0.025), ('India', 1.2577757835388184, 0.111), ('how to make money fast?', 2.209192991256714, 0.43), ('Netflix', 0.1564478874206543, 0.491), ('Apple computer', 0.7921042442321777, 0.455), ('The Simpsons', 0.11791634559631348, 0.079), ('World cup', 4.081874847412109, 0.067), ('How to lose weight?', 0.7192575931549072, 0.445), ('Java', 0.1767871379852295, 0.318), ('Air Jordan', 1.419001579284668, 0.406), ('how to deal with depression?', 0.7173957824707031, 0.176), ('How do you make gold', 2.561845064163208, 0.266), ('Marijuana', 0.12518930435180664, 0.337)]\n",
            "[0, 0, 0, 0.75, 1.75, 1.75, 10, 0, 1, 1, 0.75, 1.75, 1.75, 10, 0]\n",
            "[True]\n",
            "[('best marvel movie', 3.4008421897888184, 0.369), ('How do kids come to world?', 5.4255053997039795, 0.09), ('Information retrieval', 0.7628970146179199, 0.689), ('LinkedIn', 0.09923195838928223, 0.829), ('How to make coffee?', 1.5879793167114258, 0.555), ('Ritalin', 0.08798980712890625, 0.784), ('How to make wine at home?', 4.120432138442993, 0.18), ('Most expensive city in the world', 6.872836351394653, 0.0), ('India', 1.5456020832061768, 0.323), ('how to make money fast?', 2.553487777709961, 0.38), ('Netflix', 0.16900086402893066, 0.857), ('Apple computer', 0.9694852828979492, 0.491), ('The Simpsons', 0.12590909004211426, 0.113), ('World cup', 4.6679089069366455, 0.077), ('How to lose weight?', 0.8373837471008301, 0.337), ('Java', 0.19768118858337402, 0.386), ('Air Jordan', 1.6728794574737549, 0.41), ('how to deal with depression?', 0.790027379989624, 0.361), ('How do you make gold', 2.9099016189575195, 0.436), ('Marijuana', 0.13465023040771484, 0.21)]\n",
            "[0, 0, 0, 0.75, 1.75, 1.75, 10, 1, 0, 1, 0.75, 1.75, 1.75, 10, 0]\n",
            "[True]\n",
            "[('best marvel movie', 4.307164192199707, 0.369), ('How do kids come to world?', 6.875537395477295, 0.09), ('Information retrieval', 0.9442503452301025, 0.688), ('LinkedIn', 0.10355520248413086, 0.829), ('How to make coffee?', 1.9565792083740234, 0.555), ('Ritalin', 0.08952522277832031, 0.784), ('How to make wine at home?', 5.145119905471802, 0.18), ('Most expensive city in the world', 8.566376447677612, 0.0), ('India', 1.9533002376556396, 0.323), ('how to make money fast?', 3.229452610015869, 0.38), ('Netflix', 0.18590497970581055, 0.857), ('Apple computer', 1.0841374397277832, 0.495), ('The Simpsons', 0.13421344757080078, 0.113), ('World cup', 5.911373138427734, 0.077), ('How to lose weight?', 1.009589433670044, 0.514), ('Java', 0.2246413230895996, 0.386), ('Air Jordan', 2.0555973052978516, 0.41), ('how to deal with depression?', 0.9864375591278076, 0.361), ('How do you make gold', 3.673394203186035, 0.436), ('Marijuana', 0.143463134765625, 0.21)]\n",
            "[0, 0, 0, 0.75, 1.75, 1.75, 10, 1, 1, 1, 0.75, 1.75, 1.75, 10, 0]\n",
            "[True]\n",
            "[('best marvel movie', 2.1491684913635254, 0.196), ('How do kids come to world?', 3.4568350315093994, 0.138), ('Information retrieval', 0.5500338077545166, 0.848), ('LinkedIn', 0.09476804733276367, 0.874), ('How to make coffee?', 1.0384173393249512, 0.484), ('Ritalin', 0.08923530578613281, 0.801), ('How to make wine at home?', 2.5766055583953857, 0.306), ('Most expensive city in the world', 4.474712371826172, 0.071), ('India', 0.9499349594116211, 0.161), ('how to make money fast?', 1.629739761352539, 0.461), ('Netflix', 0.14025092124938965, 0.654), ('Apple computer', 0.6025004386901855, 0.438), ('The Simpsons', 0.11205387115478516, 0.428), ('World cup', 3.168424129486084, 0.281), ('How to lose weight?', 0.5425376892089844, 0.41), ('Java', 0.15604424476623535, 0.302), ('Air Jordan', 1.1040611267089844, 0.528), ('how to deal with depression?', 0.5464837551116943, 0.302), ('How do you make gold', 1.822847843170166, 0.353), ('Marijuana', 0.11601591110229492, 0.522)]\n",
            "[0, 0, 1, 0.75, 1.75, 1.75, 10, 0, 0, 1, 0.75, 1.75, 1.75, 10, 0]\n",
            "[True]\n",
            "[('best marvel movie', 3.0013062953948975, 0.196), ('How do kids come to world?', 4.799092054367065, 0.138), ('Information retrieval', 0.7402517795562744, 0.848), ('LinkedIn', 0.09714031219482422, 0.874), ('How to make coffee?', 1.4080305099487305, 0.484), ('Ritalin', 0.0888676643371582, 0.801), ('How to make wine at home?', 3.614088773727417, 0.306), ('Most expensive city in the world', 6.1925153732299805, 0.071), ('India', 1.265906810760498, 0.161), ('how to make money fast?', 2.264324426651001, 0.461), ('Netflix', 0.15492486953735352, 0.654), ('Apple computer', 0.7846071720123291, 0.457), ('The Simpsons', 0.11826515197753906, 0.428), ('World cup', 4.285320043563843, 0.281), ('How to lose weight?', 0.7194833755493164, 0.568), ('Java', 0.17851805686950684, 0.302), ('Air Jordan', 1.4503934383392334, 0.528), ('how to deal with depression?', 0.7004482746124268, 0.302), ('How do you make gold', 2.479161500930786, 0.353), ('Marijuana', 0.12319469451904297, 0.522)]\n",
            "[0, 0, 1, 0.75, 1.75, 1.75, 10, 0, 1, 1, 0.75, 1.75, 1.75, 10, 0]\n",
            "[True]\n",
            "[('best marvel movie', 3.3458423614501953, 0.45), ('How do kids come to world?', 5.448896884918213, 0.092), ('Information retrieval', 0.7805302143096924, 0.802), ('LinkedIn', 0.0995950698852539, 0.869), ('How to make coffee?', 1.5880277156829834, 0.585), ('Ritalin', 0.08834123611450195, 0.784), ('How to make wine at home?', 4.0564165115356445, 0.421), ('Most expensive city in the world', 6.888275146484375, 0.042), ('India', 1.5551443099975586, 0.295), ('how to make money fast?', 2.530716896057129, 0.442), ('Netflix', 0.17273712158203125, 0.754), ('Apple computer', 0.9212822914123535, 0.592), ('The Simpsons', 0.12425422668457031, 0.276), ('World cup', 4.802909851074219, 0.215), ('How to lose weight?', 0.8794772624969482, 0.344), ('Java', 0.21368050575256348, 0.383), ('Air Jordan', 1.6492953300476074, 0.469), ('how to deal with depression?', 0.7994582653045654, 0.301), ('How do you make gold', 2.9356026649475098, 0.444), ('Marijuana', 0.13532662391662598, 0.417)]\n",
            "[0, 0, 1, 0.75, 1.75, 1.75, 10, 1, 0, 1, 0.75, 1.75, 1.75, 10, 0]\n",
            "[True]\n",
            "[('best marvel movie', 4.229900360107422, 0.45), ('How do kids come to world?', 7.042637586593628, 0.092), ('Information retrieval', 0.9719316959381104, 0.802), ('LinkedIn', 0.10309147834777832, 0.869), ('How to make coffee?', 1.9328980445861816, 0.585), ('Ritalin', 0.08985280990600586, 0.784), ('How to make wine at home?', 4.986283302307129, 0.421), ('Most expensive city in the world', 8.630998134613037, 0.042), ('India', 1.8821048736572266, 0.295), ('how to make money fast?', 3.1278538703918457, 0.442), ('Netflix', 0.1809699535369873, 0.754), ('Apple computer', 1.1290326118469238, 0.566), ('The Simpsons', 0.13175654411315918, 0.276), ('World cup', 5.959255218505859, 0.215), ('How to lose weight?', 1.0336980819702148, 0.56), ('Java', 0.21709108352661133, 0.383), ('Air Jordan', 2.0435407161712646, 0.469), ('how to deal with depression?', 0.969712495803833, 0.301), ('How do you make gold', 3.5178840160369873, 0.444), ('Marijuana', 0.14194750785827637, 0.417)]\n",
            "[0, 0, 1, 0.75, 1.75, 1.75, 10, 1, 1, 1, 0.75, 1.75, 1.75, 10, 0]\n",
            "[True]\n",
            "[('best marvel movie', 2.154090166091919, 0.085), ('How do kids come to world?', 3.5127358436584473, 0.111), ('Information retrieval', 0.5349586009979248, 0.876), ('LinkedIn', 0.09579110145568848, 0.874), ('How to make coffee?', 1.052795171737671, 0.624), ('Ritalin', 0.08825993537902832, 0.801), ('How to make wine at home?', 2.530569076538086, 0.155), ('Most expensive city in the world', 4.367722034454346, 0.5), ('India', 0.9449374675750732, 0.225), ('how to make money fast?', 1.6531903743743896, 0.638), ('Netflix', 0.14058685302734375, 0.576), ('Apple computer', 0.6034817695617676, 0.46), ('The Simpsons', 0.11219143867492676, 0.152), ('World cup', 3.070870876312256, 0.25), ('How to lose weight?', 0.5515255928039551, 0.527), ('Java', 0.15672087669372559, 0.433), ('Air Jordan', 1.0493097305297852, 0.457), ('how to deal with depression?', 0.5377342700958252, 0.297), ('How do you make gold', 1.8348979949951172, 0.227), ('Marijuana', 0.11732840538024902, 0.33)]\n",
            "[0, 1, 0, 0.75, 1.75, 1.75, 10, 0, 0, 1, 0.75, 1.75, 1.75, 10, 0]\n",
            "[True]\n",
            "[('best marvel movie', 2.894371747970581, 0.085), ('How do kids come to world?', 4.779625177383423, 0.111), ('Information retrieval', 0.7272405624389648, 0.876), ('LinkedIn', 0.09785938262939453, 0.874), ('How to make coffee?', 1.4019038677215576, 0.624), ('Ritalin', 0.08824563026428223, 0.801), ('How to make wine at home?', 3.5469706058502197, 0.155), ('Most expensive city in the world', 6.099009275436401, 0.5), ('India', 1.2868621349334717, 0.225), ('how to make money fast?', 2.273240804672241, 0.633), ('Netflix', 0.15808796882629395, 0.576), ('Apple computer', 0.7914118766784668, 0.46), ('The Simpsons', 0.1197972297668457, 0.152), ('World cup', 4.257832288742065, 0.25), ('How to lose weight?', 0.7304432392120361, 0.643), ('Java', 0.18227815628051758, 0.433), ('Air Jordan', 1.4909257888793945, 0.457), ('how to deal with depression?', 0.7099413871765137, 0.297), ('How do you make gold', 2.5618016719818115, 0.227), ('Marijuana', 0.12341022491455078, 0.33)]\n",
            "[0, 1, 0, 0.75, 1.75, 1.75, 10, 0, 1, 1, 0.75, 1.75, 1.75, 10, 0]\n",
            "[True]\n",
            "[('best marvel movie', 3.442913770675659, 0.5), ('How do kids come to world?', 5.44990086555481, 0.083), ('Information retrieval', 0.7653334140777588, 0.842), ('LinkedIn', 0.10070228576660156, 0.883), ('How to make coffee?', 1.6066279411315918, 0.562), ('Ritalin', 0.08907914161682129, 0.784), ('How to make wine at home?', 4.094772815704346, 0.212), ('Most expensive city in the world', 6.833332300186157, 0.125), ('India', 1.5016584396362305, 0.46), ('how to make money fast?', 2.464435577392578, 0.511), ('Netflix', 0.165482759475708, 0.644), ('Apple computer', 0.9227776527404785, 0.542), ('The Simpsons', 0.1231074333190918, 0.193), ('World cup', 4.730679273605347, 0.151), ('How to lose weight?', 0.8883130550384521, 0.392), ('Java', 0.20385050773620605, 0.529), ('Air Jordan', 1.6991267204284668, 0.471), ('how to deal with depression?', 0.8213372230529785, 0.348), ('How do you make gold', 2.949814796447754, 0.376), ('Marijuana', 0.13019299507141113, 0.301)]\n",
            "[0, 1, 0, 0.75, 1.75, 1.75, 10, 1, 0, 1, 0.75, 1.75, 1.75, 10, 0]\n",
            "[True]\n",
            "[('best marvel movie', 4.170567750930786, 0.5), ('How do kids come to world?', 6.787255525588989, 0.083), ('Information retrieval', 0.9510953426361084, 0.842), ('LinkedIn', 0.10190510749816895, 0.883), ('How to make coffee?', 1.9165236949920654, 0.562), ('Ritalin', 0.08851814270019531, 0.784), ('How to make wine at home?', 4.986152172088623, 0.212), ('Most expensive city in the world', 8.622223615646362, 0.125), ('India', 1.8402512073516846, 0.46), ('how to make money fast?', 3.165527820587158, 0.511), ('Netflix', 0.19445228576660156, 0.644), ('Apple computer', 1.111452579498291, 0.547), ('The Simpsons', 0.1299593448638916, 0.193), ('World cup', 5.903738975524902, 0.151), ('How to lose weight?', 0.9992454051971436, 0.676), ('Java', 0.2269277572631836, 0.529), ('Air Jordan', 2.0134294033050537, 0.471), ('how to deal with depression?', 0.9601044654846191, 0.348), ('How do you make gold', 3.6014246940612793, 0.376), ('Marijuana', 0.13918495178222656, 0.301)]\n",
            "[0, 1, 0, 0.75, 1.75, 1.75, 10, 1, 1, 1, 0.75, 1.75, 1.75, 10, 0]\n",
            "[True]\n",
            "[('best marvel movie', 2.129063844680786, 0.073), ('How do kids come to world?', 3.578474998474121, 0.084), ('Information retrieval', 0.5502536296844482, 0.926), ('LinkedIn', 0.09404563903808594, 0.874), ('How to make coffee?', 1.0448594093322754, 0.484), ('Ritalin', 0.08896279335021973, 0.801), ('How to make wine at home?', 2.508507251739502, 0.207), ('Most expensive city in the world', 4.5315937995910645, 0.529), ('India', 0.9176926612854004, 0.161), ('how to make money fast?', 1.7262003421783447, 0.52), ('Netflix', 0.14121103286743164, 0.58), ('Apple computer', 0.6262292861938477, 0.398), ('The Simpsons', 0.11397504806518555, 0.428), ('World cup', 3.3010811805725098, 0.281), ('How to lose weight?', 0.5878243446350098, 0.41), ('Java', 0.15882420539855957, 0.302), ('Air Jordan', 1.1025934219360352, 0.532), ('how to deal with depression?', 0.5481252670288086, 0.302), ('How do you make gold', 1.8849539756774902, 0.282), ('Marijuana', 0.11829924583435059, 0.522)]\n",
            "[0, 1, 1, 0.75, 1.75, 1.75, 10, 0, 0, 1, 0.75, 1.75, 1.75, 10, 0]\n",
            "[True]\n",
            "[('best marvel movie', 2.9901294708251953, 0.073), ('How do kids come to world?', 4.913668870925903, 0.084), ('Information retrieval', 0.7326526641845703, 0.926), ('LinkedIn', 0.0982358455657959, 0.874), ('How to make coffee?', 1.4479658603668213, 0.484), ('Ritalin', 0.08835244178771973, 0.801), ('How to make wine at home?', 3.5365052223205566, 0.207), ('Most expensive city in the world', 6.3576390743255615, 0.529), ('India', 1.2840650081634521, 0.161), ('how to make money fast?', 2.247622489929199, 0.52), ('Netflix', 0.1532125473022461, 0.58), ('Apple computer', 0.7850477695465088, 0.411), ('The Simpsons', 0.12211775779724121, 0.428), ('World cup', 4.400402307510376, 0.281), ('How to lose weight?', 1.3934555053710938, 0.622), ('Java', 0.2270219326019287, 0.302), ('Air Jordan', 2.2879605293273926, 0.532), ('how to deal with depression?', 0.7366580963134766, 0.302), ('How do you make gold', 2.590703010559082, 0.282), ('Marijuana', 0.125474214553833, 0.522)]\n",
            "[0, 1, 1, 0.75, 1.75, 1.75, 10, 0, 1, 1, 0.75, 1.75, 1.75, 10, 0]\n",
            "[True]\n",
            "[('best marvel movie', 3.454092264175415, 0.45), ('How do kids come to world?', 5.576832056045532, 0.08), ('Information retrieval', 0.7641205787658691, 0.881), ('LinkedIn', 0.09962177276611328, 0.883), ('How to make coffee?', 1.602250576019287, 0.585), ('Ritalin', 0.08937907218933105, 0.784), ('How to make wine at home?', 4.065359115600586, 0.385), ('Most expensive city in the world', 6.9983484745025635, 0.143), ('India', 1.6048791408538818, 0.295), ('how to make money fast?', 2.5036494731903076, 0.442), ('Netflix', 0.16857051849365234, 0.605), ('Apple computer', 0.9549689292907715, 0.528), ('The Simpsons', 0.12407708168029785, 0.273), ('World cup', 4.873074054718018, 0.215), ('How to lose weight?', 0.871009349822998, 0.344), ('Java', 0.20551013946533203, 0.383), ('Air Jordan', 1.6661336421966553, 0.509), ('how to deal with depression?', 0.790879487991333, 0.301), ('How do you make gold', 2.838592529296875, 0.442), ('Marijuana', 0.13097500801086426, 0.467)]\n",
            "[0, 1, 1, 0.75, 1.75, 1.75, 10, 1, 0, 1, 0.75, 1.75, 1.75, 10, 0]\n",
            "[True]\n",
            "[('best marvel movie', 4.339444637298584, 0.45), ('How do kids come to world?', 6.91526985168457, 0.08), ('Information retrieval', 0.9719264507293701, 0.881), ('LinkedIn', 0.10253357887268066, 0.883), ('How to make coffee?', 1.9843719005584717, 0.585), ('Ritalin', 0.08882474899291992, 0.784), ('How to make wine at home?', 4.993926763534546, 0.385), ('Most expensive city in the world', 8.844582796096802, 0.143), ('India', 1.861562728881836, 0.295), ('how to make money fast?', 3.1990675926208496, 0.442), ('Netflix', 0.18296575546264648, 0.605), ('Apple computer', 1.1306068897247314, 0.531), ('The Simpsons', 0.13188838958740234, 0.273), ('World cup', 6.151052713394165, 0.215), ('How to lose weight?', 1.0477705001831055, 0.59), ('Java', 0.2232952117919922, 0.383), ('Air Jordan', 2.1205086708068848, 0.509), ('how to deal with depression?', 0.9808034896850586, 0.301), ('How do you make gold', 3.655461072921753, 0.442), ('Marijuana', 0.14098310470581055, 0.467)]\n",
            "[0, 1, 1, 0.75, 1.75, 1.75, 10, 1, 1, 1, 0.75, 1.75, 1.75, 10, 0]\n"
          ]
        }
      ]
    },
    {
      "cell_type": "code",
      "source": [
        "result_dict\n"
      ],
      "metadata": {
        "colab": {
          "base_uri": "https://localhost:8080/"
        },
        "id": "rVOLyGK-Ij7G",
        "outputId": "a8b3a278-a4c9-461c-9998-7258364b2179"
      },
      "execution_count": 27,
      "outputs": [
        {
          "output_type": "execute_result",
          "data": {
            "text/plain": [
              "{'title_parms: w_cosine_similarity 0, w_boolean 0,w_BM25_b_k1_k3_baselog [0, 0.75, 1.75, 1.75, 10]     body_parms: w_cosine_similarity 0, w_boolean 1,w_BM25_b_k1_k3_baselog [0, 0.75, 1.75, 1.75, 10]': (1.402959418296814,\n",
              "  0.01545),\n",
              " 'title_parms: w_cosine_similarity 0, w_boolean 0,w_BM25_b_k1_k3_baselog [0, 0.75, 1.75, 1.75, 10]     body_parms: w_cosine_similarity 1, w_boolean 0,w_BM25_b_k1_k3_baselog [0, 0.75, 1.75, 1.75, 10]': (1.0271380186080932,\n",
              "  0.40075000000000005),\n",
              " 'title_parms: w_cosine_similarity 0, w_boolean 0,w_BM25_b_k1_k3_baselog [0, 0.75, 1.75, 1.75, 10]     body_parms: w_cosine_similarity 1, w_boolean 1,w_BM25_b_k1_k3_baselog [0, 0.75, 1.75, 1.75, 10]': (1.489540731906891,\n",
              "  0.39954999999999996),\n",
              " 'title_parms: w_cosine_similarity 0, w_boolean 0,w_BM25_b_k1_k3_baselog [1, 0.75, 1.75, 1.75, 10]     body_parms: w_cosine_similarity 0, w_boolean 0,w_BM25_b_k1_k3_baselog [0, 0.75, 1.75, 1.75, 10]': (0.15422414541244506,\n",
              "  0.4680999999999999),\n",
              " 'title_parms: w_cosine_similarity 0, w_boolean 0,w_BM25_b_k1_k3_baselog [1, 0.75, 1.75, 1.75, 10]     body_parms: w_cosine_similarity 0, w_boolean 1,w_BM25_b_k1_k3_baselog [0, 0.75, 1.75, 1.75, 10]': (0.697365403175354,\n",
              "  0.4239),\n",
              " 'title_parms: w_cosine_similarity 0, w_boolean 0,w_BM25_b_k1_k3_baselog [1, 0.75, 1.75, 1.75, 10]     body_parms: w_cosine_similarity 1, w_boolean 0,w_BM25_b_k1_k3_baselog [0, 0.75, 1.75, 1.75, 10]': (1.0353089928627015,\n",
              "  0.43095),\n",
              " 'title_parms: w_cosine_similarity 0, w_boolean 0,w_BM25_b_k1_k3_baselog [1, 0.75, 1.75, 1.75, 10]     body_parms: w_cosine_similarity 1, w_boolean 1,w_BM25_b_k1_k3_baselog [0, 0.75, 1.75, 1.75, 10]': (1.5130671739578248,\n",
              "  0.4424999999999999),\n",
              " 'title_parms: w_cosine_similarity 0, w_boolean 1,w_BM25_b_k1_k3_baselog [0, 0.75, 1.75, 1.75, 10]     body_parms: w_cosine_similarity 0, w_boolean 0,w_BM25_b_k1_k3_baselog [0, 0.75, 1.75, 1.75, 10]': (0.10180948972702027,\n",
              "  0.4490000000000001),\n",
              " 'title_parms: w_cosine_similarity 0, w_boolean 1,w_BM25_b_k1_k3_baselog [0, 0.75, 1.75, 1.75, 10]     body_parms: w_cosine_similarity 0, w_boolean 1,w_BM25_b_k1_k3_baselog [0, 0.75, 1.75, 1.75, 10]': (0.6823996067047119,\n",
              "  0.45410000000000006),\n",
              " 'title_parms: w_cosine_similarity 0, w_boolean 1,w_BM25_b_k1_k3_baselog [0, 0.75, 1.75, 1.75, 10]     body_parms: w_cosine_similarity 1, w_boolean 0,w_BM25_b_k1_k3_baselog [0, 0.75, 1.75, 1.75, 10]': (1.02311452627182,\n",
              "  0.43099999999999994),\n",
              " 'title_parms: w_cosine_similarity 0, w_boolean 1,w_BM25_b_k1_k3_baselog [0, 0.75, 1.75, 1.75, 10]     body_parms: w_cosine_similarity 1, w_boolean 1,w_BM25_b_k1_k3_baselog [0, 0.75, 1.75, 1.75, 10]': (1.4609745264053344,\n",
              "  0.449),\n",
              " 'title_parms: w_cosine_similarity 0, w_boolean 1,w_BM25_b_k1_k3_baselog [1, 0.75, 1.75, 1.75, 10]     body_parms: w_cosine_similarity 0, w_boolean 0,w_BM25_b_k1_k3_baselog [0, 0.75, 1.75, 1.75, 10]': (0.12566481828689574,\n",
              "  0.4854499999999999),\n",
              " 'title_parms: w_cosine_similarity 0, w_boolean 1,w_BM25_b_k1_k3_baselog [1, 0.75, 1.75, 1.75, 10]     body_parms: w_cosine_similarity 0, w_boolean 1,w_BM25_b_k1_k3_baselog [0, 0.75, 1.75, 1.75, 10]': (0.6884352326393127,\n",
              "  0.4583499999999999),\n",
              " 'title_parms: w_cosine_similarity 0, w_boolean 1,w_BM25_b_k1_k3_baselog [1, 0.75, 1.75, 1.75, 10]     body_parms: w_cosine_similarity 1, w_boolean 0,w_BM25_b_k1_k3_baselog [0, 0.75, 1.75, 1.75, 10]': (1.019841229915619,\n",
              "  0.42989999999999995),\n",
              " 'title_parms: w_cosine_similarity 0, w_boolean 1,w_BM25_b_k1_k3_baselog [1, 0.75, 1.75, 1.75, 10]     body_parms: w_cosine_similarity 1, w_boolean 1,w_BM25_b_k1_k3_baselog [0, 0.75, 1.75, 1.75, 10]': (1.4764278173446654,\n",
              "  0.44329999999999997),\n",
              " 'title_parms: w_cosine_similarity 0, w_boolean 0,w_BM25_b_k1_k3_baselog [0, 0.75, 1.75, 1.75, 10]     body_parms: w_cosine_similarity 0, w_boolean 0,w_BM25_b_k1_k3_baselog [1, 0.75, 1.75, 1.75, 10]': (1.2499535918235778,\n",
              "  0.35089999999999993),\n",
              " 'title_parms: w_cosine_similarity 0, w_boolean 0,w_BM25_b_k1_k3_baselog [0, 0.75, 1.75, 1.75, 10]     body_parms: w_cosine_similarity 0, w_boolean 1,w_BM25_b_k1_k3_baselog [1, 0.75, 1.75, 1.75, 10]': (1.701708233356476,\n",
              "  0.33115),\n",
              " 'title_parms: w_cosine_similarity 0, w_boolean 0,w_BM25_b_k1_k3_baselog [0, 0.75, 1.75, 1.75, 10]     body_parms: w_cosine_similarity 1, w_boolean 0,w_BM25_b_k1_k3_baselog [1, 0.75, 1.75, 1.75, 10]': (1.9465815901756287,\n",
              "  0.39385),\n",
              " 'title_parms: w_cosine_similarity 0, w_boolean 0,w_BM25_b_k1_k3_baselog [0, 0.75, 1.75, 1.75, 10]     body_parms: w_cosine_similarity 1, w_boolean 1,w_BM25_b_k1_k3_baselog [1, 0.75, 1.75, 1.75, 10]': (2.4289806365966795,\n",
              "  0.40285000000000004),\n",
              " 'title_parms: w_cosine_similarity 0, w_boolean 0,w_BM25_b_k1_k3_baselog [1, 0.75, 1.75, 1.75, 10]     body_parms: w_cosine_similarity 0, w_boolean 0,w_BM25_b_k1_k3_baselog [1, 0.75, 1.75, 1.75, 10]': (1.2660335302352905,\n",
              "  0.4279),\n",
              " 'title_parms: w_cosine_similarity 0, w_boolean 0,w_BM25_b_k1_k3_baselog [1, 0.75, 1.75, 1.75, 10]     body_parms: w_cosine_similarity 0, w_boolean 1,w_BM25_b_k1_k3_baselog [1, 0.75, 1.75, 1.75, 10]': (1.7232920289039613,\n",
              "  0.43674999999999997),\n",
              " 'title_parms: w_cosine_similarity 0, w_boolean 0,w_BM25_b_k1_k3_baselog [1, 0.75, 1.75, 1.75, 10]     body_parms: w_cosine_similarity 1, w_boolean 0,w_BM25_b_k1_k3_baselog [1, 0.75, 1.75, 1.75, 10]': (1.950790524482727,\n",
              "  0.44885),\n",
              " 'title_parms: w_cosine_similarity 0, w_boolean 0,w_BM25_b_k1_k3_baselog [1, 0.75, 1.75, 1.75, 10]     body_parms: w_cosine_similarity 1, w_boolean 1,w_BM25_b_k1_k3_baselog [1, 0.75, 1.75, 1.75, 10]': (2.416122019290924,\n",
              "  0.45835),\n",
              " 'title_parms: w_cosine_similarity 0, w_boolean 1,w_BM25_b_k1_k3_baselog [0, 0.75, 1.75, 1.75, 10]     body_parms: w_cosine_similarity 0, w_boolean 0,w_BM25_b_k1_k3_baselog [1, 0.75, 1.75, 1.75, 10]': (1.2554848790168762,\n",
              "  0.42989999999999995),\n",
              " 'title_parms: w_cosine_similarity 0, w_boolean 1,w_BM25_b_k1_k3_baselog [0, 0.75, 1.75, 1.75, 10]     body_parms: w_cosine_similarity 0, w_boolean 1,w_BM25_b_k1_k3_baselog [1, 0.75, 1.75, 1.75, 10]': (1.7160629510879517,\n",
              "  0.43545),\n",
              " 'title_parms: w_cosine_similarity 0, w_boolean 1,w_BM25_b_k1_k3_baselog [0, 0.75, 1.75, 1.75, 10]     body_parms: w_cosine_similarity 1, w_boolean 0,w_BM25_b_k1_k3_baselog [1, 0.75, 1.75, 1.75, 10]': (1.9491719484329224,\n",
              "  0.44545),\n",
              " 'title_parms: w_cosine_similarity 0, w_boolean 1,w_BM25_b_k1_k3_baselog [0, 0.75, 1.75, 1.75, 10]     body_parms: w_cosine_similarity 1, w_boolean 1,w_BM25_b_k1_k3_baselog [1, 0.75, 1.75, 1.75, 10]': (2.3954970121383665,\n",
              "  0.45990000000000003),\n",
              " 'title_parms: w_cosine_similarity 0, w_boolean 1,w_BM25_b_k1_k3_baselog [1, 0.75, 1.75, 1.75, 10]     body_parms: w_cosine_similarity 0, w_boolean 0,w_BM25_b_k1_k3_baselog [1, 0.75, 1.75, 1.75, 10]': (1.2876385688781737,\n",
              "  0.4347999999999999),\n",
              " 'title_parms: w_cosine_similarity 0, w_boolean 1,w_BM25_b_k1_k3_baselog [1, 0.75, 1.75, 1.75, 10]     body_parms: w_cosine_similarity 0, w_boolean 1,w_BM25_b_k1_k3_baselog [1, 0.75, 1.75, 1.75, 10]': (1.8259445309638977,\n",
              "  0.4460499999999999),\n",
              " 'title_parms: w_cosine_similarity 0, w_boolean 1,w_BM25_b_k1_k3_baselog [1, 0.75, 1.75, 1.75, 10]     body_parms: w_cosine_similarity 1, w_boolean 0,w_BM25_b_k1_k3_baselog [1, 0.75, 1.75, 1.75, 10]': (1.9691161632537841,\n",
              "  0.44975000000000004),\n",
              " 'title_parms: w_cosine_similarity 0, w_boolean 1,w_BM25_b_k1_k3_baselog [1, 0.75, 1.75, 1.75, 10]     body_parms: w_cosine_similarity 1, w_boolean 1,w_BM25_b_k1_k3_baselog [1, 0.75, 1.75, 1.75, 10]': (2.453342342376709,\n",
              "  0.4622)}"
            ]
          },
          "metadata": {},
          "execution_count": 27
        }
      ]
    },
    {
      "cell_type": "markdown",
      "source": [
        "### **Find weights**"
      ],
      "metadata": {
        "id": "1tujJ7UMAhQT"
      }
    },
    {
      "cell_type": "code",
      "source": [
        "def get_parameters_Find_weights():\n",
        "  parameters=get_init_param()\n",
        "  parameters[0]=0\n",
        "  parameters[1]=round(random.uniform(0.5, 1),3)\n",
        "  parameters[2]=0\n",
        "  parameters[3]=0.75\n",
        "  parameters[4]=1.75\n",
        "  parameters[5]=1.75\n",
        "  parameters[6]=10\n",
        "  parameters[7]=0\n",
        "  parameters[8]=round(1-parameters)\n",
        "  parameters[9]=0\n",
        "  parameters[10]=0.75\n",
        "  parameters[11]=1.75\n",
        "  parameters[12]=1.75\n",
        "  parameters[13]=10\n",
        "\n",
        "  return parameters"
      ],
      "metadata": {
        "id": "wecuccT9Agek"
      },
      "execution_count": null,
      "outputs": []
    },
    {
      "cell_type": "code",
      "source": [
        "for i in range(20):\n",
        "  parameters = get_parameters_Find_weights()\n",
        "  set_param(parameters)\n",
        "  qs_res = search()\n",
        "  print(qs_res)\n",
        "  print(parameters)\n",
        "  result_dict[prams_to_string(parameters)] = avg_time_pres(qs_res)"
      ],
      "metadata": {
        "id": "2HBjQq6wB4vU"
      },
      "execution_count": null,
      "outputs": []
    },
    {
      "cell_type": "markdown",
      "source": [
        "## **Plot Test Results** "
      ],
      "metadata": {
        "id": "rKPyxqj_mZii"
      }
    },
    {
      "cell_type": "code",
      "source": [
        "from nltk.metrics.scores import precision\n",
        "from matplotlib.pyplot import figure\n",
        "import matplotlib.pyplot as plt\n",
        "import numpy as np\n",
        "\n",
        "\n",
        "labels = result_dict.keys()\n",
        "duration,precision = zip(*result_dict.values())\n",
        "\n",
        "\n",
        "x = np.arange(len(labels))  # the label locations\n",
        "width = 0.35  # the width of the bars\n",
        "\n",
        "fig, ax = plt.subplots()\n",
        "rects1 = ax.bar(x - width/2, duration, width, label='duration')\n",
        "rects2 = ax.bar(x + width/2, precision, width, label='precision')\n",
        "\n",
        "# Add some text for labels, title and custom x-axis tick labels, etc.\n",
        "ax.set_ylabel('Scores')\n",
        "ax.set_title('Results Test :choosing the best model')\n",
        "ax.set_xticks(range(len(labels)))\n",
        "ax.legend()\n",
        "\n",
        "for bar in rects1:\n",
        "  height = bar.get_height()\n",
        "  ax.text(bar.get_x() + bar.get_width()/2, height, round(height,3), ha='center', va='bottom',fontsize=7,fontweight='bold')\n",
        "\n",
        "for bar in rects2:\n",
        "  height = bar.get_height()\n",
        "  ax.text(bar.get_x() + bar.get_width()/2, height, round(height,3), ha='center', va='bottom',fontsize=7,fontweight='bold')\n",
        "fig.tight_layout()\n",
        "\n",
        "plt.show()\n",
        "max_key = max(result_dict, key = lambda x: result_dict.get(x)[1])\n",
        "\n",
        "\n",
        "print(result_dict[max_key])\n",
        "print(max_key)"
      ],
      "metadata": {
        "colab": {
          "base_uri": "https://localhost:8080/",
          "height": 353
        },
        "id": "b9r91I1GmXwu",
        "outputId": "27a4590e-d101-4834-f71f-e47f7ca679f2"
      },
      "execution_count": 28,
      "outputs": [
        {
          "output_type": "display_data",
          "data": {
            "text/plain": [
              "<Figure size 432x288 with 1 Axes>"
            ],
            "image/png": "[encoded data removed]"
          },
          "metadata": {
            "needs_background": "light"
          }
        },
        {
          "output_type": "stream",
          "name": "stdout",
          "text": [
            "(0.12566481828689574, 0.4854499999999999)\n",
            "title_parms: w_cosine_similarity 0, w_boolean 1,w_BM25_b_k1_k3_baselog [1, 0.75, 1.75, 1.75, 10]     body_parms: w_cosine_similarity 0, w_boolean 0,w_BM25_b_k1_k3_baselog [0, 0.75, 1.75, 1.75, 10]\n"
          ]
        }
      ]
    },
    {
      "cell_type": "markdown",
      "source": [
        "## **Test search**"
      ],
      "metadata": {
        "id": "-wD0KIGP9-p_"
      }
    },
    {
      "cell_type": "code",
      "source": [
        "\n",
        "# url = 'http://35.232.59.3:8080'\n",
        "# place the domain you got from ngrok or GCP IP below. \n",
        "\n",
        "\n",
        "qs_res = []\n",
        "for q, true_wids in queries.items():\n",
        "  duration, ap,rc = None, None,None\n",
        "  t_start = time()\n",
        "  try:\n",
        "    res = requests.get(url + '/search', {'query': q}, timeout=35)\n",
        "    duration = time() - t_start\n",
        "    if res.status_code == 200:\n",
        "      pred_wids, _ = zip(*res.json())\n",
        "      ap = average_precision(true_wids, pred_wids)\n",
        "      rc = average_recall(true_wids, pred_wids)\n",
        "  except:\n",
        "    pass\n",
        "  \n",
        "  qs_res.append((q, duration, ap,rc))\n",
        "  \n"
      ],
      "metadata": {
        "id": "Gatr1Dtm-Cct"
      },
      "execution_count": 29,
      "outputs": []
    },
    {
      "cell_type": "code",
      "source": [
        "qs_res"
      ],
      "metadata": {
        "colab": {
          "base_uri": "https://localhost:8080/"
        },
        "id": "6AxGSP-SB31k",
        "outputId": "09d64a47-8409-495e-90dc-76087f7b8bc7"
      },
      "execution_count": 30,
      "outputs": [
        {
          "output_type": "execute_result",
          "data": {
            "text/plain": [
              "[('best marvel movie', 4.301950454711914, 0.45, None),\n",
              " ('How do kids come to world?', 6.905438184738159, 0.08, None),\n",
              " ('Information retrieval', 0.9737241268157959, 0.881, None),\n",
              " ('LinkedIn', 0.10118770599365234, 0.883, None),\n",
              " ('How to make coffee?', 1.9680249691009521, 0.585, None),\n",
              " ('Ritalin', 0.09023618698120117, 0.784, None),\n",
              " ('How to make wine at home?', 4.9937238693237305, 0.385, None),\n",
              " ('Most expensive city in the world', 8.699334621429443, 0.143, None),\n",
              " ('India', 1.9026885032653809, 0.295, None),\n",
              " ('how to make money fast?', 3.1496150493621826, 0.442, None),\n",
              " ('Netflix', 0.19153189659118652, 0.605, None),\n",
              " ('Apple computer', 1.1505606174468994, 0.531, None),\n",
              " ('The Simpsons', 0.13059496879577637, 0.273, None),\n",
              " ('World cup', 6.149096727371216, 0.215, None),\n",
              " ('How to lose weight?', 1.0000035762786865, 0.59, None),\n",
              " ('Java', 0.23090505599975586, 0.383, None),\n",
              " ('Air Jordan', 2.0790648460388184, 0.509, None),\n",
              " ('how to deal with depression?', 0.9901123046875, 0.301, None),\n",
              " ('How do you make gold', 3.614996910095215, 0.442, None),\n",
              " ('Marijuana', 0.14520621299743652, 0.467, None)]"
            ]
          },
          "metadata": {},
          "execution_count": 30
        }
      ]
    },
    {
      "cell_type": "code",
      "source": [
        "avg_time_pres(qs_res)"
      ],
      "metadata": {
        "colab": {
          "base_uri": "https://localhost:8080/",
          "height": 264
        },
        "id": "aKuFCaYolK--",
        "outputId": "021b9255-ccc5-4bda-a7c8-5738de9ee463"
      },
      "execution_count": 31,
      "outputs": [
        {
          "output_type": "error",
          "ename": "ValueError",
          "evalue": "ignored",
          "traceback": [
            "\u001b[0;31m---------------------------------------------------------------------------\u001b[0m",
            "\u001b[0;31mValueError\u001b[0m                                Traceback (most recent call last)",
            "\u001b[0;32m<ipython-input-31-b27bb7bff8cb>\u001b[0m in \u001b[0;36m<module>\u001b[0;34m\u001b[0m\n\u001b[0;32m----> 1\u001b[0;31m \u001b[0mavg_time_pres\u001b[0m\u001b[0;34m(\u001b[0m\u001b[0mqs_res\u001b[0m\u001b[0;34m)\u001b[0m\u001b[0;34m\u001b[0m\u001b[0;34m\u001b[0m\u001b[0m\n\u001b[0m",
            "\u001b[0;32m<ipython-input-17-fb5a5cc79946>\u001b[0m in \u001b[0;36mavg_time_pres\u001b[0;34m(qs)\u001b[0m\n\u001b[1;32m      1\u001b[0m \u001b[0;32mdef\u001b[0m \u001b[0mavg_time_pres\u001b[0m\u001b[0;34m(\u001b[0m\u001b[0mqs\u001b[0m\u001b[0;34m)\u001b[0m\u001b[0;34m:\u001b[0m\u001b[0;34m\u001b[0m\u001b[0;34m\u001b[0m\u001b[0m\n\u001b[0;32m----> 2\u001b[0;31m   \u001b[0;32mreturn\u001b[0m \u001b[0msum\u001b[0m\u001b[0;34m(\u001b[0m\u001b[0;34m[\u001b[0m\u001b[0mtime\u001b[0m \u001b[0;32mfor\u001b[0m \u001b[0m_\u001b[0m\u001b[0;34m,\u001b[0m\u001b[0mtime\u001b[0m\u001b[0;34m,\u001b[0m\u001b[0m_\u001b[0m \u001b[0;32min\u001b[0m \u001b[0mqs\u001b[0m\u001b[0;34m]\u001b[0m\u001b[0;34m)\u001b[0m\u001b[0;34m/\u001b[0m\u001b[0mlen\u001b[0m\u001b[0;34m(\u001b[0m\u001b[0mqs\u001b[0m\u001b[0;34m)\u001b[0m\u001b[0;34m,\u001b[0m\u001b[0msum\u001b[0m\u001b[0;34m(\u001b[0m\u001b[0;34m[\u001b[0m\u001b[0mpres\u001b[0m \u001b[0;32mfor\u001b[0m \u001b[0m_\u001b[0m\u001b[0;34m,\u001b[0m\u001b[0m_\u001b[0m\u001b[0;34m,\u001b[0m\u001b[0mpres\u001b[0m \u001b[0;32min\u001b[0m \u001b[0mqs\u001b[0m \u001b[0;32mif\u001b[0m \u001b[0mpres\u001b[0m\u001b[0;34m!=\u001b[0m \u001b[0;32mNone\u001b[0m\u001b[0;34m]\u001b[0m\u001b[0;34m)\u001b[0m\u001b[0;34m/\u001b[0m\u001b[0;34m(\u001b[0m\u001b[0mlen\u001b[0m\u001b[0;34m(\u001b[0m\u001b[0mqs\u001b[0m\u001b[0;34m)\u001b[0m\u001b[0;34m)\u001b[0m\u001b[0;34m\u001b[0m\u001b[0;34m\u001b[0m\u001b[0m\n\u001b[0m",
            "\u001b[0;32m<ipython-input-17-fb5a5cc79946>\u001b[0m in \u001b[0;36m<listcomp>\u001b[0;34m(.0)\u001b[0m\n\u001b[1;32m      1\u001b[0m \u001b[0;32mdef\u001b[0m \u001b[0mavg_time_pres\u001b[0m\u001b[0;34m(\u001b[0m\u001b[0mqs\u001b[0m\u001b[0;34m)\u001b[0m\u001b[0;34m:\u001b[0m\u001b[0;34m\u001b[0m\u001b[0;34m\u001b[0m\u001b[0m\n\u001b[0;32m----> 2\u001b[0;31m   \u001b[0;32mreturn\u001b[0m \u001b[0msum\u001b[0m\u001b[0;34m(\u001b[0m\u001b[0;34m[\u001b[0m\u001b[0mtime\u001b[0m \u001b[0;32mfor\u001b[0m \u001b[0m_\u001b[0m\u001b[0;34m,\u001b[0m\u001b[0mtime\u001b[0m\u001b[0;34m,\u001b[0m\u001b[0m_\u001b[0m \u001b[0;32min\u001b[0m \u001b[0mqs\u001b[0m\u001b[0;34m]\u001b[0m\u001b[0;34m)\u001b[0m\u001b[0;34m/\u001b[0m\u001b[0mlen\u001b[0m\u001b[0;34m(\u001b[0m\u001b[0mqs\u001b[0m\u001b[0;34m)\u001b[0m\u001b[0;34m,\u001b[0m\u001b[0msum\u001b[0m\u001b[0;34m(\u001b[0m\u001b[0;34m[\u001b[0m\u001b[0mpres\u001b[0m \u001b[0;32mfor\u001b[0m \u001b[0m_\u001b[0m\u001b[0;34m,\u001b[0m\u001b[0m_\u001b[0m\u001b[0;34m,\u001b[0m\u001b[0mpres\u001b[0m \u001b[0;32min\u001b[0m \u001b[0mqs\u001b[0m \u001b[0;32mif\u001b[0m \u001b[0mpres\u001b[0m\u001b[0;34m!=\u001b[0m \u001b[0;32mNone\u001b[0m\u001b[0;34m]\u001b[0m\u001b[0;34m)\u001b[0m\u001b[0;34m/\u001b[0m\u001b[0;34m(\u001b[0m\u001b[0mlen\u001b[0m\u001b[0;34m(\u001b[0m\u001b[0mqs\u001b[0m\u001b[0;34m)\u001b[0m\u001b[0;34m)\u001b[0m\u001b[0;34m\u001b[0m\u001b[0;34m\u001b[0m\u001b[0m\n\u001b[0m",
            "\u001b[0;31mValueError\u001b[0m: too many values to unpack (expected 3)"
          ]
        }
      ]
    },
    {
      "cell_type": "code",
      "source": [
        "result_dict[prams_to_string(parameters)] = avg_time_pres(qs_res)"
      ],
      "metadata": {
        "id": "bNlaCcfx-LPU"
      },
      "execution_count": null,
      "outputs": []
    },
    {
      "cell_type": "code",
      "source": [
        "result_dict "
      ],
      "metadata": {
        "id": "78PqsrTRG6gQ"
      },
      "execution_count": null,
      "outputs": []
    },
    {
      "cell_type": "markdown",
      "source": [
        "## **Test search_body**"
      ],
      "metadata": {
        "id": "e-lvloy_97TN"
      }
    },
    {
      "cell_type": "code",
      "source": [
        "qs_res = []\n",
        "for q, true_wids in queries.items():\n",
        "  duration, ap = None, None\n",
        "  t_start = time()\n",
        "  try:\n",
        "    res = requests.get(url + '/search_body', {'query': q}, timeout=35)\n",
        "    duration = time() - t_start\n",
        "    if res.status_code == 200:\n",
        "      pred_wids, _ = zip(*res.json())\n",
        "      ap = average_precision(true_wids, pred_wids)\n",
        "  except:\n",
        "    pass\n",
        "  \n",
        "  qs_res.append((q, duration, ap))"
      ],
      "metadata": {
        "id": "gsaD3VfS9GkB"
      },
      "execution_count": null,
      "outputs": []
    },
    {
      "cell_type": "code",
      "source": [
        "qs_res"
      ],
      "metadata": {
        "id": "NBeoYHKlncb9"
      },
      "execution_count": null,
      "outputs": []
    },
    {
      "cell_type": "code",
      "source": [
        "avg_time_pres(qs_res)"
      ],
      "metadata": {
        "id": "8l-Rn-DR-1Mk"
      },
      "execution_count": null,
      "outputs": []
    },
    {
      "cell_type": "markdown",
      "source": [
        "## **Test search_title**"
      ],
      "metadata": {
        "id": "Gp0Wc-mu9s63"
      }
    },
    {
      "cell_type": "code",
      "source": [
        "qs_res = []\n",
        "for q, true_wids in queries.items():\n",
        "  duration, ap = None, None\n",
        "  t_start = time()\n",
        "  try:\n",
        "    res = requests.get(url + '/search_title', {'query': q}, timeout=35)\n",
        "    duration = time() - t_start\n",
        "    if res.status_code == 200:\n",
        "      pred_wids, _ = zip(*res.json())\n",
        "      ap = average_precision(true_wids, pred_wids)\n",
        "  except:\n",
        "    pass\n",
        "  \n",
        "  qs_res.append((q, duration, ap))"
      ],
      "metadata": {
        "id": "xIzj0oIo-3bR"
      },
      "execution_count": null,
      "outputs": []
    },
    {
      "cell_type": "code",
      "source": [
        "qs_res"
      ],
      "metadata": {
        "id": "cTE9HXfTndfG"
      },
      "execution_count": null,
      "outputs": []
    },
    {
      "cell_type": "code",
      "source": [
        "avg_time_pres(qs_res)"
      ],
      "metadata": {
        "id": "4hXnKJH99GrA"
      },
      "execution_count": null,
      "outputs": []
    },
    {
      "cell_type": "markdown",
      "source": [
        "## **Test search_anchor**"
      ],
      "metadata": {
        "id": "sMMV1wzQ9zNI"
      }
    },
    {
      "cell_type": "code",
      "source": [
        "qs_res = []\n",
        "for q, true_wids in queries.items():\n",
        "  duration, ap = None, None\n",
        "  t_start = time()\n",
        "  try:\n",
        "    res = requests.get(url + '/search_anchor', {'query': q}, timeout=35)\n",
        "    duration = time() - t_start\n",
        "    if res.status_code == 200:\n",
        "      pred_wids, _ = zip(*res.json())\n",
        "      ap = average_precision(true_wids, pred_wids)\n",
        "  except:\n",
        "    pass\n",
        "  \n",
        "  qs_res.append((q, duration, ap))"
      ],
      "metadata": {
        "id": "jxx7MJc29GzG"
      },
      "execution_count": null,
      "outputs": []
    },
    {
      "cell_type": "code",
      "source": [
        "qs_res"
      ],
      "metadata": {
        "id": "YfKA6WBV_EbH"
      },
      "execution_count": null,
      "outputs": []
    },
    {
      "cell_type": "code",
      "source": [
        "avg_time_pres(qs_res)"
      ],
      "metadata": {
        "id": "Hha4GQDn2oCu"
      },
      "execution_count": null,
      "outputs": []
    },
    {
      "cell_type": "markdown",
      "source": [
        "## **Test Page Rank**"
      ],
      "metadata": {
        "id": "-m5bHO0O9o6p"
      }
    },
    {
      "cell_type": "code",
      "source": [
        "qs_res = []\n",
        "lst = [100,200,300,565677,54656,89897]\n",
        "\n",
        "duration, ap = None, None\n",
        "t_start = time()\n",
        "try:\n",
        "  res = requests.post(url+'/get_pagerank',json=lst)\n",
        "  duration = time() - t_start\n",
        "  if res.status_code == 200:\n",
        "    qs_res= res.json()\n",
        "except:\n",
        "  pass\n",
        "  \n",
        "qs_res"
      ],
      "metadata": {
        "id": "cbmkpYRU9G9f"
      },
      "execution_count": null,
      "outputs": []
    },
    {
      "cell_type": "markdown",
      "source": [
        "## **Test Page View**"
      ],
      "metadata": {
        "id": "nwwHip4a9IqF"
      }
    },
    {
      "cell_type": "code",
      "source": [
        "qs_res = []\n",
        "lst = [100,200,300,565677,54656,89897]\n",
        "\n",
        "duration, ap = None, None\n",
        "t_start = time()\n",
        "try:\n",
        "  res = requests.post(url+'/get_pageview',json=lst)\n",
        "  duration = time() - t_start\n",
        "  if res.status_code == 200:\n",
        "    qs_res= res.json()\n",
        "except:\n",
        "  pass\n",
        "  \n",
        "qs_res"
      ],
      "metadata": {
        "id": "dYmNTq9u0ChK"
      },
      "execution_count": null,
      "outputs": []
    }
  ]
}