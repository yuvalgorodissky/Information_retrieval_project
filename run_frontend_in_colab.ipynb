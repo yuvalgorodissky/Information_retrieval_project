{
  "nbformat": 4,
  "nbformat_minor": 0,
  "metadata": {
    "colab": {
      "name": "run_frontend_in_colab.ipynb",
      "provenance": []
    },
    "kernelspec": {
      "name": "python3",
      "display_name": "Python 3"
    },
    "language_info": {
      "name": "python"
    }
  },
  "cells": [
    {
      "cell_type": "markdown",
      "source": [
        "# Testing your app\n",
        "\n",
        "Once your app is running you can query it. You can simply do that by navigating to the URL that ngrok gave you above or through code in a different python session. For example, once the frontend app is running, you can navigate to:\n",
        "http://YOUR_SERVER_DOMAIN/search?query=hello+world where YOUR_SERVER_DOMAIN is something like XXXX-XX-XX-XX-XX.ngrok.io, which is printed above in Colab or that is your external IP on GCP.\n",
        "\n",
        "The code below shows how to issue a query from python. This is also how our testing code will issue queries to your search engine, so make sure to test your search engine this way after you deploy it to GCP and before submission. Command line instructions for deploying your search engine to GCP are available at `run_frontend_in_gcp.sh`. Note that we will not only issue training queries to your search engine, but also test queries, i.e. queries that you've never seen before."
      ],
      "metadata": {
        "id": "Na0MC_1nzDbi"
      }
    },
    {
      "cell_type": "code",
      "source": [
        "import json\n",
        "\n",
        "with open('queries_train.json', 'rt') as f:\n",
        "  # queries = dict(list(json.load(f).items())[20:])\n",
        "  queries = json.load(f)"
      ],
      "metadata": {
        "id": "EM5ePrRHojbG"
      },
      "execution_count": 72,
      "outputs": []
    },
    {
      "cell_type": "code",
      "source": [
        "def average_precision(true_list, predicted_list, k=40):\n",
        "    true_set = frozenset(true_list)\n",
        "    predicted_list = predicted_list[:k]\n",
        "    precisions = []\n",
        "    for i,doc_id in enumerate(predicted_list):        \n",
        "        if doc_id in true_set:\n",
        "            prec = (len(precisions)+1) / (i+1)            \n",
        "            precisions.append(prec)\n",
        "    if len(precisions) == 0:\n",
        "        return 0.0\n",
        "    return round(sum(precisions)/len(precisions),3)"
      ],
      "metadata": {
        "id": "gWimZWCOy3Ei"
      },
      "execution_count": 55,
      "outputs": []
    },
    {
      "cell_type": "code",
      "source": [
        "def average_recall(true_list, predicted_list):\n",
        "    true_set =frozenset(true_list)\n",
        "    predicted_list = predicted_list\n",
        "    summ=0\n",
        "    for doc_id in true_set:        \n",
        "        if doc_id in list(predicted_list):\n",
        "            summ+=1\n",
        "    if summ == 0:\n",
        "        return 0.0\n",
        "    return round(summ/len(true_list),3)"
      ],
      "metadata": {
        "id": "6ymVt9h9KwfS"
      },
      "execution_count": 57,
      "outputs": []
    },
    {
      "cell_type": "code",
      "source": [
        "def avg_time_pres(qs):\n",
        "  return sum([time for _,time,_,_ in qs])/len(qs),sum([pres for _,_,pres,_ in qs if pres!= None])/(len(qs)),sum([rec for _,_,_,rec in qs if rec!= None])/(len(qs))\n"
      ],
      "metadata": {
        "id": "ZWxHZJOynZhy"
      },
      "execution_count": 58,
      "outputs": []
    },
    {
      "cell_type": "code",
      "source": [
        "def prams_to_string(parms):\n",
        "  return f'title_parms: w_cosine_similarity {parms[0]}, w_boolean {parms[1]},w_BM25_b_k1_k3_baselog {parms[2:7]}     body_parms: w_cosine_similarity {parms[7]}, w_boolean {parms[8]},w_BM25_b_k1_k3_baselog {parms[9:14]} merge={parms[14]}'\n",
        "  \n"
      ],
      "metadata": {
        "id": "Kb1WY-UVDWO_"
      },
      "execution_count": 59,
      "outputs": []
    },
    {
      "cell_type": "code",
      "source": [
        "import requests\n",
        "from time import time\n",
        "url = 'http://34.173.94.228:8080'"
      ],
      "metadata": {
        "id": "lO7XqIlM-FGZ"
      },
      "execution_count": 60,
      "outputs": []
    },
    {
      "cell_type": "markdown",
      "source": [
        "## **result dict by parameters**"
      ],
      "metadata": {
        "id": "CeOVXkRH9kGB"
      }
    },
    {
      "cell_type": "code",
      "source": [
        "result_dict={}"
      ],
      "metadata": {
        "id": "aUmu16A19hZZ"
      },
      "execution_count": 76,
      "outputs": []
    },
    {
      "cell_type": "markdown",
      "source": [
        "## **set parameters**"
      ],
      "metadata": {
        "id": "MrBt6syC-bWK"
      }
    },
    {
      "cell_type": "code",
      "source": [
        "qs_res = []\n",
        "p_title_cosine_similarity = 0\n",
        "p_title_boolean = 0.6\n",
        "p_title_BM25 = 0.7\n",
        "b_title_BM25 =0\n",
        "k1_title_BM25 = 1.75\n",
        "k3_title_BM25 = 1.75\n",
        "base_log_title_BM25 = 10\n",
        "\n",
        "p_body_cosine_similarity = 0\n",
        "p_body_boolean = 0\n",
        "p_body_BM25 = 0.3\n",
        "b_body_BM25 = 0.54\n",
        "k1_body_BM25 = 1.84\n",
        "k3_body_BM25 = 1.95\n",
        "base_log_body_BM25 = 10\n",
        "\n",
        "merge_n=230\n",
        "\n",
        "parameters=[p_title_cosine_similarity,p_title_boolean,p_title_BM25,b_title_BM25,k1_title_BM25,k3_title_BM25,base_log_title_BM25,\n",
        "            p_body_cosine_similarity,p_body_boolean,p_body_BM25,b_body_BM25,k1_body_BM25,k3_body_BM25,base_log_body_BM25,merge_n]\n",
        "\n"
      ],
      "metadata": {
        "id": "UqkmK72Q9fi-"
      },
      "execution_count": 64,
      "outputs": []
    },
    {
      "cell_type": "code",
      "source": [
        "duration, ap = None, None\n",
        "t_start = time()\n",
        "try:\n",
        "  res = requests.post(url+'/set_parameters',json=parameters)\n",
        "  duration = time() - t_start\n",
        "  if res.status_code == 200:\n",
        "    qs_res= res.json()\n",
        "except:\n",
        "  pass\n",
        "  \n",
        "qs_res"
      ],
      "metadata": {
        "colab": {
          "base_uri": "https://localhost:8080/"
        },
        "id": "V-c-Ym6hJ4cD",
        "outputId": "afe4aabc-ce65-4563-9258-bb4c6e9a4475"
      },
      "execution_count": 66,
      "outputs": [
        {
          "output_type": "execute_result",
          "data": {
            "text/plain": [
              "[True]"
            ]
          },
          "metadata": {},
          "execution_count": 66
        }
      ]
    },
    {
      "cell_type": "markdown",
      "source": [
        "## **Auto Tests**\n"
      ],
      "metadata": {
        "id": "CNcS4xcqcaOg"
      }
    },
    {
      "cell_type": "code",
      "source": [
        "import random\n",
        "def get_parameters(parameters):\n",
        "  for i in range(len(parameters)-4):\n",
        "    parameters[2]=round(random.uniform(0.5, 1),2)\n",
        "    parameters[9]=1-parameters[2]\n",
        "    # parameters[10]=round(random.uniform(0.4, 0.6),2)\n",
        "    # parameters[11]=round(random.uniform(1, 2),2)\n",
        "    # parameters[12]=round(random.uniform(1, 2),2)\n",
        "\n",
        "    parameters[14]=random.randint(100, 250)\n",
        "  return parameters"
      ],
      "metadata": {
        "id": "sQ0T7BTgcbFM"
      },
      "execution_count": 80,
      "outputs": []
    },
    {
      "cell_type": "code",
      "source": [
        "def set_param(parameters):\n",
        "  duration, ap = None, None\n",
        "  try:\n",
        "    res = requests.post(url+'/set_parameters',json=parameters)\n",
        "    if res.status_code == 200:\n",
        "      qs_res= res.json()\n",
        "  except:\n",
        "    pass"
      ],
      "metadata": {
        "id": "iH3YSmOSgdy_"
      },
      "execution_count": 81,
      "outputs": []
    },
    {
      "cell_type": "code",
      "source": [
        "def search():\n",
        "  qs_res = []\n",
        "  for q, true_wids in queries.items():\n",
        "    duration, ap ,rc= None, None,None\n",
        "    t_start = time()\n",
        "    try:\n",
        "      res = requests.get(url + '/search', {'query': q}, timeout=35)\n",
        "      duration = time() - t_start\n",
        "      if res.status_code == 200:\n",
        "        pred_wids, _ = zip(*res.json())\n",
        "        ap = average_precision(true_wids, pred_wids)\n",
        "        rc = average_recall(true_wids, pred_wids)\n",
        "    except:\n",
        "      pass\n",
        "    \n",
        "    qs_res.append((q, duration, ap,rc))\n",
        "  return(qs_res)"
      ],
      "metadata": {
        "id": "OtGxZpfTg0IE"
      },
      "execution_count": 82,
      "outputs": []
    },
    {
      "cell_type": "code",
      "source": [
        "  for i in range(8):\n",
        "    parameters = get_parameters(parameters)\n",
        "    print(parameters)\n",
        "    set_param(parameters)\n",
        "    qs_res = search()\n",
        "    result_dict[prams_to_string(parameters)] = avg_time_pres(qs_res)\n",
        "    \n",
        "    \n"
      ],
      "metadata": {
        "id": "TwJQOP-SeS6k",
        "outputId": "7105bebe-3fea-41e0-e0fe-5f48f1878855",
        "colab": {
          "base_uri": "https://localhost:8080/"
        }
      },
      "execution_count": 83,
      "outputs": [
        {
          "output_type": "stream",
          "name": "stdout",
          "text": [
            "[0, 0.6, 0.54, 0, 1.75, 1.75, 10, 0, 0, 0.45999999999999996, 0.54, 1.84, 1.95, 10, 211]\n",
            "[0, 0.6, 0.93, 0, 1.75, 1.75, 10, 0, 0, 0.06999999999999995, 0.54, 1.84, 1.95, 10, 102]\n",
            "[0, 0.6, 0.83, 0, 1.75, 1.75, 10, 0, 0, 0.17000000000000004, 0.54, 1.84, 1.95, 10, 157]\n",
            "[0, 0.6, 0.92, 0, 1.75, 1.75, 10, 0, 0, 0.07999999999999996, 0.54, 1.84, 1.95, 10, 190]\n",
            "[0, 0.6, 0.54, 0, 1.75, 1.75, 10, 0, 0, 0.45999999999999996, 0.54, 1.84, 1.95, 10, 242]\n",
            "[0, 0.6, 0.97, 0, 1.75, 1.75, 10, 0, 0, 0.030000000000000027, 0.54, 1.84, 1.95, 10, 194]\n",
            "[0, 0.6, 0.75, 0, 1.75, 1.75, 10, 0, 0, 0.25, 0.54, 1.84, 1.95, 10, 213]\n",
            "[0, 0.6, 0.76, 0, 1.75, 1.75, 10, 0, 0, 0.24, 0.54, 1.84, 1.95, 10, 184]\n"
          ]
        }
      ]
    },
    {
      "cell_type": "code",
      "source": [
        "result_dict\n"
      ],
      "metadata": {
        "id": "rVOLyGK-Ij7G",
        "outputId": "e7aae0ab-7bf3-4096-9a81-6aa110fc2d8a",
        "colab": {
          "base_uri": "https://localhost:8080/"
        }
      },
      "execution_count": 39,
      "outputs": [
        {
          "output_type": "execute_result",
          "data": {
            "text/plain": [
              "{'title_parms: w_cosine_similarity 0, w_boolean 0.6,w_BM25_b_k1_k3_baselog [0.7, 0, 1.75, 1.75, 10]     body_parms: w_cosine_similarity 0, w_boolean 0,w_BM25_b_k1_k3_baselog [0.3, 1.09, 1.19, 1.52, 10] merge=230': (2.1143392244974772,\n",
              "  0.6445000000000002,\n",
              "  0.17400000000000002),\n",
              " 'title_parms: w_cosine_similarity 0, w_boolean 0.6,w_BM25_b_k1_k3_baselog [0.7, 0, 1.75, 1.75, 10]     body_parms: w_cosine_similarity 0, w_boolean 0,w_BM25_b_k1_k3_baselog [0.3, 0.8, 1.78, 1.6, 10] merge=230': (1.9795051256815592,\n",
              "  0.6598333333333334,\n",
              "  0.17400000000000002),\n",
              " 'title_parms: w_cosine_similarity 0, w_boolean 0.6,w_BM25_b_k1_k3_baselog [0.7, 0, 1.75, 1.75, 10]     body_parms: w_cosine_similarity 0, w_boolean 0,w_BM25_b_k1_k3_baselog [0.3, 0.94, 1.39, 1.34, 10] merge=230': (1.9722492853800455,\n",
              "  0.6483000000000002,\n",
              "  0.17400000000000002),\n",
              " 'title_parms: w_cosine_similarity 0, w_boolean 0.6,w_BM25_b_k1_k3_baselog [0.7, 0, 1.75, 1.75, 10]     body_parms: w_cosine_similarity 0, w_boolean 0,w_BM25_b_k1_k3_baselog [0.3, 1.15, 1.78, 1.79, 10] merge=230': (1.977925165494283,\n",
              "  0.6289666666666667,\n",
              "  0.17400000000000002),\n",
              " 'title_parms: w_cosine_similarity 0, w_boolean 0.6,w_BM25_b_k1_k3_baselog [0.7, 0, 1.75, 1.75, 10]     body_parms: w_cosine_similarity 0, w_boolean 0,w_BM25_b_k1_k3_baselog [0.3, 0.54, 1.84, 1.95, 10] merge=230': (1.9768154462178549,\n",
              "  0.6860666666666667,\n",
              "  0.17486666666666667),\n",
              " 'title_parms: w_cosine_similarity 0, w_boolean 0.6,w_BM25_b_k1_k3_baselog [0.7, 0, 1.75, 1.75, 10]     body_parms: w_cosine_similarity 0, w_boolean 0,w_BM25_b_k1_k3_baselog [0.3, 0.91, 1.79, 1.57, 10] merge=230': (2.036972975730896,\n",
              "  0.6522000000000001,\n",
              "  0.17400000000000002),\n",
              " 'title_parms: w_cosine_similarity 0, w_boolean 0.6,w_BM25_b_k1_k3_baselog [0.7, 0, 1.75, 1.75, 10]     body_parms: w_cosine_similarity 0, w_boolean 0,w_BM25_b_k1_k3_baselog [0.3, 0.97, 1.93, 1.79, 10] merge=230': (1.9429243803024292,\n",
              "  0.6435,\n",
              "  0.17400000000000002),\n",
              " 'title_parms: w_cosine_similarity 0, w_boolean 0.6,w_BM25_b_k1_k3_baselog [0.7, 0, 1.75, 1.75, 10]     body_parms: w_cosine_similarity 0, w_boolean 0,w_BM25_b_k1_k3_baselog [0.3, 1.0, 1.36, 1.69, 10] merge=230': (1.9432764212290445,\n",
              "  0.6506333333333334,\n",
              "  0.17400000000000002),\n",
              " 'title_parms: w_cosine_similarity 0, w_boolean 0.6,w_BM25_b_k1_k3_baselog [0.7, 0, 1.75, 1.75, 10]     body_parms: w_cosine_similarity 0, w_boolean 0,w_BM25_b_k1_k3_baselog [0.3, 1.17, 1.3, 1.46, 10] merge=230': (1.9427963415781657,\n",
              "  0.6348333333333334,\n",
              "  0.17400000000000002),\n",
              " 'title_parms: w_cosine_similarity 0, w_boolean 0.6,w_BM25_b_k1_k3_baselog [0.7, 0, 1.75, 1.75, 10]     body_parms: w_cosine_similarity 0, w_boolean 0,w_BM25_b_k1_k3_baselog [0.3, 0.9, 1.22, 1.67, 10] merge=230': (1.9259950637817382,\n",
              "  0.6498333333333335,\n",
              "  0.17400000000000002),\n",
              " 'title_parms: w_cosine_similarity 0, w_boolean 0.6,w_BM25_b_k1_k3_baselog [0.7, 0, 1.75, 1.75, 10]     body_parms: w_cosine_similarity 0, w_boolean 0,w_BM25_b_k1_k3_baselog [0.3, 0.54, 1.17, 1.15, 10] merge=230': (1.939263113339742,\n",
              "  0.6587666666666666,\n",
              "  0.17486666666666667),\n",
              " 'title_parms: w_cosine_similarity 0, w_boolean 0.6,w_BM25_b_k1_k3_baselog [0.7, 0, 1.75, 1.75, 10]     body_parms: w_cosine_similarity 0, w_boolean 0,w_BM25_b_k1_k3_baselog [0.3, 0.47, 1.17, 1.71, 10] merge=230': (1.9638472557067872,\n",
              "  0.6555333333333332,\n",
              "  0.17486666666666667),\n",
              " 'title_parms: w_cosine_similarity 0, w_boolean 0.6,w_BM25_b_k1_k3_baselog [0.7, 0, 1.75, 1.75, 10]     body_parms: w_cosine_similarity 0, w_boolean 0,w_BM25_b_k1_k3_baselog [0.3, 0.52, 1.16, 1.5, 10] merge=230': (1.9462312857309978,\n",
              "  0.6512999999999999,\n",
              "  0.17486666666666667),\n",
              " 'title_parms: w_cosine_similarity 0, w_boolean 0.6,w_BM25_b_k1_k3_baselog [0.7, 0, 1.75, 1.75, 10]     body_parms: w_cosine_similarity 0, w_boolean 0,w_BM25_b_k1_k3_baselog [0.3, 0.46, 1.85, 1.79, 10] merge=230': (1.9399184624354044,\n",
              "  0.6826000000000002,\n",
              "  0.17486666666666667),\n",
              " 'title_parms: w_cosine_similarity 0, w_boolean 0.6,w_BM25_b_k1_k3_baselog [0.7, 0, 1.75, 1.75, 10]     body_parms: w_cosine_similarity 0, w_boolean 0,w_BM25_b_k1_k3_baselog [0.3, 0.54, 1.59, 1.12, 10] merge=230': (2.0633418480555217,\n",
              "  0.6472666666666668,\n",
              "  0.17486666666666667),\n",
              " 'title_parms: w_cosine_similarity 0, w_boolean 0.6,w_BM25_b_k1_k3_baselog [0.7, 0, 1.75, 1.75, 10]     body_parms: w_cosine_similarity 0, w_boolean 0,w_BM25_b_k1_k3_baselog [0.3, 0.44, 1.26, 1.3, 10] merge=230': (1.972173794110616,\n",
              "  0.6684666666666668,\n",
              "  0.17553333333333337),\n",
              " 'title_parms: w_cosine_similarity 0, w_boolean 0.6,w_BM25_b_k1_k3_baselog [0.7, 0, 1.75, 1.75, 10]     body_parms: w_cosine_similarity 0, w_boolean 0,w_BM25_b_k1_k3_baselog [0.3, 0.43, 1.55, 1.28, 10] merge=230': (1.9529243151346842,\n",
              "  0.6645666666666667,\n",
              "  0.17553333333333337),\n",
              " 'title_parms: w_cosine_similarity 0, w_boolean 0.6,w_BM25_b_k1_k3_baselog [0.7, 0, 1.75, 1.75, 10]     body_parms: w_cosine_similarity 0, w_boolean 0,w_BM25_b_k1_k3_baselog [0.3, 0.59, 1.71, 1.43, 10] merge=230': (1.9358871539433797,\n",
              "  0.6695000000000001,\n",
              "  0.17400000000000002),\n",
              " 'title_parms: w_cosine_similarity 0, w_boolean 0.6,w_BM25_b_k1_k3_baselog [0.87, 0, 1.75, 1.75, 10]     body_parms: w_cosine_similarity 0, w_boolean 0,w_BM25_b_k1_k3_baselog [0.13, 0.54, 1.84, 1.95, 10] merge=230': (1.9221060276031494,\n",
              "  0.5723666666666667,\n",
              "  0.2531333333333333),\n",
              " 'title_parms: w_cosine_similarity 0, w_boolean 0.6,w_BM25_b_k1_k3_baselog [0.97, 0, 1.75, 1.75, 10]     body_parms: w_cosine_similarity 0, w_boolean 0,w_BM25_b_k1_k3_baselog [0.030000000000000027, 0.54, 1.84, 1.95, 10] merge=230': (1.926373545328776,\n",
              "  0.5512,\n",
              "  0.27659999999999996),\n",
              " 'title_parms: w_cosine_similarity 0, w_boolean 0.6,w_BM25_b_k1_k3_baselog [0.61, 0, 1.75, 1.75, 10]     body_parms: w_cosine_similarity 0, w_boolean 0,w_BM25_b_k1_k3_baselog [0.39, 0.54, 1.84, 1.95, 10] merge=230': (1.9016405502955118,\n",
              "  0.6633666666666667,\n",
              "  0.15306666666666668),\n",
              " 'title_parms: w_cosine_similarity 0, w_boolean 0.6,w_BM25_b_k1_k3_baselog [0.73, 0, 1.75, 1.75, 10]     body_parms: w_cosine_similarity 0, w_boolean 0,w_BM25_b_k1_k3_baselog [0.27, 0.54, 1.84, 1.95, 10] merge=230': (1.899691597620646,\n",
              "  0.6780333333333334,\n",
              "  0.1824666666666667),\n",
              " 'title_parms: w_cosine_similarity 0, w_boolean 0.6,w_BM25_b_k1_k3_baselog [0.58, 0, 1.75, 1.75, 10]     body_parms: w_cosine_similarity 0, w_boolean 0,w_BM25_b_k1_k3_baselog [0.42000000000000004, 0.54, 1.84, 1.95, 10] merge=230': (1.934435741106669,\n",
              "  0.6659,\n",
              "  0.15240000000000004),\n",
              " 'title_parms: w_cosine_similarity 0, w_boolean 0.6,w_BM25_b_k1_k3_baselog [0.57, 0, 1.75, 1.75, 10]     body_parms: w_cosine_similarity 0, w_boolean 0,w_BM25_b_k1_k3_baselog [0.43000000000000005, 0.54, 1.84, 1.95, 10] merge=230': (1.9120738903681438,\n",
              "  0.6676333333333333,\n",
              "  0.15193333333333336),\n",
              " 'title_parms: w_cosine_similarity 0, w_boolean 0.6,w_BM25_b_k1_k3_baselog [0.93, 0, 1.75, 1.75, 10]     body_parms: w_cosine_similarity 0, w_boolean 0,w_BM25_b_k1_k3_baselog [0.06999999999999995, 0.54, 1.84, 1.95, 10] merge=230': (1.91836519241333,\n",
              "  0.5866666666666667,\n",
              "  0.2715333333333333)}"
            ]
          },
          "metadata": {},
          "execution_count": 39
        }
      ]
    },
    {
      "cell_type": "markdown",
      "source": [
        "## **Plot Test Results** "
      ],
      "metadata": {
        "id": "rKPyxqj_mZii"
      }
    },
    {
      "cell_type": "code",
      "source": [
        "from nltk.metrics.scores import precision\n",
        "from matplotlib.pyplot import figure\n",
        "import matplotlib.pyplot as plt\n",
        "import numpy as np\n",
        "\n",
        "\n",
        "labels = result_dict.keys()\n",
        "duration,precision,_ = zip(*result_dict.values())\n",
        "\n",
        "\n",
        "x = np.arange(len(labels))  # the label locations\n",
        "width = 0.35  # the width of the bars\n",
        "\n",
        "fig, ax = plt.subplots()\n",
        "rects1 = ax.bar(x - width/2, duration, width, label='duration')\n",
        "rects2 = ax.bar(x + width/2, precision, width, label='precision')\n",
        "\n",
        "# Add some text for labels, title and custom x-axis tick labels, etc.\n",
        "ax.set_ylabel('Scores')\n",
        "ax.set_title('Results Test')\n",
        "ax.set_xticks(range(len(labels)))\n",
        "ax.legend()\n",
        "\n",
        "for bar in rects1:\n",
        "  height = bar.get_height()\n",
        "  ax.text(bar.get_x() + bar.get_width()/2, height, round(height,3), ha='center', va='bottom',fontsize=7,fontweight='bold')\n",
        "\n",
        "for bar in rects2:\n",
        "  height = bar.get_height()\n",
        "  ax.text(bar.get_x() + bar.get_width()/2, height, round(height,3), ha='center', va='bottom',fontsize=7,fontweight='bold')\n",
        "fig.tight_layout()\n",
        "\n",
        "plt.show()\n",
        "max_key = max(result_dict, key = lambda x: result_dict.get(x)[1])\n",
        "\n",
        "\n",
        "print(result_dict[max_key])\n",
        "print(max_key)"
      ],
      "metadata": {
        "colab": {
          "base_uri": "https://localhost:8080/",
          "height": 353
        },
        "id": "b9r91I1GmXwu",
        "outputId": "553c4f8b-b8cb-430e-e589-b1149971b022"
      },
      "execution_count": 40,
      "outputs": [
        {
          "output_type": "display_data",
          "data": {
            "text/plain": [
              "<Figure size 432x288 with 1 Axes>"
            ],
            "image/png": "[encoded data removed]"
          },
          "metadata": {
            "needs_background": "light"
          }
        },
        {
          "output_type": "stream",
          "name": "stdout",
          "text": [
            "(1.9768154462178549, 0.6860666666666667, 0.17486666666666667)\n",
            "title_parms: w_cosine_similarity 0, w_boolean 0.6,w_BM25_b_k1_k3_baselog [0.7, 0, 1.75, 1.75, 10]     body_parms: w_cosine_similarity 0, w_boolean 0,w_BM25_b_k1_k3_baselog [0.3, 0.54, 1.84, 1.95, 10] merge=230\n"
          ]
        }
      ]
    },
    {
      "cell_type": "markdown",
      "source": [
        "## **Test search**"
      ],
      "metadata": {
        "id": "-wD0KIGP9-p_"
      }
    },
    {
      "cell_type": "code",
      "source": [
        "\n",
        "# url = 'http://35.232.59.3:8080'\n",
        "# place the domain you got from ngrok or GCP IP below. \n",
        "\n",
        "\n",
        "qs_res = []\n",
        "for q, true_wids in queries.items():\n",
        "  duration, ap,rc = None, None,None\n",
        "  t_start = time()\n",
        "  try:\n",
        "    res = requests.get(url + '/search', {'query': q}, timeout=35)\n",
        "    duration = time() - t_start\n",
        "    if res.status_code == 200:\n",
        "      pred_wids, _ = zip(*res.json())\n",
        "      ap = average_precision(true_wids, pred_wids)\n",
        "      rc = average_recall(true_wids, pred_wids)\n",
        "  except:\n",
        "    pass\n",
        "  \n",
        "  qs_res.append((q, duration, ap,rc))\n",
        "  \n"
      ],
      "metadata": {
        "id": "Gatr1Dtm-Cct"
      },
      "execution_count": 73,
      "outputs": []
    },
    {
      "cell_type": "code",
      "source": [
        "qs_res"
      ],
      "metadata": {
        "colab": {
          "base_uri": "https://localhost:8080/"
        },
        "id": "6AxGSP-SB31k",
        "outputId": "7ab03e56-702a-4c68-a418-282d03b210db"
      },
      "execution_count": 74,
      "outputs": [
        {
          "output_type": "execute_result",
          "data": {
            "text/plain": [
              "[('best marvel movie', 3.5919082164764404, 0.867, 0.067),\n",
              " ('How do kids come to world?', 5.807981252670288, 0.0, 0.0),\n",
              " ('Information retrieval', 0.6811745166778564, 1.0, 0.05),\n",
              " ('LinkedIn', 0.020114660263061523, 1.0, 0.533),\n",
              " ('How to make coffee?', 1.6371204853057861, 0.0, 0.0),\n",
              " ('Ritalin', 0.00716710090637207, 0.771, 0.605),\n",
              " ('How to make wine at home?', 4.238125801086426, 0.0, 0.0),\n",
              " ('Most expensive city in the world', 7.430591106414795, 0.28, 0.283),\n",
              " ('India', 1.6609418392181396, 0.661, 0.592),\n",
              " ('how to make money fast?', 2.60622501373291, 1.0, 0.03),\n",
              " ('Netflix', 0.10111236572265625, 1.0, 0.059),\n",
              " ('Apple computer', 0.9611873626708984, 0.697, 0.119),\n",
              " ('The Simpsons', 0.04854869842529297, 1.0, 0.154),\n",
              " ('World cup', 5.335737705230713, 0.622, 0.455),\n",
              " ('How to lose weight?', 0.8475992679595947, 1.0, 0.045),\n",
              " ('Java', 0.1381666660308838, 0.95, 0.435),\n",
              " ('Air Jordan', 1.8233389854431152, 1.0, 0.103),\n",
              " ('how to deal with depression?', 0.7712149620056152, 1.0, 0.02),\n",
              " ('How do you make gold', 3.0736372470855713, 0.5, 0.02),\n",
              " ('Marijuana', 0.05460524559020996, 0.295, 0.043),\n",
              " ('How to make hummus', 1.4343526363372803, 1.0, 0.045),\n",
              " ('Winter', 1.0879414081573486, 0.527, 0.213),\n",
              " ('Rick and Morty', 0.29595398902893066, 1.0, 0.207),\n",
              " ('Natural Language processing', 1.8898766040802002, 1.0, 0.075),\n",
              " ('World Cup 2022', 5.466498374938965, 0.599, 0.296),\n",
              " ('Dolly the sheep', 0.2290804386138916, 0.575, 0.098),\n",
              " ('Cigarettes', 0.04531264305114746, 1.0, 0.2),\n",
              " ('What is the best place to live in?', 6.620182514190674, 0.065, 0.043),\n",
              " ('Elon musk', 0.034673452377319336, 0.456, 0.435),\n",
              " ('How do you breed flowers?', 0.494828462600708, 0.833, 0.062)]"
            ]
          },
          "metadata": {},
          "execution_count": 74
        }
      ]
    },
    {
      "cell_type": "code",
      "source": [
        "avg_time_pres(qs_res)"
      ],
      "metadata": {
        "colab": {
          "base_uri": "https://localhost:8080/"
        },
        "id": "aKuFCaYolK--",
        "outputId": "900b8725-f0d0-424b-9fbd-17f3976bef55"
      },
      "execution_count": 75,
      "outputs": [
        {
          "output_type": "execute_result",
          "data": {
            "text/plain": [
              "(1.9478399674097697, 0.6899333333333332, 0.17623333333333335)"
            ]
          },
          "metadata": {},
          "execution_count": 75
        }
      ]
    },
    {
      "cell_type": "code",
      "source": [
        "result_dict[prams_to_string(parameters)] = avg_time_pres(qs_res)"
      ],
      "metadata": {
        "id": "bNlaCcfx-LPU"
      },
      "execution_count": 52,
      "outputs": []
    },
    {
      "cell_type": "code",
      "source": [
        "result_dict "
      ],
      "metadata": {
        "colab": {
          "base_uri": "https://localhost:8080/"
        },
        "id": "78PqsrTRG6gQ",
        "outputId": "e7543312-f74d-4030-aee1-3977114b7523"
      },
      "execution_count": 53,
      "outputs": [
        {
          "output_type": "execute_result",
          "data": {
            "text/plain": [
              "{'title_parms: w_cosine_similarity 0, w_boolean 0.6,w_BM25_b_k1_k3_baselog [0.7, 0, 1.75, 1.75, 10]     body_parms: w_cosine_similarity 0, w_boolean 0,w_BM25_b_k1_k3_baselog [0.3, 0.54, 1.84, 1.95, 10] merge=230': (1.7443791627883911,\n",
              "  0.7034,\n",
              "  0.1674)}"
            ]
          },
          "metadata": {},
          "execution_count": 53
        }
      ]
    },
    {
      "cell_type": "markdown",
      "source": [
        "## **Test search_body**"
      ],
      "metadata": {
        "id": "e-lvloy_97TN"
      }
    },
    {
      "cell_type": "code",
      "source": [
        "qs_res = []\n",
        "for q, true_wids in queries.items():\n",
        "  duration, ap = None, None\n",
        "  t_start = time()\n",
        "  try:\n",
        "    res = requests.get(url + '/search_body', {'query': q}, timeout=35)\n",
        "    duration = time() - t_start\n",
        "    if res.status_code == 200:\n",
        "      pred_wids, _ = zip(*res.json())\n",
        "      ap = average_precision(true_wids, pred_wids)\n",
        "  except:\n",
        "    pass\n",
        "  \n",
        "  qs_res.append((q, duration, ap))"
      ],
      "metadata": {
        "id": "gsaD3VfS9GkB"
      },
      "execution_count": null,
      "outputs": []
    },
    {
      "cell_type": "code",
      "source": [
        "qs_res"
      ],
      "metadata": {
        "colab": {
          "base_uri": "https://localhost:8080/"
        },
        "id": "NBeoYHKlncb9",
        "outputId": "cd457f21-d31f-4ad6-b3f3-371f57e40e47"
      },
      "execution_count": null,
      "outputs": [
        {
          "output_type": "execute_result",
          "data": {
            "text/plain": [
              "[('best marvel movie', 2.6888821125030518, 0.221),\n",
              " ('How do kids come to world?', 4.359713792800903, 0.037),\n",
              " ('Information retrieval', 1.2467851638793945, 0.376),\n",
              " ('LinkedIn', 0.32838964462280273, 0.815),\n",
              " ('How to make coffee?', 1.7823688983917236, 0.505),\n",
              " ('Ritalin', 0.32057785987854004, 0.712),\n",
              " ('How to make wine at home?', 3.7062108516693115, 0.249),\n",
              " ('Most expensive city in the world', 6.143420457839966, 1.0),\n",
              " ('India', 1.1721875667572021, 0.263),\n",
              " ('how to make money fast?', 2.4201366901397705, 0.276),\n",
              " ('Netflix', 0.3690643310546875, 0.712),\n",
              " ('Apple computer', 0.822045087814331, 0.508),\n",
              " ('The Simpsons', 0.3415541648864746, 0.192),\n",
              " ('World cup', 4.317164659500122, 0.54),\n",
              " ('How to lose weight?', 0.7297241687774658, 0.288),\n",
              " ('Java', 0.3810234069824219, 0.407),\n",
              " ('Air Jordan', 1.3638386726379395, 0.421),\n",
              " ('how to deal with depression?', 0.9454023838043213, 0.323),\n",
              " ('How do you make gold', 2.374253273010254, 0.385),\n",
              " ('Marijuana', 0.3480856418609619, 0.081),\n",
              " ('How to make hummus', 1.6905841827392578, 0.809),\n",
              " ('Winter', 0.8574564456939697, 0.335),\n",
              " ('Rick and Morty', 0.46031737327575684, 0.628),\n",
              " ('Natural Language processing', 1.8218657970428467, 0.367),\n",
              " ('World Cup 2022', 4.5374016761779785, 0.038),\n",
              " ('Dolly the sheep', 0.4458787441253662, 0.534),\n",
              " ('Ciggarets', 0.319347620010376, None),\n",
              " ('What is the best place to live in?', 5.256739377975464, 0.0),\n",
              " ('Elon musk', 0.33922553062438965, 0.494),\n",
              " ('How do you breed flowers?', 0.5886294841766357, 0.033)]"
            ]
          },
          "metadata": {},
          "execution_count": 91
        }
      ]
    },
    {
      "cell_type": "code",
      "source": [
        "avg_time_pres(qs_res)"
      ],
      "metadata": {
        "colab": {
          "base_uri": "https://localhost:8080/"
        },
        "id": "8l-Rn-DR-1Mk",
        "outputId": "8ef505a0-95a8-4300-b025-07a528003689"
      },
      "execution_count": null,
      "outputs": [
        {
          "output_type": "execute_result",
          "data": {
            "text/plain": [
              "(1.749275835355123, 0.3849666666666666)"
            ]
          },
          "metadata": {},
          "execution_count": 92
        }
      ]
    },
    {
      "cell_type": "markdown",
      "source": [
        "## **Test search_title**"
      ],
      "metadata": {
        "id": "Gp0Wc-mu9s63"
      }
    },
    {
      "cell_type": "code",
      "source": [
        "qs_res = []\n",
        "for q, true_wids in queries.items():\n",
        "  duration, ap = None, None\n",
        "  t_start = time()\n",
        "  try:\n",
        "    res = requests.get(url + '/search_title', {'query': q}, timeout=35)\n",
        "    duration = time() - t_start\n",
        "    if res.status_code == 200:\n",
        "      pred_wids, _ = zip(*res.json())\n",
        "      ap = average_precision(true_wids, pred_wids)\n",
        "  except:\n",
        "    pass\n",
        "  \n",
        "  qs_res.append((q, duration, ap))"
      ],
      "metadata": {
        "id": "xIzj0oIo-3bR"
      },
      "execution_count": null,
      "outputs": []
    },
    {
      "cell_type": "code",
      "source": [
        "qs_res"
      ],
      "metadata": {
        "colab": {
          "base_uri": "https://localhost:8080/"
        },
        "id": "cTE9HXfTndfG",
        "outputId": "546e5de8-cca0-410a-e985-fa79619bbbe1"
      },
      "execution_count": null,
      "outputs": [
        {
          "output_type": "execute_result",
          "data": {
            "text/plain": [
              "[('best marvel movie', 1.186560869216919, 0.0),\n",
              " ('How do kids come to world?', 1.6448984146118164, 0.097),\n",
              " ('Information retrieval', 0.8095262050628662, 0.817),\n",
              " ('LinkedIn', 0.31943368911743164, 1.0),\n",
              " ('How to make coffee?', 0.6507124900817871, 0.284),\n",
              " ('Ritalin', 0.3190593719482422, 1.0),\n",
              " ('How to make wine at home?', 0.9993784427642822, 0.0),\n",
              " ('Most expensive city in the world', 1.8301446437835693, 0.25),\n",
              " ('India', 1.003746747970581, 0.433),\n",
              " ('how to make money fast?', 0.8107409477233887, 0.616),\n",
              " ('Netflix', 0.3197157382965088, 0.557),\n",
              " ('Apple computer', 0.8113000392913818, 0.622),\n",
              " ('The Simpsons', 0.32015538215637207, 0.546),\n",
              " ('World cup', 1.8495383262634277, 0.408),\n",
              " ('How to lose weight?', 0.47997331619262695, 0.0),\n",
              " ('Java', 0.4779019355773926, 0.642),\n",
              " ('Air Jordan', 1.1833832263946533, 0.756),\n",
              " ('how to deal with depression?', 0.4838869571685791, 0.0),\n",
              " ('How do you make gold', 0.9706940650939941, 0.416),\n",
              " ('Marijuana', 0.3211393356323242, 0.842),\n",
              " ('How to make hummus', 0.6385974884033203, 0.833),\n",
              " ('Winter', 1.1412718296051025, 0.36),\n",
              " ('Rick and Morty', 0.6419687271118164, 0.908),\n",
              " ('Natural Language processing', 1.2006938457489014, 0.903),\n",
              " ('World Cup 2022', 1.8485522270202637, 0.568),\n",
              " ('Dolly the sheep', 0.48592185974121094, 0.69),\n",
              " ('Ciggarets', 0.3192484378814697, None),\n",
              " ('What is the best place to live in?', 1.3511512279510498, 0.0),\n",
              " ('Elon musk', 0.31984972953796387, 0.695),\n",
              " ('How do you breed flowers?', 0.4867429733276367, 0.0)]"
            ]
          },
          "metadata": {},
          "execution_count": 94
        }
      ]
    },
    {
      "cell_type": "code",
      "source": [
        "avg_time_pres(qs_res)"
      ],
      "metadata": {
        "colab": {
          "base_uri": "https://localhost:8080/"
        },
        "id": "4hXnKJH99GrA",
        "outputId": "bb84a663-58bc-4f03-ebbc-079b69b2efe1"
      },
      "execution_count": null,
      "outputs": [
        {
          "output_type": "execute_result",
          "data": {
            "text/plain": [
              "(0.8408629496892294, 0.47476666666666667)"
            ]
          },
          "metadata": {},
          "execution_count": 95
        }
      ]
    },
    {
      "cell_type": "markdown",
      "source": [
        "## **Test search_anchor**"
      ],
      "metadata": {
        "id": "sMMV1wzQ9zNI"
      }
    },
    {
      "cell_type": "code",
      "source": [
        "qs_res = []\n",
        "for q, true_wids in queries.items():\n",
        "  duration, ap = None, None\n",
        "  t_start = time()\n",
        "  try:\n",
        "    res = requests.get(url + '/search_anchor', {'query': q}, timeout=35)\n",
        "    duration = time() - t_start\n",
        "    if res.status_code == 200:\n",
        "      pred_wids, _ = zip(*res.json())\n",
        "      ap = average_precision(true_wids, pred_wids)\n",
        "  except:\n",
        "    pass\n",
        "  \n",
        "  qs_res.append((q, duration, ap))"
      ],
      "metadata": {
        "id": "jxx7MJc29GzG"
      },
      "execution_count": null,
      "outputs": []
    },
    {
      "cell_type": "code",
      "source": [
        "qs_res"
      ],
      "metadata": {
        "colab": {
          "base_uri": "https://localhost:8080/"
        },
        "id": "YfKA6WBV_EbH",
        "outputId": "de261b2c-54ac-4614-f960-e5c57844ba55"
      },
      "execution_count": null,
      "outputs": [
        {
          "output_type": "execute_result",
          "data": {
            "text/plain": [
              "[('best marvel movie', 2.5895748138427734, 0.211),\n",
              " ('How do kids come to world?', 3.4236786365509033, 0.0),\n",
              " ('Information retrieval', 1.4278738498687744, 0.539),\n",
              " ('LinkedIn', 0.8411605358123779, 0.0),\n",
              " ('How to make coffee?', 1.3876454830169678, 0.0),\n",
              " ('Ritalin', 0.34062910079956055, 1.0),\n",
              " ('How to make wine at home?', 1.9492156505584717, 0.0),\n",
              " ('Most expensive city in the world', 5.010385751724243, 0.0),\n",
              " ('India', 1.7032344341278076, 0.0),\n",
              " ('how to make money fast?', 1.3944618701934814, 0.0),\n",
              " ('Netflix', 1.1800377368927002, 0.0),\n",
              " ('Apple computer', 1.8347883224487305, 0.058),\n",
              " ('The Simpsons', 0.859311580657959, 0.0),\n",
              " ('World cup', 4.478655576705933, 0.0),\n",
              " ('How to lose weight?', 0.6719150543212891, 1.0),\n",
              " ('Java', 1.0633227825164795, 0.0),\n",
              " ('Air Jordan', 2.4306509494781494, 0.0),\n",
              " ('how to deal with depression?', 1.1879346370697021, 0.0),\n",
              " ('How do you make gold', 1.6291918754577637, 0.0),\n",
              " ('Marijuana', 0.3364853858947754, 0.408),\n",
              " ('How to make hummus', 1.1945891380310059, 0.75),\n",
              " ('Winter', 1.4947640895843506, 0.0),\n",
              " ('Rick and Morty', 1.319458246231079, 0.395),\n",
              " ('Natural Language processing', 1.9261395931243896, 0.0),\n",
              " ('World Cup 2022', 4.4825522899627686, 0.0),\n",
              " ('Dolly the sheep', 0.6713860034942627, 0.516),\n",
              " ('Ciggarets', 0.31967973709106445, None),\n",
              " ('What is the best place to live in?', 2.813646078109741, 0.0),\n",
              " ('Elon musk', 0.35677003860473633, 0.625),\n",
              " ('How do you breed flowers?', 1.020263433456421, 0.097)]"
            ]
          },
          "metadata": {},
          "execution_count": 97
        }
      ]
    },
    {
      "cell_type": "code",
      "source": [
        "avg_time_pres(qs_res)"
      ],
      "metadata": {
        "colab": {
          "base_uri": "https://localhost:8080/"
        },
        "id": "Hha4GQDn2oCu",
        "outputId": "1b90d298-45cd-4c98-efae-9c941797133c"
      },
      "execution_count": null,
      "outputs": [
        {
          "output_type": "execute_result",
          "data": {
            "text/plain": [
              "(1.7113134225209554, 0.18663333333333335)"
            ]
          },
          "metadata": {},
          "execution_count": 98
        }
      ]
    },
    {
      "cell_type": "markdown",
      "source": [
        "## **Test Page Rank**"
      ],
      "metadata": {
        "id": "-m5bHO0O9o6p"
      }
    },
    {
      "cell_type": "code",
      "source": [
        "qs_res = []\n",
        "lst = [100,200,300,565677,54656,89897]\n",
        "\n",
        "duration, ap = None, None\n",
        "t_start = time()\n",
        "try:\n",
        "  res = requests.post(url+'/get_pagerank',json=lst)\n",
        "  duration = time() - t_start\n",
        "  if res.status_code == 200:\n",
        "    qs_res= res.json()\n",
        "except:\n",
        "  pass\n",
        "  \n",
        "qs_res"
      ],
      "metadata": {
        "colab": {
          "base_uri": "https://localhost:8080/"
        },
        "id": "cbmkpYRU9G9f",
        "outputId": "68e837d6-cc4b-4f0c-b165-aaccf8735d4d"
      },
      "execution_count": null,
      "outputs": [
        {
          "output_type": "execute_result",
          "data": {
            "text/plain": [
              "[[100, 0.0],\n",
              " [200, 0.0],\n",
              " [300, 0.0],\n",
              " [565677, 0.5988047365295416],\n",
              " [54656, 0.0],\n",
              " [89897, 0.0]]"
            ]
          },
          "metadata": {},
          "execution_count": 99
        }
      ]
    },
    {
      "cell_type": "markdown",
      "source": [
        "## **Test Page View**"
      ],
      "metadata": {
        "id": "nwwHip4a9IqF"
      }
    },
    {
      "cell_type": "code",
      "source": [
        "qs_res = []\n",
        "lst = [100,200,300,565677,54656,89897]\n",
        "\n",
        "duration, ap = None, None\n",
        "t_start = time()\n",
        "try:\n",
        "  res = requests.post(url+'/get_pageview',json=lst)\n",
        "  duration = time() - t_start\n",
        "  if res.status_code == 200:\n",
        "    qs_res= res.json()\n",
        "except:\n",
        "  pass\n",
        "  \n",
        "qs_res"
      ],
      "metadata": {
        "id": "dYmNTq9u0ChK",
        "colab": {
          "base_uri": "https://localhost:8080/"
        },
        "outputId": "f9a174f8-9f3d-48e3-bb0b-ee1cdf65a21b"
      },
      "execution_count": null,
      "outputs": [
        {
          "output_type": "execute_result",
          "data": {
            "text/plain": [
              "[[100, 0.0],\n",
              " [200, 0.0],\n",
              " [300, 0.0],\n",
              " [565677, 1719],\n",
              " [54656, 0.0],\n",
              " [89897, 0.0]]"
            ]
          },
          "metadata": {},
          "execution_count": 100
        }
      ]
    }
  ]
}