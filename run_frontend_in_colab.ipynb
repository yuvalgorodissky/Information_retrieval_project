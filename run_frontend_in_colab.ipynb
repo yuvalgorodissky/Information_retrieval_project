{
  "nbformat": 4,
  "nbformat_minor": 0,
  "metadata": {
    "colab": {
      "name": "run_frontend_in_colab.ipynb",
      "provenance": []
    },
    "kernelspec": {
      "name": "python3",
      "display_name": "Python 3"
    },
    "language_info": {
      "name": "python"
    }
  },
  "cells": [
    {
      "cell_type": "markdown",
      "source": [
        "# Testing your app\n",
        "\n",
        "Once your app is running you can query it. You can simply do that by navigating to the URL that ngrok gave you above or through code in a different python session. For example, once the frontend app is running, you can navigate to:\n",
        "http://YOUR_SERVER_DOMAIN/search?query=hello+world where YOUR_SERVER_DOMAIN is something like XXXX-XX-XX-XX-XX.ngrok.io, which is printed above in Colab or that is your external IP on GCP.\n",
        "\n",
        "The code below shows how to issue a query from python. This is also how our testing code will issue queries to your search engine, so make sure to test your search engine this way after you deploy it to GCP and before submission. Command line instructions for deploying your search engine to GCP are available at `run_frontend_in_gcp.sh`. Note that we will not only issue training queries to your search engine, but also test queries, i.e. queries that you've never seen before."
      ],
      "metadata": {
        "id": "Na0MC_1nzDbi"
      }
    },
    {
      "cell_type": "code",
      "source": [
        "import json\n",
        "\n",
        "with open('queries_train.json', 'rt') as f:\n",
        "  queries = dict(list(json.load(f).items())[20:])\n",
        "  # queries = json.load(f)"
      ],
      "metadata": {
        "id": "EM5ePrRHojbG"
      },
      "execution_count": 43,
      "outputs": []
    },
    {
      "cell_type": "code",
      "source": [
        "def average_precision(true_list, predicted_list, k=40):\n",
        "    true_set = frozenset(true_list)\n",
        "    predicted_list = predicted_list[:k]\n",
        "    precisions = []\n",
        "    for i,doc_id in enumerate(predicted_list):        \n",
        "        if doc_id in true_set:\n",
        "            prec = (len(precisions)+1) / (i+1)            \n",
        "            precisions.append(prec)\n",
        "    if len(precisions) == 0:\n",
        "        return 0.0\n",
        "    return round(sum(precisions)/len(precisions),3)"
      ],
      "metadata": {
        "id": "gWimZWCOy3Ei"
      },
      "execution_count": 44,
      "outputs": []
    },
    {
      "cell_type": "code",
      "source": [
        "def avg_time_pres(qs):\n",
        "  return sum([time for _,time,_ in qs])/len(qs),sum([pres for _,_,pres in qs if pres!= None])/(len(qs))\n"
      ],
      "metadata": {
        "id": "ZWxHZJOynZhy"
      },
      "execution_count": 45,
      "outputs": []
    },
    {
      "cell_type": "code",
      "source": [
        "def prams_to_string(parms):\n",
        "  return f'title_parms: w_cosine_similarity {parms[0]}, w_boolean {parms[1]},w_BM25_b_k1_k3_baselog {parms[2:7]}     body_parms: w_cosine_similarity {parms[7]}, w_boolean {parms[8]},w_BM25_b_k1_k3_baselog {parms[9:14]}'\n",
        "  \n"
      ],
      "metadata": {
        "id": "Kb1WY-UVDWO_"
      },
      "execution_count": 46,
      "outputs": []
    },
    {
      "cell_type": "code",
      "source": [
        "import requests\n",
        "from time import time\n",
        "url = 'http://34.173.94.228:8080'"
      ],
      "metadata": {
        "id": "lO7XqIlM-FGZ"
      },
      "execution_count": 47,
      "outputs": []
    },
    {
      "cell_type": "markdown",
      "source": [
        "## **result dict by parameters**"
      ],
      "metadata": {
        "id": "CeOVXkRH9kGB"
      }
    },
    {
      "cell_type": "code",
      "source": [
        "result_dict={}"
      ],
      "metadata": {
        "id": "aUmu16A19hZZ"
      },
      "execution_count": 58,
      "outputs": []
    },
    {
      "cell_type": "markdown",
      "source": [
        "## **set parameters**"
      ],
      "metadata": {
        "id": "MrBt6syC-bWK"
      }
    },
    {
      "cell_type": "code",
      "source": [
        "def get_init_param():\n",
        "  p_title_cosine_similarity = 0\n",
        "  p_title_boolean = 0\n",
        "  p_title_BM25 = 0\n",
        "  b_title_BM25 = 0\n",
        "  k1_title_BM25 = 0\n",
        "  k3_title_BM25 = 0\n",
        "  base_log_title_BM25 = 0\n",
        "\n",
        "  p_body_cosine_similarity = 0\n",
        "  p_body_boolean = 0\n",
        "  p_body_BM25 = 0\n",
        "  b_body_BM25 = 0\n",
        "  k1_body_BM25 = 0\n",
        "  k3_body_BM25 = 0\n",
        "  base_log_body_BM25 = 0\n",
        "\n",
        "  merge_n=0\n",
        "\n",
        "  parameters=[p_title_cosine_similarity,p_title_boolean,p_title_BM25,b_title_BM25,k1_title_BM25,k3_title_BM25,base_log_title_BM25,\n",
        "              p_body_cosine_similarity,p_body_boolean,p_body_BM25,b_body_BM25,k1_body_BM25,k3_body_BM25,base_log_body_BM25,merge_n]\n",
        "  return parameters\n",
        "\n"
      ],
      "metadata": {
        "id": "UqkmK72Q9fi-"
      },
      "execution_count": 49,
      "outputs": []
    },
    {
      "cell_type": "code",
      "source": [
        "duration, ap = None, None\n",
        "t_start = time()\n",
        "qs_res=None\n",
        "try:\n",
        "  res = requests.post(url+'/set_parameters',json=get_init_param())\n",
        "  duration = time() - t_start\n",
        "  if res.status_code == 200:\n",
        "    qs_res= res.json()\n",
        "except:\n",
        "  pass\n",
        "qs_res"
      ],
      "metadata": {
        "colab": {
          "base_uri": "https://localhost:8080/"
        },
        "id": "V-c-Ym6hJ4cD",
        "outputId": "f96f2dd3-dc10-4975-81e1-ae7b6b36c0af"
      },
      "execution_count": 50,
      "outputs": [
        {
          "output_type": "execute_result",
          "data": {
            "text/plain": [
              "[True]"
            ]
          },
          "metadata": {},
          "execution_count": 50
        }
      ]
    },
    {
      "cell_type": "markdown",
      "source": [
        "## **Auto Tests**\n"
      ],
      "metadata": {
        "id": "CNcS4xcqcaOg"
      }
    },
    {
      "cell_type": "markdown",
      "source": [
        "### **Choose model**\n"
      ],
      "metadata": {
        "id": "EyI-9hoen9k_"
      }
    },
    {
      "cell_type": "code",
      "source": [
        "import random\n",
        "def get_parameters_Choose_model():\n",
        "  parameters=get_init_param()\n",
        "  parameters[0]=random.randint(0, 2)\n",
        "  parameters[1]=random.randint(0, 2)\n",
        "  parameters[2]=random.randint(0, 2)\n",
        "  parameters[3]=0.75\n",
        "  parameters[4]=1.75\n",
        "  parameters[5]=1.75\n",
        "  parameters[6]=10\n",
        "  parameters[7]=random.randint(0, 2)\n",
        "  parameters[8]=random.randint(0, 2)\n",
        "  parameters[9]=random.randint(0, 2)\n",
        "  parameters[10]=0.75\n",
        "  parameters[11]=1.75\n",
        "  parameters[12]=1.75\n",
        "  parameters[13]=10\n",
        "\n",
        "  return parameters"
      ],
      "metadata": {
        "id": "sQ0T7BTgcbFM"
      },
      "execution_count": 51,
      "outputs": []
    },
    {
      "cell_type": "code",
      "source": [
        "def set_param(parameters):\n",
        "  duration, ap = None, None\n",
        "  t_start = time()\n",
        "  qs_res=None\n",
        "  try:\n",
        "    res = requests.post(url+'/set_parameters',json=parameters)\n",
        "    duration = time() - t_start\n",
        "    if res.status_code == 200:\n",
        "      qs_res= res.json()\n",
        "  except:\n",
        "    pass\n",
        "  print(qs_res)"
      ],
      "metadata": {
        "id": "iH3YSmOSgdy_"
      },
      "execution_count": 52,
      "outputs": []
    },
    {
      "cell_type": "code",
      "source": [
        "def search():\n",
        "  qs_res = []\n",
        "  for q, true_wids in queries.items():\n",
        "    duration, ap = None, None\n",
        "    t_start = time()\n",
        "    try:\n",
        "      res = requests.get(url + '/search', {'query': q}, timeout=35)\n",
        "      duration = time() - t_start\n",
        "      if res.status_code == 200:\n",
        "        pred_wids, _ = zip(*res.json())\n",
        "        ap = average_precision(true_wids, pred_wids)\n",
        "    except:\n",
        "      pass\n",
        "    \n",
        "    qs_res.append((q, duration, ap))\n",
        "  return(qs_res)"
      ],
      "metadata": {
        "id": "OtGxZpfTg0IE"
      },
      "execution_count": 53,
      "outputs": []
    },
    {
      "cell_type": "code",
      "source": [
        "for a in range(2):\n",
        "  for b in range(2):\n",
        "    for c in range(2):\n",
        "        for d in range(2):\n",
        "            for e in range(2):\n",
        "                f=random.randint(0, 1)\n",
        "                if (a+b+c+d+e+f==0):\n",
        "                  continue\n",
        "                parameters = get_parameters_Choose_model()\n",
        "                parameters[0]=f\n",
        "                parameters[1]=b\n",
        "                parameters[2]=c\n",
        "                parameters[7]=d\n",
        "                parameters[8]=e\n",
        "                parameters[9]=a   \n",
        "                set_param(parameters)\n",
        "                qs_res = search()\n",
        "                print(qs_res)\n",
        "                print(parameters)\n",
        "                result_dict[prams_to_string(parameters)] = avg_time_pres(qs_res)\n",
        "\n",
        "\n"
      ],
      "metadata": {
        "id": "TwJQOP-SeS6k",
        "colab": {
          "base_uri": "https://localhost:8080/"
        },
        "outputId": "1c814310-30ad-4c97-98d9-7b63ebc16732"
      },
      "execution_count": 55,
      "outputs": [
        {
          "output_type": "stream",
          "name": "stdout",
          "text": [
            "[True]\n",
            "[('How to make hummus', 0.4744722843170166, 0.141), ('Winter', 0.28357648849487305, 0.0), ('Rick and Morty', 0.08334612846374512, 0.0), ('Natural Language processing', 0.5455262660980225, 0.0), ('World Cup 2022', 1.4916794300079346, 0.0), ('Dolly the sheep', 0.06255149841308594, 0.729), ('Cigarettes', 0.01646876335144043, 0.0), ('What is the best place to live in?', 1.925060510635376, 0.0), ('Elon musk', 0.01266932487487793, 0.0), ('How do you breed flowers?', 0.1309525966644287, 0.047)]\n",
            "[0, 0, 0, 0.75, 1.75, 1.75, 10, 0, 1, 0, 0.75, 1.75, 1.75, 10, 0]\n",
            "[True]\n",
            "[('How to make hummus', 0.6092402935028076, 0.693), ('Winter', 0.5492594242095947, 0.273), ('Rick and Morty', 0.14956307411193848, 0.777), ('Natural Language processing', 0.854820728302002, 0.607), ('World Cup 2022', 2.5044918060302734, 0.422), ('Dolly the sheep', 0.1266789436340332, 0.738), ('Cigarettes', 0.027111530303955078, 0.25), ('What is the best place to live in?', 2.9730260372161865, 0.0), ('Elon musk', 0.021025896072387695, 0.626), ('How do you breed flowers?', 0.2663440704345703, 0.0)]\n",
            "[1, 0, 0, 0.75, 1.75, 1.75, 10, 1, 0, 0, 0.75, 1.75, 1.75, 10, 0]\n",
            "[True]\n",
            "[('How to make hummus', 0.9416077136993408, 0.465), ('Winter', 0.7534997463226318, 0.411), ('Rick and Morty', 0.2130734920501709, 0.593), ('Natural Language processing', 1.2861168384552002, 0.273), ('World Cup 2022', 3.568289041519165, 0.0), ('Dolly the sheep', 0.16214990615844727, 0.758), ('Cigarettes', 0.035056114196777344, 0.124), ('What is the best place to live in?', 4.473979949951172, 0.0), ('Elon musk', 0.026763439178466797, 0.471), ('How do you breed flowers?', 0.3477013111114502, 0.052)]\n",
            "[0, 0, 0, 0.75, 1.75, 1.75, 10, 1, 1, 0, 0.75, 1.75, 1.75, 10, 0]\n",
            "[True]\n",
            "[('How to make hummus', 0.00920724868774414, 0.833), ('Winter', 0.0247499942779541, 0.414), ('Rick and Morty', 0.00954580307006836, 0.862), ('Natural Language processing', 0.04203081130981445, 0.862), ('World Cup 2022', 0.17624282836914062, 0.279), ('Dolly the sheep', 0.0076673030853271484, 0.698), ('Cigarettes', 0.0051059722900390625, 0.082), ('What is the best place to live in?', 0.04816031455993652, 0.0), ('Elon musk', 0.005638599395751953, 0.698), ('How do you breed flowers?', 0.007053375244140625, 0.0)]\n",
            "[0, 0, 1, 0.75, 1.75, 1.75, 10, 0, 0, 0, 0.75, 1.75, 1.75, 10, 0]\n",
            "[True]\n",
            "[('How to make hummus', 0.4337434768676758, 0.833), ('Winter', 0.3124961853027344, 0.408), ('Rick and Morty', 0.09152817726135254, 0.832), ('Natural Language processing', 0.5838444232940674, 0.886), ('World Cup 2022', 1.803558111190796, 0.353), ('Dolly the sheep', 0.06282186508178711, 0.702), ('Cigarettes', 0.015933990478515625, 0.082), ('What is the best place to live in?', 2.03122615814209, 0.0), ('Elon musk', 0.013812780380249023, 0.676), ('How do you breed flowers?', 0.13663554191589355, 0.0)]\n",
            "[1, 0, 1, 0.75, 1.75, 1.75, 10, 0, 1, 0, 0.75, 1.75, 1.75, 10, 0]\n",
            "[True]\n",
            "[('How to make hummus', 0.6075453758239746, 1.0), ('Winter', 0.5527627468109131, 0.22), ('Rick and Morty', 0.1598358154296875, 0.852), ('Natural Language processing', 0.8821954727172852, 0.717), ('World Cup 2022', 2.568483591079712, 0.304), ('Dolly the sheep', 0.11948132514953613, 0.722), ('Cigarettes', 0.02702045440673828, 0.127), ('What is the best place to live in?', 3.017089366912842, 0.0), ('Elon musk', 0.021029233932495117, 0.592), ('How do you breed flowers?', 0.2532312870025635, 0.0)]\n",
            "[1, 0, 1, 0.75, 1.75, 1.75, 10, 1, 0, 0, 0.75, 1.75, 1.75, 10, 0]\n",
            "[True]\n",
            "[('How to make hummus', 0.9900827407836914, 1.0), ('Winter', 0.8028650283813477, 0.22), ('Rick and Morty', 0.23293805122375488, 0.819), ('Natural Language processing', 1.3283982276916504, 0.717), ('World Cup 2022', 3.7725327014923096, 0.304), ('Dolly the sheep', 0.14744973182678223, 0.712), ('Cigarettes', 0.034078359603881836, 0.127), ('What is the best place to live in?', 4.636917591094971, 0.0), ('Elon musk', 0.027828216552734375, 0.677), ('How do you breed flowers?', 0.3556811809539795, 0.0)]\n",
            "[1, 0, 1, 0.75, 1.75, 1.75, 10, 1, 1, 0, 0.75, 1.75, 1.75, 10, 0]\n",
            "[True]\n",
            "[('How to make hummus', 0.00796198844909668, 0.833), ('Winter', 0.015184164047241211, 0.375), ('Rick and Morty', 0.008004426956176758, 0.987), ('Natural Language processing', 0.023925304412841797, 0.901), ('World Cup 2022', 0.10677075386047363, 0.467), ('Dolly the sheep', 0.0067293643951416016, 0.69), ('Cigarettes', 0.005050182342529297, 0.089), ('What is the best place to live in?', 0.029086828231811523, 0.0), ('Elon musk', 0.0061931610107421875, 0.891), ('How do you breed flowers?', 0.0059947967529296875, 0.0)]\n",
            "[0, 1, 0, 0.75, 1.75, 1.75, 10, 0, 0, 0, 0.75, 1.75, 1.75, 10, 0]\n",
            "[True]\n",
            "[('How to make hummus', 0.41744232177734375, 0.833), ('Winter', 0.2867002487182617, 0.375), ('Rick and Morty', 0.08539485931396484, 0.936), ('Natural Language processing', 0.5711276531219482, 0.893), ('World Cup 2022', 1.5871198177337646, 0.467), ('Dolly the sheep', 0.06401824951171875, 0.861), ('Cigarettes', 0.016459226608276367, 0.089), ('What is the best place to live in?', 1.979830026626587, 0.0), ('Elon musk', 0.012197256088256836, 0.943), ('How do you breed flowers?', 0.13796305656433105, 0.0)]\n",
            "[0, 1, 0, 0.75, 1.75, 1.75, 10, 0, 1, 0, 0.75, 1.75, 1.75, 10, 0]\n",
            "[True]\n",
            "[('How to make hummus', 0.5983550548553467, 1.0), ('Winter', 0.544701337814331, 0.273), ('Rick and Morty', 0.14715147018432617, 0.937), ('Natural Language processing', 0.8328523635864258, 0.766), ('World Cup 2022', 2.6213138103485107, 0.464), ('Dolly the sheep', 0.11784791946411133, 0.738), ('Cigarettes', 0.026656150817871094, 0.152), ('What is the best place to live in?', 3.0184760093688965, 0.0), ('Elon musk', 0.02114558219909668, 0.793), ('How do you breed flowers?', 0.2510225772857666, 0.0)]\n",
            "[1, 1, 0, 0.75, 1.75, 1.75, 10, 1, 0, 0, 0.75, 1.75, 1.75, 10, 0]\n",
            "[True]\n",
            "[('How to make hummus', 0.952765941619873, 1.0), ('Winter', 0.7373406887054443, 0.442), ('Rick and Morty', 0.2050309181213379, 0.892), ('Natural Language processing', 1.2823827266693115, 0.708), ('World Cup 2022', 3.6346867084503174, 0.402), ('Dolly the sheep', 0.16666913032531738, 0.75), ('Cigarettes', 0.03365945816040039, 0.151), ('What is the best place to live in?', 4.530067205429077, 0.0), ('Elon musk', 0.02803325653076172, 0.613), ('How do you breed flowers?', 0.35582995414733887, 0.0)]\n",
            "[0, 1, 0, 0.75, 1.75, 1.75, 10, 1, 1, 0, 0.75, 1.75, 1.75, 10, 0]\n",
            "[True]\n",
            "[('How to make hummus', 0.010853767395019531, 0.833), ('Winter', 0.032325029373168945, 0.414), ('Rick and Morty', 0.01115870475769043, 0.987), ('Natural Language processing', 0.048320770263671875, 0.906), ('World Cup 2022', 0.2413959503173828, 0.563), ('Dolly the sheep', 0.009128332138061523, 0.698), ('Cigarettes', 0.005000114440917969, 0.082), ('What is the best place to live in?', 0.0672769546508789, 0.0), ('Elon musk', 0.006914854049682617, 0.683), ('How do you breed flowers?', 0.009073972702026367, 0.0)]\n",
            "[0, 1, 1, 0.75, 1.75, 1.75, 10, 0, 0, 0, 0.75, 1.75, 1.75, 10, 0]\n",
            "[True]\n",
            "[('How to make hummus', 0.4326615333557129, 0.833), ('Winter', 0.297435998916626, 0.414), ('Rick and Morty', 0.08722043037414551, 0.944), ('Natural Language processing', 0.5863151550292969, 0.914), ('World Cup 2022', 1.7387003898620605, 0.563), ('Dolly the sheep', 0.07043242454528809, 0.781), ('Cigarettes', 0.017570018768310547, 0.082), ('What is the best place to live in?', 2.003842353820801, 0.0), ('Elon musk', 0.013596057891845703, 0.737), ('How do you breed flowers?', 0.1488642692565918, 0.0)]\n",
            "[0, 1, 1, 0.75, 1.75, 1.75, 10, 0, 1, 0, 0.75, 1.75, 1.75, 10, 0]\n",
            "[True]\n",
            "[('How to make hummus', 0.5901706218719482, 1.0), ('Winter', 0.5201470851898193, 0.22), ('Rick and Morty', 0.162855863571167, 0.928), ('Natural Language processing', 0.9098494052886963, 0.89), ('World Cup 2022', 2.6689090728759766, 0.46), ('Dolly the sheep', 0.12067055702209473, 0.722), ('Cigarettes', 0.0264127254486084, 0.127), ('What is the best place to live in?', 2.9008636474609375, 0.0), ('Elon musk', 0.02187943458557129, 0.711), ('How do you breed flowers?', 0.2650489807128906, 0.0)]\n",
            "[1, 1, 1, 0.75, 1.75, 1.75, 10, 1, 0, 0, 0.75, 1.75, 1.75, 10, 0]\n",
            "[True]\n",
            "[('How to make hummus', 0.9271531105041504, 1.0), ('Winter', 0.7456033229827881, 0.273), ('Rick and Morty', 0.21934938430786133, 0.902), ('Natural Language processing', 1.2257449626922607, 0.783), ('World Cup 2022', 3.6325340270996094, 0.49), ('Dolly the sheep', 0.1553030014038086, 0.756), ('Cigarettes', 0.029765844345092773, 0.152), ('What is the best place to live in?', 4.444628000259399, 0.0), ('Elon musk', 0.026844263076782227, 0.775), ('How do you breed flowers?', 0.3555271625518799, 0.0)]\n",
            "[0, 1, 1, 0.75, 1.75, 1.75, 10, 1, 1, 0, 0.75, 1.75, 1.75, 10, 0]\n",
            "[True]\n",
            "[('How to make hummus', 0.4416964054107666, None), ('Winter', 0.5273983478546143, 0.236), ('Rick and Morty', 0.15745162963867188, 0.835), ('Natural Language processing', 0.25493383407592773, None), ('World Cup 2022', 0.48902416229248047, None), ('Dolly the sheep', 0.1127614974975586, 0.592), ('Cigarettes', 0.028813838958740234, 0.25), ('What is the best place to live in?', 0.7506093978881836, None), ('Elon musk', 0.020351409912109375, 0.505), ('How do you breed flowers?', 0.2542724609375, 0.0)]\n",
            "[1, 0, 0, 0.75, 1.75, 1.75, 10, 0, 0, 1, 0.75, 1.75, 1.75, 10, 0]\n",
            "[True]\n",
            "[('How to make hummus', 0.4388608932495117, None), ('Winter', 0.7204327583312988, 0.236), ('Rick and Morty', 0.2192838191986084, 0.822), ('Natural Language processing', 0.24583220481872559, None), ('World Cup 2022', 0.47148990631103516, None), ('Dolly the sheep', 0.14866900444030762, 0.733), ('Cigarettes', 0.032993316650390625, 0.25), ('What is the best place to live in?', 0.7739071846008301, None), ('Elon musk', 0.02299213409423828, 0.431), ('How do you breed flowers?', 0.3310670852661133, 0.0)]\n",
            "[1, 0, 0, 0.75, 1.75, 1.75, 10, 0, 1, 1, 0.75, 1.75, 1.75, 10, 0]\n",
            "[True]\n",
            "[('How to make hummus', 0.8433589935302734, None), ('Winter', 0.8448660373687744, 0.255), ('Rick and Morty', 0.26850366592407227, 0.756), ('Natural Language processing', 0.7916724681854248, None), ('World Cup 2022', 1.9662525653839111, None), ('Dolly the sheep', 0.18097710609436035, 0.681), ('Cigarettes', 0.03867959976196289, 0.143), ('What is the best place to live in?', 2.6855709552764893, None), ('Elon musk', 0.029068946838378906, 0.406), ('How do you breed flowers?', 0.38616180419921875, 0.0)]\n",
            "[1, 0, 0, 0.75, 1.75, 1.75, 10, 1, 0, 1, 0.75, 1.75, 1.75, 10, 0]\n",
            "[True]\n",
            "[('How to make hummus', 0.8227272033691406, None), ('Winter', 1.0827457904815674, 0.255), ('Rick and Morty', 0.31555914878845215, 0.756), ('Natural Language processing', 0.7861385345458984, None), ('World Cup 2022', 1.993506669998169, None), ('Dolly the sheep', 0.226179838180542, 0.692), ('Cigarettes', 0.04835224151611328, 0.143), ('What is the best place to live in?', 2.685457229614258, None), ('Elon musk', 0.03220725059509277, 0.415), ('How do you breed flowers?', 0.4832274913787842, 0.0)]\n",
            "[1, 0, 0, 0.75, 1.75, 1.75, 10, 1, 1, 1, 0.75, 1.75, 1.75, 10, 0]\n",
            "[True]\n",
            "[('How to make hummus', 0.42796993255615234, None), ('Winter', 0.5510659217834473, 0.177), ('Rick and Morty', 0.16734814643859863, 0.87), ('Natural Language processing', 0.29033803939819336, None), ('World Cup 2022', 0.6142292022705078, None), ('Dolly the sheep', 0.11391592025756836, 0.525), ('Cigarettes', 0.027367115020751953, 0.127), ('What is the best place to live in?', 0.8141417503356934, None), ('Elon musk', 0.0215761661529541, 0.623), ('How do you breed flowers?', 0.24681878089904785, 0.0)]\n",
            "[1, 0, 1, 0.75, 1.75, 1.75, 10, 0, 0, 1, 0.75, 1.75, 1.75, 10, 0]\n",
            "[True]\n",
            "[('How to make hummus', 0.420060396194458, None), ('Winter', 0.7426495552062988, 0.253), ('Rick and Morty', 0.21518683433532715, 0.813), ('Natural Language processing', 0.26047396659851074, None), ('World Cup 2022', 0.5091784000396729, None), ('Dolly the sheep', 0.14817452430725098, 0.711), ('Cigarettes', 0.03199625015258789, 0.25), ('What is the best place to live in?', 0.7932085990905762, None), ('Elon musk', 0.023484230041503906, 0.454), ('How do you breed flowers?', 0.3551623821258545, 0.0)]\n",
            "[0, 0, 1, 0.75, 1.75, 1.75, 10, 0, 1, 1, 0.75, 1.75, 1.75, 10, 0]\n",
            "[True]\n",
            "[('How to make hummus', 0.8286442756652832, None), ('Winter', 0.918147087097168, 0.255), ('Rick and Morty', 0.26163768768310547, 0.75), ('Natural Language processing', 0.799832820892334, None), ('World Cup 2022', 2.004957437515259, None), ('Dolly the sheep', 0.18774890899658203, 0.681), ('Cigarettes', 0.042320966720581055, 0.144), ('What is the best place to live in?', 2.690526247024536, None), ('Elon musk', 0.027567625045776367, 0.378), ('How do you breed flowers?', 0.39794492721557617, 0.0)]\n",
            "[0, 0, 1, 0.75, 1.75, 1.75, 10, 1, 0, 1, 0.75, 1.75, 1.75, 10, 0]\n",
            "[True]\n",
            "[('How to make hummus', 0.8517134189605713, None), ('Winter', 1.1006619930267334, 0.255), ('Rick and Morty', 0.33094167709350586, 0.751), ('Natural Language processing', 0.8238072395324707, None), ('World Cup 2022', 2.0573248863220215, None), ('Dolly the sheep', 0.20870304107666016, 0.654), ('Cigarettes', 0.04872870445251465, 0.144), ('What is the best place to live in?', 2.766355514526367, None), ('Elon musk', 0.03210806846618652, 0.409), ('How do you breed flowers?', 0.4955732822418213, 0.0)]\n",
            "[0, 0, 1, 0.75, 1.75, 1.75, 10, 1, 1, 1, 0.75, 1.75, 1.75, 10, 0]\n",
            "[True]\n",
            "[('How to make hummus', 0.4333500862121582, None), ('Winter', 0.5583264827728271, 0.236), ('Rick and Morty', 0.16632533073425293, 0.951), ('Natural Language processing', 0.275282621383667, None), ('World Cup 2022', 0.5532293319702148, None), ('Dolly the sheep', 0.11558389663696289, 0.592), ('Cigarettes', 0.027254819869995117, 0.151), ('What is the best place to live in?', 0.7874438762664795, None), ('Elon musk', 0.018949508666992188, 0.634), ('How do you breed flowers?', 0.25124287605285645, 0.0)]\n",
            "[1, 1, 0, 0.75, 1.75, 1.75, 10, 0, 0, 1, 0.75, 1.75, 1.75, 10, 0]\n",
            "[True]\n",
            "[('How to make hummus', 0.44230031967163086, None), ('Winter', 0.7248368263244629, 0.388), ('Rick and Morty', 0.21941876411437988, 0.872), ('Natural Language processing', 0.24735379219055176, None), ('World Cup 2022', 0.4351518154144287, None), ('Dolly the sheep', 0.15285277366638184, 0.783), ('Cigarettes', 0.03398704528808594, 0.097), ('What is the best place to live in?', 0.7667930126190186, None), ('Elon musk', 0.021724462509155273, 0.504), ('How do you breed flowers?', 0.3394594192504883, 0.0)]\n",
            "[0, 1, 0, 0.75, 1.75, 1.75, 10, 0, 1, 1, 0.75, 1.75, 1.75, 10, 0]\n",
            "[True]\n",
            "[('How to make hummus', 0.8808677196502686, None), ('Winter', 0.9135270118713379, 0.255), ('Rick and Morty', 0.26812291145324707, 0.893), ('Natural Language processing', 0.8278069496154785, None), ('World Cup 2022', 2.0687968730926514, None), ('Dolly the sheep', 0.1736586093902588, 0.681), ('Cigarettes', 0.03973555564880371, 0.25), ('What is the best place to live in?', 2.69834566116333, None), ('Elon musk', 0.02815723419189453, 0.628), ('How do you breed flowers?', 0.4022841453552246, 0.0)]\n",
            "[1, 1, 0, 0.75, 1.75, 1.75, 10, 1, 0, 1, 0.75, 1.75, 1.75, 10, 0]\n",
            "[True]\n",
            "[('How to make hummus', 0.8337335586547852, None), ('Winter', 1.1188879013061523, 0.255), ('Rick and Morty', 0.32404637336730957, 0.861), ('Natural Language processing', 0.7984335422515869, None), ('World Cup 2022', 2.125638961791992, None), ('Dolly the sheep', 0.21708464622497559, 0.776), ('Cigarettes', 0.0499112606048584, 0.25), ('What is the best place to live in?', 2.757939338684082, None), ('Elon musk', 0.03200197219848633, 0.56), ('How do you breed flowers?', 0.5169291496276855, 0.0)]\n",
            "[1, 1, 0, 0.75, 1.75, 1.75, 10, 1, 1, 1, 0.75, 1.75, 1.75, 10, 0]\n",
            "[True]\n",
            "[('How to make hummus', 0.42252254486083984, None), ('Winter', 0.5527276992797852, 0.177), ('Rick and Morty', 0.15816831588745117, 0.939), ('Natural Language processing', 0.2859807014465332, None), ('World Cup 2022', 0.6495072841644287, None), ('Dolly the sheep', 0.12028694152832031, 0.525), ('Cigarettes', 0.027476072311401367, 0.127), ('What is the best place to live in?', 0.8255910873413086, None), ('Elon musk', 0.020299434661865234, 0.737), ('How do you breed flowers?', 0.2605774402618408, 0.0)]\n",
            "[1, 1, 1, 0.75, 1.75, 1.75, 10, 0, 0, 1, 0.75, 1.75, 1.75, 10, 0]\n",
            "[True]\n",
            "[('How to make hummus', 0.4231126308441162, None), ('Winter', 0.7498936653137207, 0.177), ('Rick and Morty', 0.2106790542602539, 0.953), ('Natural Language processing', 0.2930877208709717, None), ('World Cup 2022', 0.6480813026428223, None), ('Dolly the sheep', 0.15034842491149902, 0.748), ('Cigarettes', 0.035013437271118164, 0.127), ('What is the best place to live in?', 0.8329973220825195, None), ('Elon musk', 0.029246091842651367, 0.753), ('How do you breed flowers?', 0.3487725257873535, 0.0)]\n",
            "[1, 1, 1, 0.75, 1.75, 1.75, 10, 0, 1, 1, 0.75, 1.75, 1.75, 10, 0]\n",
            "[True]\n",
            "[('How to make hummus', 0.8297555446624756, None), ('Winter', 0.9129753112792969, 0.273), ('Rick and Morty', 0.25925111770629883, 0.919), ('Natural Language processing', 0.8357107639312744, None), ('World Cup 2022', 2.2192678451538086, None), ('Dolly the sheep', 0.19000959396362305, 0.62), ('Cigarettes', 0.04296374320983887, 0.151), ('What is the best place to live in?', 2.781872510910034, None), ('Elon musk', 0.029188871383666992, 0.7), ('How do you breed flowers?', 0.4082951545715332, 0.0)]\n",
            "[1, 1, 1, 0.75, 1.75, 1.75, 10, 1, 0, 1, 0.75, 1.75, 1.75, 10, 0]\n",
            "[True]\n",
            "[('How to make hummus', 0.8079333305358887, None), ('Winter', 1.0993270874023438, 0.255), ('Rick and Morty', 0.3214428424835205, 0.859), ('Natural Language processing', 0.8121914863586426, None), ('World Cup 2022', 2.0504236221313477, None), ('Dolly the sheep', 0.2244703769683838, 0.764), ('Cigarettes', 0.05178475379943848, 0.15), ('What is the best place to live in?', 2.746807813644409, None), ('Elon musk', 0.0324559211730957, 0.535), ('How do you breed flowers?', 0.4912075996398926, 0.0)]\n",
            "[0, 1, 1, 0.75, 1.75, 1.75, 10, 1, 1, 1, 0.75, 1.75, 1.75, 10, 0]\n"
          ]
        }
      ]
    },
    {
      "cell_type": "code",
      "source": [
        "result_dict\n"
      ],
      "metadata": {
        "colab": {
          "base_uri": "https://localhost:8080/"
        },
        "id": "rVOLyGK-Ij7G",
        "outputId": "e7aae0ab-7bf3-4096-9a81-6aa110fc2d8a"
      },
      "execution_count": 39,
      "outputs": [
        {
          "output_type": "execute_result",
          "data": {
            "text/plain": [
              "{'title_parms: w_cosine_similarity 0, w_boolean 0.6,w_BM25_b_k1_k3_baselog [0.7, 0, 1.75, 1.75, 10]     body_parms: w_cosine_similarity 0, w_boolean 0,w_BM25_b_k1_k3_baselog [0.3, 1.09, 1.19, 1.52, 10] merge=230': (2.1143392244974772,\n",
              "  0.6445000000000002,\n",
              "  0.17400000000000002),\n",
              " 'title_parms: w_cosine_similarity 0, w_boolean 0.6,w_BM25_b_k1_k3_baselog [0.7, 0, 1.75, 1.75, 10]     body_parms: w_cosine_similarity 0, w_boolean 0,w_BM25_b_k1_k3_baselog [0.3, 0.8, 1.78, 1.6, 10] merge=230': (1.9795051256815592,\n",
              "  0.6598333333333334,\n",
              "  0.17400000000000002),\n",
              " 'title_parms: w_cosine_similarity 0, w_boolean 0.6,w_BM25_b_k1_k3_baselog [0.7, 0, 1.75, 1.75, 10]     body_parms: w_cosine_similarity 0, w_boolean 0,w_BM25_b_k1_k3_baselog [0.3, 0.94, 1.39, 1.34, 10] merge=230': (1.9722492853800455,\n",
              "  0.6483000000000002,\n",
              "  0.17400000000000002),\n",
              " 'title_parms: w_cosine_similarity 0, w_boolean 0.6,w_BM25_b_k1_k3_baselog [0.7, 0, 1.75, 1.75, 10]     body_parms: w_cosine_similarity 0, w_boolean 0,w_BM25_b_k1_k3_baselog [0.3, 1.15, 1.78, 1.79, 10] merge=230': (1.977925165494283,\n",
              "  0.6289666666666667,\n",
              "  0.17400000000000002),\n",
              " 'title_parms: w_cosine_similarity 0, w_boolean 0.6,w_BM25_b_k1_k3_baselog [0.7, 0, 1.75, 1.75, 10]     body_parms: w_cosine_similarity 0, w_boolean 0,w_BM25_b_k1_k3_baselog [0.3, 0.54, 1.84, 1.95, 10] merge=230': (1.9768154462178549,\n",
              "  0.6860666666666667,\n",
              "  0.17486666666666667),\n",
              " 'title_parms: w_cosine_similarity 0, w_boolean 0.6,w_BM25_b_k1_k3_baselog [0.7, 0, 1.75, 1.75, 10]     body_parms: w_cosine_similarity 0, w_boolean 0,w_BM25_b_k1_k3_baselog [0.3, 0.91, 1.79, 1.57, 10] merge=230': (2.036972975730896,\n",
              "  0.6522000000000001,\n",
              "  0.17400000000000002),\n",
              " 'title_parms: w_cosine_similarity 0, w_boolean 0.6,w_BM25_b_k1_k3_baselog [0.7, 0, 1.75, 1.75, 10]     body_parms: w_cosine_similarity 0, w_boolean 0,w_BM25_b_k1_k3_baselog [0.3, 0.97, 1.93, 1.79, 10] merge=230': (1.9429243803024292,\n",
              "  0.6435,\n",
              "  0.17400000000000002),\n",
              " 'title_parms: w_cosine_similarity 0, w_boolean 0.6,w_BM25_b_k1_k3_baselog [0.7, 0, 1.75, 1.75, 10]     body_parms: w_cosine_similarity 0, w_boolean 0,w_BM25_b_k1_k3_baselog [0.3, 1.0, 1.36, 1.69, 10] merge=230': (1.9432764212290445,\n",
              "  0.6506333333333334,\n",
              "  0.17400000000000002),\n",
              " 'title_parms: w_cosine_similarity 0, w_boolean 0.6,w_BM25_b_k1_k3_baselog [0.7, 0, 1.75, 1.75, 10]     body_parms: w_cosine_similarity 0, w_boolean 0,w_BM25_b_k1_k3_baselog [0.3, 1.17, 1.3, 1.46, 10] merge=230': (1.9427963415781657,\n",
              "  0.6348333333333334,\n",
              "  0.17400000000000002),\n",
              " 'title_parms: w_cosine_similarity 0, w_boolean 0.6,w_BM25_b_k1_k3_baselog [0.7, 0, 1.75, 1.75, 10]     body_parms: w_cosine_similarity 0, w_boolean 0,w_BM25_b_k1_k3_baselog [0.3, 0.9, 1.22, 1.67, 10] merge=230': (1.9259950637817382,\n",
              "  0.6498333333333335,\n",
              "  0.17400000000000002),\n",
              " 'title_parms: w_cosine_similarity 0, w_boolean 0.6,w_BM25_b_k1_k3_baselog [0.7, 0, 1.75, 1.75, 10]     body_parms: w_cosine_similarity 0, w_boolean 0,w_BM25_b_k1_k3_baselog [0.3, 0.54, 1.17, 1.15, 10] merge=230': (1.939263113339742,\n",
              "  0.6587666666666666,\n",
              "  0.17486666666666667),\n",
              " 'title_parms: w_cosine_similarity 0, w_boolean 0.6,w_BM25_b_k1_k3_baselog [0.7, 0, 1.75, 1.75, 10]     body_parms: w_cosine_similarity 0, w_boolean 0,w_BM25_b_k1_k3_baselog [0.3, 0.47, 1.17, 1.71, 10] merge=230': (1.9638472557067872,\n",
              "  0.6555333333333332,\n",
              "  0.17486666666666667),\n",
              " 'title_parms: w_cosine_similarity 0, w_boolean 0.6,w_BM25_b_k1_k3_baselog [0.7, 0, 1.75, 1.75, 10]     body_parms: w_cosine_similarity 0, w_boolean 0,w_BM25_b_k1_k3_baselog [0.3, 0.52, 1.16, 1.5, 10] merge=230': (1.9462312857309978,\n",
              "  0.6512999999999999,\n",
              "  0.17486666666666667),\n",
              " 'title_parms: w_cosine_similarity 0, w_boolean 0.6,w_BM25_b_k1_k3_baselog [0.7, 0, 1.75, 1.75, 10]     body_parms: w_cosine_similarity 0, w_boolean 0,w_BM25_b_k1_k3_baselog [0.3, 0.46, 1.85, 1.79, 10] merge=230': (1.9399184624354044,\n",
              "  0.6826000000000002,\n",
              "  0.17486666666666667),\n",
              " 'title_parms: w_cosine_similarity 0, w_boolean 0.6,w_BM25_b_k1_k3_baselog [0.7, 0, 1.75, 1.75, 10]     body_parms: w_cosine_similarity 0, w_boolean 0,w_BM25_b_k1_k3_baselog [0.3, 0.54, 1.59, 1.12, 10] merge=230': (2.0633418480555217,\n",
              "  0.6472666666666668,\n",
              "  0.17486666666666667),\n",
              " 'title_parms: w_cosine_similarity 0, w_boolean 0.6,w_BM25_b_k1_k3_baselog [0.7, 0, 1.75, 1.75, 10]     body_parms: w_cosine_similarity 0, w_boolean 0,w_BM25_b_k1_k3_baselog [0.3, 0.44, 1.26, 1.3, 10] merge=230': (1.972173794110616,\n",
              "  0.6684666666666668,\n",
              "  0.17553333333333337),\n",
              " 'title_parms: w_cosine_similarity 0, w_boolean 0.6,w_BM25_b_k1_k3_baselog [0.7, 0, 1.75, 1.75, 10]     body_parms: w_cosine_similarity 0, w_boolean 0,w_BM25_b_k1_k3_baselog [0.3, 0.43, 1.55, 1.28, 10] merge=230': (1.9529243151346842,\n",
              "  0.6645666666666667,\n",
              "  0.17553333333333337),\n",
              " 'title_parms: w_cosine_similarity 0, w_boolean 0.6,w_BM25_b_k1_k3_baselog [0.7, 0, 1.75, 1.75, 10]     body_parms: w_cosine_similarity 0, w_boolean 0,w_BM25_b_k1_k3_baselog [0.3, 0.59, 1.71, 1.43, 10] merge=230': (1.9358871539433797,\n",
              "  0.6695000000000001,\n",
              "  0.17400000000000002),\n",
              " 'title_parms: w_cosine_similarity 0, w_boolean 0.6,w_BM25_b_k1_k3_baselog [0.87, 0, 1.75, 1.75, 10]     body_parms: w_cosine_similarity 0, w_boolean 0,w_BM25_b_k1_k3_baselog [0.13, 0.54, 1.84, 1.95, 10] merge=230': (1.9221060276031494,\n",
              "  0.5723666666666667,\n",
              "  0.2531333333333333),\n",
              " 'title_parms: w_cosine_similarity 0, w_boolean 0.6,w_BM25_b_k1_k3_baselog [0.97, 0, 1.75, 1.75, 10]     body_parms: w_cosine_similarity 0, w_boolean 0,w_BM25_b_k1_k3_baselog [0.030000000000000027, 0.54, 1.84, 1.95, 10] merge=230': (1.926373545328776,\n",
              "  0.5512,\n",
              "  0.27659999999999996),\n",
              " 'title_parms: w_cosine_similarity 0, w_boolean 0.6,w_BM25_b_k1_k3_baselog [0.61, 0, 1.75, 1.75, 10]     body_parms: w_cosine_similarity 0, w_boolean 0,w_BM25_b_k1_k3_baselog [0.39, 0.54, 1.84, 1.95, 10] merge=230': (1.9016405502955118,\n",
              "  0.6633666666666667,\n",
              "  0.15306666666666668),\n",
              " 'title_parms: w_cosine_similarity 0, w_boolean 0.6,w_BM25_b_k1_k3_baselog [0.73, 0, 1.75, 1.75, 10]     body_parms: w_cosine_similarity 0, w_boolean 0,w_BM25_b_k1_k3_baselog [0.27, 0.54, 1.84, 1.95, 10] merge=230': (1.899691597620646,\n",
              "  0.6780333333333334,\n",
              "  0.1824666666666667),\n",
              " 'title_parms: w_cosine_similarity 0, w_boolean 0.6,w_BM25_b_k1_k3_baselog [0.58, 0, 1.75, 1.75, 10]     body_parms: w_cosine_similarity 0, w_boolean 0,w_BM25_b_k1_k3_baselog [0.42000000000000004, 0.54, 1.84, 1.95, 10] merge=230': (1.934435741106669,\n",
              "  0.6659,\n",
              "  0.15240000000000004),\n",
              " 'title_parms: w_cosine_similarity 0, w_boolean 0.6,w_BM25_b_k1_k3_baselog [0.57, 0, 1.75, 1.75, 10]     body_parms: w_cosine_similarity 0, w_boolean 0,w_BM25_b_k1_k3_baselog [0.43000000000000005, 0.54, 1.84, 1.95, 10] merge=230': (1.9120738903681438,\n",
              "  0.6676333333333333,\n",
              "  0.15193333333333336),\n",
              " 'title_parms: w_cosine_similarity 0, w_boolean 0.6,w_BM25_b_k1_k3_baselog [0.93, 0, 1.75, 1.75, 10]     body_parms: w_cosine_similarity 0, w_boolean 0,w_BM25_b_k1_k3_baselog [0.06999999999999995, 0.54, 1.84, 1.95, 10] merge=230': (1.91836519241333,\n",
              "  0.5866666666666667,\n",
              "  0.2715333333333333)}"
            ]
          },
          "metadata": {},
          "execution_count": 39
        }
      ]
    },
    {
      "cell_type": "markdown",
      "source": [
        "## **Plot Test Results** "
      ],
      "metadata": {
        "id": "rKPyxqj_mZii"
      }
    },
    {
      "cell_type": "code",
      "source": [
        "from nltk.metrics.scores import precision\n",
        "from matplotlib.pyplot import figure\n",
        "import matplotlib.pyplot as plt\n",
        "import numpy as np\n",
        "\n",
        "\n",
        "labels = result_dict.keys()\n",
        "duration,precision = zip(*result_dict.values())\n",
        "\n",
        "\n",
        "x = np.arange(len(labels))  # the label locations\n",
        "width = 0.35  # the width of the bars\n",
        "\n",
        "fig, ax = plt.subplots()\n",
        "rects1 = ax.bar(x - width/2, duration, width, label='duration')\n",
        "rects2 = ax.bar(x + width/2, precision, width, label='precision')\n",
        "\n",
        "# Add some text for labels, title and custom x-axis tick labels, etc.\n",
        "ax.set_ylabel('Scores')\n",
        "ax.set_title('Results Test :choosing the best model')\n",
        "ax.set_xticks(range(len(labels)))\n",
        "ax.legend()\n",
        "\n",
        "for bar in rects1:\n",
        "  height = bar.get_height()\n",
        "  ax.text(bar.get_x() + bar.get_width()/2, height, round(height,3), ha='center', va='bottom',fontsize=7,fontweight='bold')\n",
        "\n",
        "for bar in rects2:\n",
        "  height = bar.get_height()\n",
        "  ax.text(bar.get_x() + bar.get_width()/2, height, round(height,3), ha='center', va='bottom',fontsize=7,fontweight='bold')\n",
        "fig.tight_layout()\n",
        "\n",
        "plt.show()\n",
        "max_key = max(result_dict, key = lambda x: result_dict.get(x)[1])\n",
        "\n",
        "\n",
        "print(result_dict[max_key])\n",
        "print(max_key)"
      ],
      "metadata": {
        "colab": {
          "base_uri": "https://localhost:8080/",
          "height": 353
        },
        "id": "b9r91I1GmXwu",
        "outputId": "2808afd2-c167-43e1-cce0-548c304e908c"
      },
      "execution_count": 57,
      "outputs": [
        {
          "output_type": "display_data",
          "data": {
            "text/plain": [
              "<Figure size 432x288 with 1 Axes>"
            ],
            "image/png": "[encoded data removed]"
          },
          "metadata": {
            "needs_background": "light"
          }
        },
        {
          "output_type": "stream",
          "name": "stdout",
          "text": [
            "(0.5158252716064453, 0.5397000000000001)\n",
            "title_parms: w_cosine_similarity 0, w_boolean 1,w_BM25_b_k1_k3_baselog [0, 0.75, 1.75, 1.75, 10]     body_parms: w_cosine_similarity 0, w_boolean 1,w_BM25_b_k1_k3_baselog [0, 0.75, 1.75, 1.75, 10]\n"
          ]
        }
      ]
    },
    {
      "cell_type": "markdown",
      "source": [
        "## **Test search**"
      ],
      "metadata": {
        "id": "-wD0KIGP9-p_"
      }
    },
    {
      "cell_type": "code",
      "source": [
        "\n",
        "# url = 'http://35.232.59.3:8080'\n",
        "# place the domain you got from ngrok or GCP IP below. \n",
        "\n",
        "\n",
        "qs_res = []\n",
        "for q, true_wids in queries.items():\n",
        "  duration, ap,rc = None, None,None\n",
        "  t_start = time()\n",
        "  try:\n",
        "    res = requests.get(url + '/search', {'query': q}, timeout=35)\n",
        "    duration = time() - t_start\n",
        "    if res.status_code == 200:\n",
        "      pred_wids, _ = zip(*res.json())\n",
        "      ap = average_precision(true_wids, pred_wids)\n",
        "      rc = average_recall(true_wids, pred_wids)\n",
        "  except:\n",
        "    pass\n",
        "  \n",
        "  qs_res.append((q, duration, ap,rc))\n",
        "  \n"
      ],
      "metadata": {
        "id": "Gatr1Dtm-Cct"
      },
      "execution_count": 73,
      "outputs": []
    },
    {
      "cell_type": "code",
      "source": [
        "qs_res"
      ],
      "metadata": {
        "colab": {
          "base_uri": "https://localhost:8080/"
        },
        "id": "6AxGSP-SB31k",
        "outputId": "7ab03e56-702a-4c68-a418-282d03b210db"
      },
      "execution_count": 74,
      "outputs": [
        {
          "output_type": "execute_result",
          "data": {
            "text/plain": [
              "[('best marvel movie', 3.5919082164764404, 0.867, 0.067),\n",
              " ('How do kids come to world?', 5.807981252670288, 0.0, 0.0),\n",
              " ('Information retrieval', 0.6811745166778564, 1.0, 0.05),\n",
              " ('LinkedIn', 0.020114660263061523, 1.0, 0.533),\n",
              " ('How to make coffee?', 1.6371204853057861, 0.0, 0.0),\n",
              " ('Ritalin', 0.00716710090637207, 0.771, 0.605),\n",
              " ('How to make wine at home?', 4.238125801086426, 0.0, 0.0),\n",
              " ('Most expensive city in the world', 7.430591106414795, 0.28, 0.283),\n",
              " ('India', 1.6609418392181396, 0.661, 0.592),\n",
              " ('how to make money fast?', 2.60622501373291, 1.0, 0.03),\n",
              " ('Netflix', 0.10111236572265625, 1.0, 0.059),\n",
              " ('Apple computer', 0.9611873626708984, 0.697, 0.119),\n",
              " ('The Simpsons', 0.04854869842529297, 1.0, 0.154),\n",
              " ('World cup', 5.335737705230713, 0.622, 0.455),\n",
              " ('How to lose weight?', 0.8475992679595947, 1.0, 0.045),\n",
              " ('Java', 0.1381666660308838, 0.95, 0.435),\n",
              " ('Air Jordan', 1.8233389854431152, 1.0, 0.103),\n",
              " ('how to deal with depression?', 0.7712149620056152, 1.0, 0.02),\n",
              " ('How do you make gold', 3.0736372470855713, 0.5, 0.02),\n",
              " ('Marijuana', 0.05460524559020996, 0.295, 0.043),\n",
              " ('How to make hummus', 1.4343526363372803, 1.0, 0.045),\n",
              " ('Winter', 1.0879414081573486, 0.527, 0.213),\n",
              " ('Rick and Morty', 0.29595398902893066, 1.0, 0.207),\n",
              " ('Natural Language processing', 1.8898766040802002, 1.0, 0.075),\n",
              " ('World Cup 2022', 5.466498374938965, 0.599, 0.296),\n",
              " ('Dolly the sheep', 0.2290804386138916, 0.575, 0.098),\n",
              " ('Cigarettes', 0.04531264305114746, 1.0, 0.2),\n",
              " ('What is the best place to live in?', 6.620182514190674, 0.065, 0.043),\n",
              " ('Elon musk', 0.034673452377319336, 0.456, 0.435),\n",
              " ('How do you breed flowers?', 0.494828462600708, 0.833, 0.062)]"
            ]
          },
          "metadata": {},
          "execution_count": 74
        }
      ]
    },
    {
      "cell_type": "code",
      "source": [
        "avg_time_pres(qs_res)"
      ],
      "metadata": {
        "colab": {
          "base_uri": "https://localhost:8080/"
        },
        "id": "aKuFCaYolK--",
        "outputId": "900b8725-f0d0-424b-9fbd-17f3976bef55"
      },
      "execution_count": 75,
      "outputs": [
        {
          "output_type": "execute_result",
          "data": {
            "text/plain": [
              "(1.9478399674097697, 0.6899333333333332, 0.17623333333333335)"
            ]
          },
          "metadata": {},
          "execution_count": 75
        }
      ]
    },
    {
      "cell_type": "code",
      "source": [
        "result_dict[prams_to_string(parameters)] = avg_time_pres(qs_res)"
      ],
      "metadata": {
        "id": "bNlaCcfx-LPU"
      },
      "execution_count": 52,
      "outputs": []
    },
    {
      "cell_type": "code",
      "source": [
        "result_dict "
      ],
      "metadata": {
        "colab": {
          "base_uri": "https://localhost:8080/"
        },
        "id": "78PqsrTRG6gQ",
        "outputId": "e7543312-f74d-4030-aee1-3977114b7523"
      },
      "execution_count": 53,
      "outputs": [
        {
          "output_type": "execute_result",
          "data": {
            "text/plain": [
              "{'title_parms: w_cosine_similarity 0, w_boolean 0.6,w_BM25_b_k1_k3_baselog [0.7, 0, 1.75, 1.75, 10]     body_parms: w_cosine_similarity 0, w_boolean 0,w_BM25_b_k1_k3_baselog [0.3, 0.54, 1.84, 1.95, 10] merge=230': (1.7443791627883911,\n",
              "  0.7034,\n",
              "  0.1674)}"
            ]
          },
          "metadata": {},
          "execution_count": 53
        }
      ]
    },
    {
      "cell_type": "markdown",
      "source": [
        "## **Test search_body**"
      ],
      "metadata": {
        "id": "e-lvloy_97TN"
      }
    },
    {
      "cell_type": "code",
      "source": [
        "qs_res = []\n",
        "for q, true_wids in queries.items():\n",
        "  duration, ap = None, None\n",
        "  t_start = time()\n",
        "  try:\n",
        "    res = requests.get(url + '/search_body', {'query': q}, timeout=35)\n",
        "    duration = time() - t_start\n",
        "    if res.status_code == 200:\n",
        "      pred_wids, _ = zip(*res.json())\n",
        "      ap = average_precision(true_wids, pred_wids)\n",
        "  except:\n",
        "    pass\n",
        "  \n",
        "  qs_res.append((q, duration, ap))"
      ],
      "metadata": {
        "id": "gsaD3VfS9GkB"
      },
      "execution_count": null,
      "outputs": []
    },
    {
      "cell_type": "code",
      "source": [
        "qs_res"
      ],
      "metadata": {
        "colab": {
          "base_uri": "https://localhost:8080/"
        },
        "id": "NBeoYHKlncb9",
        "outputId": "cd457f21-d31f-4ad6-b3f3-371f57e40e47"
      },
      "execution_count": null,
      "outputs": [
        {
          "output_type": "execute_result",
          "data": {
            "text/plain": [
              "[('best marvel movie', 2.6888821125030518, 0.221),\n",
              " ('How do kids come to world?', 4.359713792800903, 0.037),\n",
              " ('Information retrieval', 1.2467851638793945, 0.376),\n",
              " ('LinkedIn', 0.32838964462280273, 0.815),\n",
              " ('How to make coffee?', 1.7823688983917236, 0.505),\n",
              " ('Ritalin', 0.32057785987854004, 0.712),\n",
              " ('How to make wine at home?', 3.7062108516693115, 0.249),\n",
              " ('Most expensive city in the world', 6.143420457839966, 1.0),\n",
              " ('India', 1.1721875667572021, 0.263),\n",
              " ('how to make money fast?', 2.4201366901397705, 0.276),\n",
              " ('Netflix', 0.3690643310546875, 0.712),\n",
              " ('Apple computer', 0.822045087814331, 0.508),\n",
              " ('The Simpsons', 0.3415541648864746, 0.192),\n",
              " ('World cup', 4.317164659500122, 0.54),\n",
              " ('How to lose weight?', 0.7297241687774658, 0.288),\n",
              " ('Java', 0.3810234069824219, 0.407),\n",
              " ('Air Jordan', 1.3638386726379395, 0.421),\n",
              " ('how to deal with depression?', 0.9454023838043213, 0.323),\n",
              " ('How do you make gold', 2.374253273010254, 0.385),\n",
              " ('Marijuana', 0.3480856418609619, 0.081),\n",
              " ('How to make hummus', 1.6905841827392578, 0.809),\n",
              " ('Winter', 0.8574564456939697, 0.335),\n",
              " ('Rick and Morty', 0.46031737327575684, 0.628),\n",
              " ('Natural Language processing', 1.8218657970428467, 0.367),\n",
              " ('World Cup 2022', 4.5374016761779785, 0.038),\n",
              " ('Dolly the sheep', 0.4458787441253662, 0.534),\n",
              " ('Ciggarets', 0.319347620010376, None),\n",
              " ('What is the best place to live in?', 5.256739377975464, 0.0),\n",
              " ('Elon musk', 0.33922553062438965, 0.494),\n",
              " ('How do you breed flowers?', 0.5886294841766357, 0.033)]"
            ]
          },
          "metadata": {},
          "execution_count": 91
        }
      ]
    },
    {
      "cell_type": "code",
      "source": [
        "avg_time_pres(qs_res)"
      ],
      "metadata": {
        "colab": {
          "base_uri": "https://localhost:8080/"
        },
        "id": "8l-Rn-DR-1Mk",
        "outputId": "8ef505a0-95a8-4300-b025-07a528003689"
      },
      "execution_count": null,
      "outputs": [
        {
          "output_type": "execute_result",
          "data": {
            "text/plain": [
              "(1.749275835355123, 0.3849666666666666)"
            ]
          },
          "metadata": {},
          "execution_count": 92
        }
      ]
    },
    {
      "cell_type": "markdown",
      "source": [
        "## **Test search_title**"
      ],
      "metadata": {
        "id": "Gp0Wc-mu9s63"
      }
    },
    {
      "cell_type": "code",
      "source": [
        "qs_res = []\n",
        "for q, true_wids in queries.items():\n",
        "  duration, ap = None, None\n",
        "  t_start = time()\n",
        "  try:\n",
        "    res = requests.get(url + '/search_title', {'query': q}, timeout=35)\n",
        "    duration = time() - t_start\n",
        "    if res.status_code == 200:\n",
        "      pred_wids, _ = zip(*res.json())\n",
        "      ap = average_precision(true_wids, pred_wids)\n",
        "  except:\n",
        "    pass\n",
        "  \n",
        "  qs_res.append((q, duration, ap))"
      ],
      "metadata": {
        "id": "xIzj0oIo-3bR"
      },
      "execution_count": null,
      "outputs": []
    },
    {
      "cell_type": "code",
      "source": [
        "qs_res"
      ],
      "metadata": {
        "colab": {
          "base_uri": "https://localhost:8080/"
        },
        "id": "cTE9HXfTndfG",
        "outputId": "546e5de8-cca0-410a-e985-fa79619bbbe1"
      },
      "execution_count": null,
      "outputs": [
        {
          "output_type": "execute_result",
          "data": {
            "text/plain": [
              "[('best marvel movie', 1.186560869216919, 0.0),\n",
              " ('How do kids come to world?', 1.6448984146118164, 0.097),\n",
              " ('Information retrieval', 0.8095262050628662, 0.817),\n",
              " ('LinkedIn', 0.31943368911743164, 1.0),\n",
              " ('How to make coffee?', 0.6507124900817871, 0.284),\n",
              " ('Ritalin', 0.3190593719482422, 1.0),\n",
              " ('How to make wine at home?', 0.9993784427642822, 0.0),\n",
              " ('Most expensive city in the world', 1.8301446437835693, 0.25),\n",
              " ('India', 1.003746747970581, 0.433),\n",
              " ('how to make money fast?', 0.8107409477233887, 0.616),\n",
              " ('Netflix', 0.3197157382965088, 0.557),\n",
              " ('Apple computer', 0.8113000392913818, 0.622),\n",
              " ('The Simpsons', 0.32015538215637207, 0.546),\n",
              " ('World cup', 1.8495383262634277, 0.408),\n",
              " ('How to lose weight?', 0.47997331619262695, 0.0),\n",
              " ('Java', 0.4779019355773926, 0.642),\n",
              " ('Air Jordan', 1.1833832263946533, 0.756),\n",
              " ('how to deal with depression?', 0.4838869571685791, 0.0),\n",
              " ('How do you make gold', 0.9706940650939941, 0.416),\n",
              " ('Marijuana', 0.3211393356323242, 0.842),\n",
              " ('How to make hummus', 0.6385974884033203, 0.833),\n",
              " ('Winter', 1.1412718296051025, 0.36),\n",
              " ('Rick and Morty', 0.6419687271118164, 0.908),\n",
              " ('Natural Language processing', 1.2006938457489014, 0.903),\n",
              " ('World Cup 2022', 1.8485522270202637, 0.568),\n",
              " ('Dolly the sheep', 0.48592185974121094, 0.69),\n",
              " ('Ciggarets', 0.3192484378814697, None),\n",
              " ('What is the best place to live in?', 1.3511512279510498, 0.0),\n",
              " ('Elon musk', 0.31984972953796387, 0.695),\n",
              " ('How do you breed flowers?', 0.4867429733276367, 0.0)]"
            ]
          },
          "metadata": {},
          "execution_count": 94
        }
      ]
    },
    {
      "cell_type": "code",
      "source": [
        "avg_time_pres(qs_res)"
      ],
      "metadata": {
        "colab": {
          "base_uri": "https://localhost:8080/"
        },
        "id": "4hXnKJH99GrA",
        "outputId": "bb84a663-58bc-4f03-ebbc-079b69b2efe1"
      },
      "execution_count": null,
      "outputs": [
        {
          "output_type": "execute_result",
          "data": {
            "text/plain": [
              "(0.8408629496892294, 0.47476666666666667)"
            ]
          },
          "metadata": {},
          "execution_count": 95
        }
      ]
    },
    {
      "cell_type": "markdown",
      "source": [
        "## **Test search_anchor**"
      ],
      "metadata": {
        "id": "sMMV1wzQ9zNI"
      }
    },
    {
      "cell_type": "code",
      "source": [
        "qs_res = []\n",
        "for q, true_wids in queries.items():\n",
        "  duration, ap = None, None\n",
        "  t_start = time()\n",
        "  try:\n",
        "    res = requests.get(url + '/search_anchor', {'query': q}, timeout=35)\n",
        "    duration = time() - t_start\n",
        "    if res.status_code == 200:\n",
        "      pred_wids, _ = zip(*res.json())\n",
        "      ap = average_precision(true_wids, pred_wids)\n",
        "  except:\n",
        "    pass\n",
        "  \n",
        "  qs_res.append((q, duration, ap))"
      ],
      "metadata": {
        "id": "jxx7MJc29GzG"
      },
      "execution_count": null,
      "outputs": []
    },
    {
      "cell_type": "code",
      "source": [
        "qs_res"
      ],
      "metadata": {
        "colab": {
          "base_uri": "https://localhost:8080/"
        },
        "id": "YfKA6WBV_EbH",
        "outputId": "de261b2c-54ac-4614-f960-e5c57844ba55"
      },
      "execution_count": null,
      "outputs": [
        {
          "output_type": "execute_result",
          "data": {
            "text/plain": [
              "[('best marvel movie', 2.5895748138427734, 0.211),\n",
              " ('How do kids come to world?', 3.4236786365509033, 0.0),\n",
              " ('Information retrieval', 1.4278738498687744, 0.539),\n",
              " ('LinkedIn', 0.8411605358123779, 0.0),\n",
              " ('How to make coffee?', 1.3876454830169678, 0.0),\n",
              " ('Ritalin', 0.34062910079956055, 1.0),\n",
              " ('How to make wine at home?', 1.9492156505584717, 0.0),\n",
              " ('Most expensive city in the world', 5.010385751724243, 0.0),\n",
              " ('India', 1.7032344341278076, 0.0),\n",
              " ('how to make money fast?', 1.3944618701934814, 0.0),\n",
              " ('Netflix', 1.1800377368927002, 0.0),\n",
              " ('Apple computer', 1.8347883224487305, 0.058),\n",
              " ('The Simpsons', 0.859311580657959, 0.0),\n",
              " ('World cup', 4.478655576705933, 0.0),\n",
              " ('How to lose weight?', 0.6719150543212891, 1.0),\n",
              " ('Java', 1.0633227825164795, 0.0),\n",
              " ('Air Jordan', 2.4306509494781494, 0.0),\n",
              " ('how to deal with depression?', 1.1879346370697021, 0.0),\n",
              " ('How do you make gold', 1.6291918754577637, 0.0),\n",
              " ('Marijuana', 0.3364853858947754, 0.408),\n",
              " ('How to make hummus', 1.1945891380310059, 0.75),\n",
              " ('Winter', 1.4947640895843506, 0.0),\n",
              " ('Rick and Morty', 1.319458246231079, 0.395),\n",
              " ('Natural Language processing', 1.9261395931243896, 0.0),\n",
              " ('World Cup 2022', 4.4825522899627686, 0.0),\n",
              " ('Dolly the sheep', 0.6713860034942627, 0.516),\n",
              " ('Ciggarets', 0.31967973709106445, None),\n",
              " ('What is the best place to live in?', 2.813646078109741, 0.0),\n",
              " ('Elon musk', 0.35677003860473633, 0.625),\n",
              " ('How do you breed flowers?', 1.020263433456421, 0.097)]"
            ]
          },
          "metadata": {},
          "execution_count": 97
        }
      ]
    },
    {
      "cell_type": "code",
      "source": [
        "avg_time_pres(qs_res)"
      ],
      "metadata": {
        "colab": {
          "base_uri": "https://localhost:8080/"
        },
        "id": "Hha4GQDn2oCu",
        "outputId": "1b90d298-45cd-4c98-efae-9c941797133c"
      },
      "execution_count": null,
      "outputs": [
        {
          "output_type": "execute_result",
          "data": {
            "text/plain": [
              "(1.7113134225209554, 0.18663333333333335)"
            ]
          },
          "metadata": {},
          "execution_count": 98
        }
      ]
    },
    {
      "cell_type": "markdown",
      "source": [
        "## **Test Page Rank**"
      ],
      "metadata": {
        "id": "-m5bHO0O9o6p"
      }
    },
    {
      "cell_type": "code",
      "source": [
        "qs_res = []\n",
        "lst = [100,200,300,565677,54656,89897]\n",
        "\n",
        "duration, ap = None, None\n",
        "t_start = time()\n",
        "try:\n",
        "  res = requests.post(url+'/get_pagerank',json=lst)\n",
        "  duration = time() - t_start\n",
        "  if res.status_code == 200:\n",
        "    qs_res= res.json()\n",
        "except:\n",
        "  pass\n",
        "  \n",
        "qs_res"
      ],
      "metadata": {
        "colab": {
          "base_uri": "https://localhost:8080/"
        },
        "id": "cbmkpYRU9G9f",
        "outputId": "68e837d6-cc4b-4f0c-b165-aaccf8735d4d"
      },
      "execution_count": null,
      "outputs": [
        {
          "output_type": "execute_result",
          "data": {
            "text/plain": [
              "[[100, 0.0],\n",
              " [200, 0.0],\n",
              " [300, 0.0],\n",
              " [565677, 0.5988047365295416],\n",
              " [54656, 0.0],\n",
              " [89897, 0.0]]"
            ]
          },
          "metadata": {},
          "execution_count": 99
        }
      ]
    },
    {
      "cell_type": "markdown",
      "source": [
        "## **Test Page View**"
      ],
      "metadata": {
        "id": "nwwHip4a9IqF"
      }
    },
    {
      "cell_type": "code",
      "source": [
        "qs_res = []\n",
        "lst = [100,200,300,565677,54656,89897]\n",
        "\n",
        "duration, ap = None, None\n",
        "t_start = time()\n",
        "try:\n",
        "  res = requests.post(url+'/get_pageview',json=lst)\n",
        "  duration = time() - t_start\n",
        "  if res.status_code == 200:\n",
        "    qs_res= res.json()\n",
        "except:\n",
        "  pass\n",
        "  \n",
        "qs_res"
      ],
      "metadata": {
        "id": "dYmNTq9u0ChK",
        "colab": {
          "base_uri": "https://localhost:8080/"
        },
        "outputId": "f9a174f8-9f3d-48e3-bb0b-ee1cdf65a21b"
      },
      "execution_count": null,
      "outputs": [
        {
          "output_type": "execute_result",
          "data": {
            "text/plain": [
              "[[100, 0.0],\n",
              " [200, 0.0],\n",
              " [300, 0.0],\n",
              " [565677, 1719],\n",
              " [54656, 0.0],\n",
              " [89897, 0.0]]"
            ]
          },
          "metadata": {},
          "execution_count": 100
        }
      ]
    }
  ]
}