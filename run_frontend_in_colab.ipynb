{
  "nbformat": 4,
  "nbformat_minor": 0,
  "metadata": {
    "colab": {
      "name": "run_frontend_in_colab.ipynb",
      "provenance": []
    },
    "kernelspec": {
      "name": "python3",
      "display_name": "Python 3"
    },
    "language_info": {
      "name": "python"
    }
  },
  "cells": [
    {
      "cell_type": "code",
      "source": [
        "# download nltk stopwords\n",
        "import nltk\n",
        "nltk.download('stopwords')"
      ],
      "metadata": {
        "id": "bCPDHP7zTQJZ",
        "colab": {
          "base_uri": "https://localhost:8080/"
        },
        "outputId": "d704e7ab-281a-442a-82f9-2398330f4bb2"
      },
      "execution_count": null,
      "outputs": [
        {
          "output_type": "stream",
          "name": "stdout",
          "text": [
            "[nltk_data] Downloading package stopwords to /root/nltk_data...\n",
            "[nltk_data]   Unzipping corpora/stopwords.zip.\n"
          ]
        },
        {
          "output_type": "execute_result",
          "data": {
            "text/plain": [
              "True"
            ]
          },
          "metadata": {},
          "execution_count": 1
        }
      ]
    },
    {
      "cell_type": "code",
      "source": [
        "# Install a particular version of `google-cloud-storage` because (oddly enough) \n",
        "# the  version on Colab and GCP is old. A dependency error below is okay.\n",
        "!pip install -q google-cloud-storage==1.43.0"
      ],
      "metadata": {
        "id": "lAt6KT8xOgHH",
        "colab": {
          "base_uri": "https://localhost:8080/"
        },
        "outputId": "d7ae1841-f7f2-4d05-d6b3-ae552547d708"
      },
      "execution_count": null,
      "outputs": [
        {
          "output_type": "stream",
          "name": "stdout",
          "text": [
            "\u001b[K     |████████████████████████████████| 106 kB 9.7 MB/s \n",
            "\u001b[K     |████████████████████████████████| 75 kB 4.0 MB/s \n",
            "\u001b[K     |████████████████████████████████| 109 kB 39.4 MB/s \n",
            "\u001b[31mERROR: pip's dependency resolver does not currently take into account all the packages that are installed. This behaviour is the source of the following dependency conflicts.\n",
            "google-cloud-translate 1.5.0 requires google-api-core[grpc]<2.0.0dev,>=1.6.0, but you have google-api-core 2.3.2 which is incompatible.\n",
            "google-cloud-translate 1.5.0 requires google-cloud-core<2.0dev,>=1.0.0, but you have google-cloud-core 2.2.1 which is incompatible.\n",
            "google-cloud-language 1.2.0 requires google-api-core[grpc]<2.0.0dev,>=1.6.0, but you have google-api-core 2.3.2 which is incompatible.\n",
            "google-cloud-firestore 1.7.0 requires google-api-core[grpc]<2.0.0dev,>=1.14.0, but you have google-api-core 2.3.2 which is incompatible.\n",
            "google-cloud-firestore 1.7.0 requires google-cloud-core<2.0dev,>=1.0.3, but you have google-cloud-core 2.2.1 which is incompatible.\n",
            "google-cloud-datastore 1.8.0 requires google-api-core[grpc]<2.0.0dev,>=1.6.0, but you have google-api-core 2.3.2 which is incompatible.\n",
            "google-cloud-datastore 1.8.0 requires google-cloud-core<2.0dev,>=1.0.0, but you have google-cloud-core 2.2.1 which is incompatible.\n",
            "google-cloud-bigquery 1.21.0 requires google-cloud-core<2.0dev,>=1.0.3, but you have google-cloud-core 2.2.1 which is incompatible.\n",
            "google-cloud-bigquery 1.21.0 requires google-resumable-media!=0.4.0,<0.5.0dev,>=0.3.1, but you have google-resumable-media 2.1.0 which is incompatible.\n",
            "google-cloud-bigquery-storage 1.1.0 requires google-api-core[grpc]<2.0.0dev,>=1.14.0, but you have google-api-core 2.3.2 which is incompatible.\n",
            "google-api-python-client 1.12.8 requires google-api-core<2dev,>=1.21.0, but you have google-api-core 2.3.2 which is incompatible.\n",
            "firebase-admin 4.4.0 requires google-api-core[grpc]<2.0.0dev,>=1.14.0; platform_python_implementation != \"PyPy\", but you have google-api-core 2.3.2 which is incompatible.\u001b[0m\n",
            "\u001b[?25h"
          ]
        }
      ]
    },
    {
      "cell_type": "code",
      "source": [
        "# authenticate below for Google Storage access as needed\n",
        "from google.colab import auth\n",
        "auth.authenticate_user()"
      ],
      "metadata": {
        "id": "-oKFly5jFLFn"
      },
      "execution_count": null,
      "outputs": []
    },
    {
      "cell_type": "code",
      "source": [
        "# install ngrok to emulate public IP / address\n",
        "!wget -N https://bin.equinox.io/c/4VmDzA7iaHb/ngrok-stable-linux-amd64.zip -O ngrok-stable-linux-amd64.zip\n",
        "!unzip -u ngrok-stable-linux-amd64.zip"
      ],
      "metadata": {
        "id": "FrBdFNYgiyab",
        "colab": {
          "base_uri": "https://localhost:8080/"
        },
        "outputId": "3e06da80-6e48-48c7-f7d0-66feaf371e16"
      },
      "execution_count": null,
      "outputs": [
        {
          "output_type": "stream",
          "name": "stdout",
          "text": [
            "WARNING: timestamping does nothing in combination with -O. See the manual\n",
            "for details.\n",
            "\n",
            "--2022-01-04 08:45:54--  https://bin.equinox.io/c/4VmDzA7iaHb/ngrok-stable-linux-amd64.zip\n",
            "Resolving bin.equinox.io (bin.equinox.io)... 52.202.168.65, 54.161.241.46, 54.237.133.81, ...\n",
            "Connecting to bin.equinox.io (bin.equinox.io)|52.202.168.65|:443... connected.\n",
            "HTTP request sent, awaiting response... 200 OK\n",
            "Length: 13832437 (13M) [application/octet-stream]\n",
            "Saving to: ‘ngrok-stable-linux-amd64.zip’\n",
            "\n",
            "ngrok-stable-linux- 100%[===================>]  13.19M  19.2MB/s    in 0.7s    \n",
            "\n",
            "2022-01-04 08:45:55 (19.2 MB/s) - ‘ngrok-stable-linux-amd64.zip’ saved [13832437/13832437]\n",
            "\n",
            "Archive:  ngrok-stable-linux-amd64.zip\n",
            "  inflating: ngrok                   \n"
          ]
        }
      ]
    },
    {
      "cell_type": "code",
      "source": [
        "# TODO: sign up for an ngrok account\n",
        "# then put your ngrok token below, uncomment, and execute\n",
        "!./ngrok authtoken 22KeqcMQYpd2iRnsaZZOzlyaNw0_5NAk69pXRUMvfrf1oCNpU"
      ],
      "metadata": {
        "id": "xA-_dKEZbsXW",
        "colab": {
          "base_uri": "https://localhost:8080/"
        },
        "outputId": "adbcf9ff-78d0-46e7-df05-2a15452355e0"
      },
      "execution_count": null,
      "outputs": [
        {
          "output_type": "stream",
          "name": "stdout",
          "text": [
            "Authtoken saved to configuration file: /root/.ngrok2/ngrok.yml\n"
          ]
        }
      ]
    },
    {
      "cell_type": "code",
      "execution_count": null,
      "metadata": {
        "id": "nXn5PlyGORQr",
        "colab": {
          "base_uri": "https://localhost:8080/"
        },
        "outputId": "c823bfa1-f532-408f-be82-66cc63c64383"
      },
      "outputs": [
        {
          "output_type": "stream",
          "name": "stdout",
          "text": [
            "\u001b[?25l\r\u001b[K     |████                            | 10 kB 22.2 MB/s eta 0:00:01\r\u001b[K     |████████                        | 20 kB 26.8 MB/s eta 0:00:01\r\u001b[K     |███████████▉                    | 30 kB 31.0 MB/s eta 0:00:01\r\u001b[K     |███████████████▉                | 40 kB 16.2 MB/s eta 0:00:01\r\u001b[K     |███████████████████▊            | 51 kB 9.8 MB/s eta 0:00:01\r\u001b[K     |███████████████████████▊        | 61 kB 7.6 MB/s eta 0:00:01\r\u001b[K     |███████████████████████████▋    | 71 kB 8.1 MB/s eta 0:00:01\r\u001b[K     |███████████████████████████████▋| 81 kB 9.0 MB/s eta 0:00:01\r\u001b[K     |████████████████████████████████| 83 kB 916 kB/s \n",
            "\u001b[?25h"
          ]
        }
      ],
      "source": [
        "# install a ngrok python package and a version of flask that works with it in \n",
        "# colab\n",
        "!pip -q install flask-ngrok\n",
        "!pip -q install flask==0.12.2\n",
        "# !pip -q install flask_restful"
      ]
    },
    {
      "cell_type": "markdown",
      "source": [
        "# Run the app"
      ],
      "metadata": {
        "id": "6dW0y91OVu5J"
      }
    },
    {
      "cell_type": "code",
      "source": [
        "# you need to upload your implementation of search_app.py\n",
        "import search_frontend as se"
      ],
      "metadata": {
        "id": "7opNkV6uRHIv"
      },
      "execution_count": null,
      "outputs": []
    },
    {
      "cell_type": "code",
      "source": [
        "# uncomment the code below and execute to reload the module when you make \n",
        "# changes to search_frontend.py (after you upload again).\n",
        "# import importlib\n",
        "# importlib.reload(se)"
      ],
      "metadata": {
        "id": "oTGXXYEXV5l8"
      },
      "execution_count": null,
      "outputs": []
    },
    {
      "cell_type": "code",
      "source": [
        "from flask_ngrok import run_with_ngrok\n",
        "run_with_ngrok(se.app) \n",
        "se.app.run()"
      ],
      "metadata": {
        "id": "J5n9u9rFP_wD",
        "colab": {
          "base_uri": "https://localhost:8080/"
        },
        "outputId": "1fa290ab-72a6-4262-cb71-9316490b3c69"
      },
      "execution_count": null,
      "outputs": [
        {
          "output_type": "stream",
          "name": "stderr",
          "text": [
            " * Running on http://127.0.0.1:5000/ (Press CTRL+C to quit)\n"
          ]
        },
        {
          "output_type": "stream",
          "name": "stdout",
          "text": [
            " * Running on http://c271-34-125-136-123.ngrok.io\n",
            " * Traffic stats available on http://127.0.0.1:4040\n"
          ]
        },
        {
          "output_type": "stream",
          "name": "stderr",
          "text": [
            "127.0.0.1 - - [04/Jan/2022 08:48:13] \"\u001b[37mGET /search?query=hello HTTP/1.1\u001b[0m\" 200 -\n",
            "127.0.0.1 - - [04/Jan/2022 08:48:13] \"\u001b[33mGET /favicon.ico HTTP/1.1\u001b[0m\" 404 -\n",
            "127.0.0.1 - - [04/Jan/2022 08:49:10] \"\u001b[37mGET /search_body?query=hello HTTP/1.1\u001b[0m\" 200 -\n",
            "127.0.0.1 - - [04/Jan/2022 08:49:10] \"\u001b[33mGET /favicon.ico HTTP/1.1\u001b[0m\" 404 -\n"
          ]
        }
      ]
    },
    {
      "cell_type": "markdown",
      "source": [
        "# Testing your app\n",
        "\n",
        "Once your app is running you can query it. You can simply do that by navigating to the URL that ngrok gave you above or through code in a different python session. For example, once the frontend app is running, you can navigate to:\n",
        "http://YOUR_SERVER_DOMAIN/search?query=hello+world where YOUR_SERVER_DOMAIN is something like XXXX-XX-XX-XX-XX.ngrok.io, which is printed above in Colab or that is your external IP on GCP.\n",
        "\n",
        "The code below shows how to issue a query from python. This is also how our testing code will issue queries to your search engine, so make sure to test your search engine this way after you deploy it to GCP and before submission. Command line instructions for deploying your search engine to GCP are available at `run_frontend_in_gcp.sh`. Note that we will not only issue training queries to your search engine, but also test queries, i.e. queries that you've never seen before."
      ],
      "metadata": {
        "id": "Na0MC_1nzDbi"
      }
    },
    {
      "cell_type": "code",
      "source": [
        "import json\n",
        "\n",
        "with open('queries_train.json', 'rt') as f:\n",
        "  queries = dict(list(json.load(f).items())[:20])"
      ],
      "metadata": {
        "id": "EM5ePrRHojbG"
      },
      "execution_count": 1,
      "outputs": []
    },
    {
      "cell_type": "code",
      "source": [
        "def average_precision(true_list, predicted_list, k=40):\n",
        "    true_set = frozenset(true_list)\n",
        "    predicted_list = predicted_list[:k]\n",
        "    precisions = []\n",
        "    for i,doc_id in enumerate(predicted_list):        \n",
        "        if doc_id in true_set:\n",
        "            prec = (len(precisions)+1) / (i+1)            \n",
        "            precisions.append(prec)\n",
        "    if len(precisions) == 0:\n",
        "        return 0.0\n",
        "    return round(sum(precisions)/len(precisions),3)"
      ],
      "metadata": {
        "id": "gWimZWCOy3Ei"
      },
      "execution_count": 2,
      "outputs": []
    },
    {
      "cell_type": "code",
      "source": [
        "def avg_time_pres(qs):\n",
        "  return sum([time for _,time,_ in qs])/len(qs),sum([pres for _,_,pres in qs if pres!= None])/(len(qs))\n"
      ],
      "metadata": {
        "id": "ZWxHZJOynZhy"
      },
      "execution_count": 3,
      "outputs": []
    },
    {
      "cell_type": "code",
      "source": [
        "def prams_to_string(parms):\n",
        "  return f'title_parms: w_cosine_similarity {parms[0]}, w_boolean {parms[1]},w_BM25_b_k1_k3_baselog {parms[2:7]}     body_parms: w_cosine_similarity {parms[7]}, w_boolean {parms[8]},w_BM25_b_k1_k3_baselog {parms[9:]}'\n",
        "  \n"
      ],
      "metadata": {
        "id": "Kb1WY-UVDWO_"
      },
      "execution_count": 4,
      "outputs": []
    },
    {
      "cell_type": "code",
      "source": [
        "import requests\n",
        "from time import time\n",
        "url = 'http://34.69.44.140:8080'"
      ],
      "metadata": {
        "id": "lO7XqIlM-FGZ"
      },
      "execution_count": 5,
      "outputs": []
    },
    {
      "cell_type": "markdown",
      "source": [
        "## **result dict by parameters**"
      ],
      "metadata": {
        "id": "CeOVXkRH9kGB"
      }
    },
    {
      "cell_type": "code",
      "source": [
        "result_dict={}"
      ],
      "metadata": {
        "id": "aUmu16A19hZZ"
      },
      "execution_count": 6,
      "outputs": []
    },
    {
      "cell_type": "markdown",
      "source": [
        "## **set parameters**"
      ],
      "metadata": {
        "id": "MrBt6syC-bWK"
      }
    },
    {
      "cell_type": "code",
      "source": [
        "qs_res = []\n",
        "p_title_cosine_similarity = 0\n",
        "p_title_boolean = 0.6\n",
        "p_title_BM25 = 0\n",
        "b_title_BM25 =0.75\n",
        "k1_title_BM25 = 1.75\n",
        "k3_title_BM25 = 1.75\n",
        "base_log_title_BM25 = 10\n",
        "\n",
        "p_body_cosine_similarity = 0.2\n",
        "p_body_boolean = 0\n",
        "p_body_BM25 = 0.2\n",
        "b_body_BM25 = 0.75\n",
        "k1_body_BM25 = 1.75\n",
        "k3_body_BM25 = 1.75\n",
        "base_log_body_BM25 = 10\n",
        "\n",
        "\n",
        "parameters=[p_title_cosine_similarity,p_title_boolean,p_title_BM25,b_title_BM25,k1_title_BM25,k3_title_BM25,base_log_title_BM25,\n",
        "            p_body_cosine_similarity,p_body_boolean,p_body_BM25,b_body_BM25,k1_body_BM25,k3_body_BM25,base_log_body_BM25]\n",
        "\n"
      ],
      "metadata": {
        "id": "UqkmK72Q9fi-"
      },
      "execution_count": 7,
      "outputs": []
    },
    {
      "cell_type": "code",
      "source": [
        "duration, ap = None, None\n",
        "t_start = time()\n",
        "try:\n",
        "  res = requests.post(url+'/set_parameters',json=parameters)\n",
        "  duration = time() - t_start\n",
        "  if res.status_code == 200:\n",
        "    qs_res= res.json()\n",
        "except:\n",
        "  pass\n",
        "  \n",
        "qs_res"
      ],
      "metadata": {
        "colab": {
          "base_uri": "https://localhost:8080/"
        },
        "id": "V-c-Ym6hJ4cD",
        "outputId": "2b61b804-d58c-4878-b802-e6359899c102"
      },
      "execution_count": 8,
      "outputs": [
        {
          "output_type": "execute_result",
          "data": {
            "text/plain": [
              "[True]"
            ]
          },
          "metadata": {},
          "execution_count": 8
        }
      ]
    },
    {
      "cell_type": "markdown",
      "source": [
        "## **Auto Tests**\n"
      ],
      "metadata": {
        "id": "CNcS4xcqcaOg"
      }
    },
    {
      "cell_type": "code",
      "source": [
        "import random\n",
        "def get_parameters(parameters):\n",
        "  for i in range(len(parameters)-4):\n",
        "    if i>2 and i<7:\n",
        "      continue\n",
        "    if  random.uniform(0,1)<0.35:\n",
        "      parameters[i]= round(random.uniform(0,1),3)\n",
        "    else:\n",
        "       parameters[i]=0\n",
        "  return parameters"
      ],
      "metadata": {
        "id": "sQ0T7BTgcbFM"
      },
      "execution_count": 9,
      "outputs": []
    },
    {
      "cell_type": "code",
      "source": [
        "def set_param(parameters):\n",
        "  duration, ap = None, None\n",
        "  try:\n",
        "    res = requests.post(url+'/set_parameters',json=parameters)\n",
        "    if res.status_code == 200:\n",
        "      qs_res= res.json()\n",
        "  except:\n",
        "    pass"
      ],
      "metadata": {
        "id": "iH3YSmOSgdy_"
      },
      "execution_count": 10,
      "outputs": []
    },
    {
      "cell_type": "code",
      "source": [
        "def search():\n",
        "  qs_res = []\n",
        "  for q, true_wids in queries.items():\n",
        "    duration, ap = None, None\n",
        "    t_start = time()\n",
        "    try:\n",
        "      res = requests.get(url + '/search', {'query': q}, timeout=35)\n",
        "      duration = time() - t_start\n",
        "      if res.status_code == 200:\n",
        "        pred_wids, _ = zip(*res.json())\n",
        "        ap = average_precision(true_wids, pred_wids)\n",
        "    except:\n",
        "      pass\n",
        "    \n",
        "    qs_res.append((q, duration, ap))\n",
        "  return(qs_res)"
      ],
      "metadata": {
        "id": "OtGxZpfTg0IE"
      },
      "execution_count": 11,
      "outputs": []
    },
    {
      "cell_type": "code",
      "source": [
        "  for i in range(30):\n",
        "    parameters = get_parameters(parameters)\n",
        "    set_param(parameters)\n",
        "    qs_res = search()\n",
        "    result_dict[prams_to_string(parameters)] = avg_time_pres(qs_res)\n",
        "    \n",
        "    \n"
      ],
      "metadata": {
        "id": "TwJQOP-SeS6k"
      },
      "execution_count": 12,
      "outputs": []
    },
    {
      "cell_type": "markdown",
      "source": [
        "## **Plot Test Results** "
      ],
      "metadata": {
        "id": "rKPyxqj_mZii"
      }
    },
    {
      "cell_type": "code",
      "source": [
        "from nltk.metrics.scores import precision\n",
        "from matplotlib.pyplot import figure\n",
        "import matplotlib.pyplot as plt\n",
        "import numpy as np\n",
        "\n",
        "\n",
        "labels = result_dict.keys()\n",
        "duration,precision = zip(*result_dict.values())\n",
        "\n",
        "\n",
        "x = np.arange(len(labels))  # the label locations\n",
        "width = 0.35  # the width of the bars\n",
        "\n",
        "fig, ax = plt.subplots()\n",
        "rects1 = ax.bar(x - width/2, duration, width, label='duration')\n",
        "rects2 = ax.bar(x + width/2, precision, width, label='precision')\n",
        "\n",
        "# Add some text for labels, title and custom x-axis tick labels, etc.\n",
        "ax.set_ylabel('Scores')\n",
        "ax.set_title('Results Test')\n",
        "ax.set_xticks(range(len(labels)))\n",
        "ax.legend()\n",
        "\n",
        "for bar in rects1:\n",
        "  height = bar.get_height()\n",
        "  ax.text(bar.get_x() + bar.get_width()/2, height, round(height,3), ha='center', va='bottom',fontsize=7,fontweight='bold')\n",
        "\n",
        "for bar in rects2:\n",
        "  height = bar.get_height()\n",
        "  ax.text(bar.get_x() + bar.get_width()/2, height, round(height,3), ha='center', va='bottom',fontsize=7,fontweight='bold')\n",
        "fig.tight_layout()\n",
        "\n",
        "plt.show()\n",
        "max_key = max(result_dict, key = lambda x: result_dict.get(x)[1])\n",
        "\n",
        "\n",
        "print(result_dict[max_key])\n",
        "print(max_key)"
      ],
      "metadata": {
        "id": "b9r91I1GmXwu",
        "outputId": "7e8305bc-9b8b-4fba-d30c-d119e6899e69",
        "colab": {
          "base_uri": "https://localhost:8080/",
          "height": 862
        }
      },
      "execution_count": 57,
      "outputs": [
        {
          "output_type": "display_data",
          "data": {
            "text/plain": [
              "<Figure size 1200x800 with 1 Axes>"
            ],
            "image/png": "[encoded data removed]"
          },
          "metadata": {
            "needs_background": "light"
          }
        },
        {
          "output_type": "stream",
          "name": "stdout",
          "text": [
            "(4.570995008945465, 0.51405)\n",
            "title_parms: w_cosine_similarity 0.471, w_boolean 0.917,w_BM25_b_k1_k3_baselog [0.833, 0.75, 1.75, 1.75, 10]     body_parms: w_cosine_similarity 0.677, w_boolean 0.396,w_BM25_b_k1_k3_baselog [0.732, 0.75, 1.75, 1.75, 10]\n"
          ]
        }
      ]
    },
    {
      "cell_type": "markdown",
      "source": [
        "## **Test search**"
      ],
      "metadata": {
        "id": "-wD0KIGP9-p_"
      }
    },
    {
      "cell_type": "code",
      "source": [
        "\n",
        "# url = 'http://35.232.59.3:8080'\n",
        "# place the domain you got from ngrok or GCP IP below. \n",
        "\n",
        "\n",
        "qs_res = []\n",
        "for q, true_wids in queries.items():\n",
        "  duration, ap = None, None\n",
        "  t_start = time()\n",
        "  try:\n",
        "    res = requests.get(url + '/search', {'query': q}, timeout=35)\n",
        "    duration = time() - t_start\n",
        "    if res.status_code == 200:\n",
        "      pred_wids, _ = zip(*res.json())\n",
        "      ap = average_precision(true_wids, pred_wids)\n",
        "  except:\n",
        "    pass\n",
        "  \n",
        "  qs_res.append((q, duration, ap))\n",
        "  \n"
      ],
      "metadata": {
        "id": "Gatr1Dtm-Cct"
      },
      "execution_count": 99,
      "outputs": []
    },
    {
      "cell_type": "code",
      "source": [
        "qs_res"
      ],
      "metadata": {
        "colab": {
          "base_uri": "https://localhost:8080/"
        },
        "id": "6AxGSP-SB31k",
        "outputId": "70fcf598-585d-4d3f-ca4f-61fae966f862"
      },
      "execution_count": 55,
      "outputs": [
        {
          "output_type": "execute_result",
          "data": {
            "text/plain": [
              "[('best marvel movie', 0.3594245910644531, 0.0),\n",
              " ('How do kids come to world?', 0.4736618995666504, 0.135),\n",
              " ('Information retrieval', 0.33142662048339844, 0.923),\n",
              " ('LinkedIn', 0.31981968879699707, 1.0),\n",
              " ('How to make coffee?', 0.3265039920806885, 0.629),\n",
              " ('Ritalin', 0.3195364475250244, 1.0),\n",
              " ('How to make wine at home?', 0.3439347743988037, 0.0),\n",
              " ('Most expensive city in the world', 0.5450847148895264, 1.0),\n",
              " ('India', 0.34563708305358887, 0.291),\n",
              " ('how to make money fast?', 0.33281731605529785, 0.66),\n",
              " ('Netflix', 0.3196542263031006, 0.605),\n",
              " ('Apple computer', 0.3309507369995117, 0.619),\n",
              " ('The Simpsons', 0.32062387466430664, 0.406),\n",
              " ('World cup', 0.5757851600646973, 1.0),\n",
              " ('How to lose weight?', 0.32147884368896484, 0.0),\n",
              " ('Java', 0.32216525077819824, 0.402),\n",
              " ('Air Jordan', 0.36611127853393555, 1.0),\n",
              " ('how to deal with depression?', 0.3227255344390869, 0.122),\n",
              " ('How do you make gold', 0.3354151248931885, 0.046),\n",
              " ('Marijuana', 0.32027459144592285, 0.236)]"
            ]
          },
          "metadata": {},
          "execution_count": 55
        }
      ]
    },
    {
      "cell_type": "code",
      "source": [
        "avg_time_pres(qs_res)"
      ],
      "metadata": {
        "colab": {
          "base_uri": "https://localhost:8080/"
        },
        "id": "aKuFCaYolK--",
        "outputId": "42f08833-e728-4a30-d97c-948e143124ab"
      },
      "execution_count": 101,
      "outputs": [
        {
          "output_type": "execute_result",
          "data": {
            "text/plain": [
              "(3.524212296803792, 0.451)"
            ]
          },
          "metadata": {},
          "execution_count": 101
        }
      ]
    },
    {
      "cell_type": "code",
      "source": [
        "result_dict[prams_to_string(parameters)] = avg_time_pres(qs_res)"
      ],
      "metadata": {
        "id": "bNlaCcfx-LPU"
      },
      "execution_count": 84,
      "outputs": []
    },
    {
      "cell_type": "code",
      "source": [
        "result_dict "
      ],
      "metadata": {
        "colab": {
          "base_uri": "https://localhost:8080/"
        },
        "id": "78PqsrTRG6gQ",
        "outputId": "f441512e-d9eb-4903-faf6-39a63dc4a978"
      },
      "execution_count": 96,
      "outputs": [
        {
          "output_type": "execute_result",
          "data": {
            "text/plain": [
              "{'title_parms: w_cosine_similarity 0, w_boolean 0,w_BM25_b_k1_k3_baselog [0, 0, 0, 0, 0]     body_parms: w_cosine_similarity 1, w_boolean 0,w_BM25_b_k1_k3_baselog [0, 0, 0, 0, 0]': (2.109978747367859,\n",
              "  0.3982413793103448),\n",
              " 'title_parms: w_cosine_similarity 0, w_boolean 0,w_BM25_b_k1_k3_baselog [0, 0, 0, 0, 0]     body_parms: w_cosine_similarity 0, w_boolean 1,w_BM25_b_k1_k3_baselog [0, 0, 0, 0, 0]': (1.3236300388971964,\n",
              "  0.04593103448275861),\n",
              " 'title_parms: w_cosine_similarity 0, w_boolean 0,w_BM25_b_k1_k3_baselog [0, 0, 0, 0, 0]     body_parms: w_cosine_similarity 0.5, w_boolean 0.5,w_BM25_b_k1_k3_baselog [0, 0, 0, 0, 0]': (2.897495651245117,\n",
              "  0.4686206896551724)}"
            ]
          },
          "metadata": {},
          "execution_count": 96
        }
      ]
    },
    {
      "cell_type": "markdown",
      "source": [
        "## **Test search_body**"
      ],
      "metadata": {
        "id": "e-lvloy_97TN"
      }
    },
    {
      "cell_type": "code",
      "source": [
        "qs_res = []\n",
        "for q, true_wids in queries.items():\n",
        "  duration, ap = None, None\n",
        "  t_start = time()\n",
        "  try:\n",
        "    res = requests.get(url + '/search_body', {'query': q}, timeout=35)\n",
        "    duration = time() - t_start\n",
        "    if res.status_code == 200:\n",
        "      pred_wids, _ = zip(*res.json())\n",
        "      ap = average_precision(true_wids, pred_wids)\n",
        "  except:\n",
        "    pass\n",
        "  \n",
        "  qs_res.append((q, duration, ap))"
      ],
      "metadata": {
        "id": "gsaD3VfS9GkB"
      },
      "execution_count": 47,
      "outputs": []
    },
    {
      "cell_type": "code",
      "source": [
        "qs_res"
      ],
      "metadata": {
        "id": "NBeoYHKlncb9"
      },
      "execution_count": null,
      "outputs": []
    },
    {
      "cell_type": "code",
      "source": [
        "avg_time_pres(qs_res)"
      ],
      "metadata": {
        "colab": {
          "base_uri": "https://localhost:8080/"
        },
        "id": "8l-Rn-DR-1Mk",
        "outputId": "b522dd59-f203-4d6c-e5b2-46c3b917e36c"
      },
      "execution_count": 48,
      "outputs": [
        {
          "output_type": "execute_result",
          "data": {
            "text/plain": [
              "(1.445989696184794, 0.3982413793103448)"
            ]
          },
          "metadata": {},
          "execution_count": 48
        }
      ]
    },
    {
      "cell_type": "markdown",
      "source": [
        "## **Test search_title**"
      ],
      "metadata": {
        "id": "Gp0Wc-mu9s63"
      }
    },
    {
      "cell_type": "code",
      "source": [
        "qs_res = []\n",
        "for q, true_wids in queries.items():\n",
        "  duration, ap = None, None\n",
        "  t_start = time()\n",
        "  try:\n",
        "    res = requests.get(url + '/search_title', {'query': q}, timeout=35)\n",
        "    duration = time() - t_start\n",
        "    if res.status_code == 200:\n",
        "      pred_wids, _ = zip(*res.json())\n",
        "      ap = average_precision(true_wids, pred_wids)\n",
        "  except:\n",
        "    pass\n",
        "  \n",
        "  qs_res.append((q, duration, ap))"
      ],
      "metadata": {
        "id": "xIzj0oIo-3bR"
      },
      "execution_count": 49,
      "outputs": []
    },
    {
      "cell_type": "code",
      "source": [
        "qs_res"
      ],
      "metadata": {
        "id": "cTE9HXfTndfG"
      },
      "execution_count": null,
      "outputs": []
    },
    {
      "cell_type": "code",
      "source": [
        "avg_time_pres(qs_res)"
      ],
      "metadata": {
        "colab": {
          "base_uri": "https://localhost:8080/"
        },
        "id": "4hXnKJH99GrA",
        "outputId": "80f7cb4f-9d8c-470b-d1aa-5120e1e07c51"
      },
      "execution_count": 50,
      "outputs": [
        {
          "output_type": "execute_result",
          "data": {
            "text/plain": [
              "(0.05530214309692383, 0.4911379310344828)"
            ]
          },
          "metadata": {},
          "execution_count": 50
        }
      ]
    },
    {
      "cell_type": "markdown",
      "source": [
        "## **Test search_anchor**"
      ],
      "metadata": {
        "id": "sMMV1wzQ9zNI"
      }
    },
    {
      "cell_type": "code",
      "source": [
        "qs_res = []\n",
        "for q, true_wids in queries.items():\n",
        "  duration, ap = None, None\n",
        "  t_start = time()\n",
        "  try:\n",
        "    res = requests.get(url + '/search_anchor', {'query': q}, timeout=35)\n",
        "    duration = time() - t_start\n",
        "    if res.status_code == 200:\n",
        "      pred_wids, _ = zip(*res.json())\n",
        "      ap = average_precision(true_wids, pred_wids)\n",
        "  except:\n",
        "    pass\n",
        "  \n",
        "  qs_res.append((q, duration, ap))"
      ],
      "metadata": {
        "colab": {
          "base_uri": "https://localhost:8080/",
          "height": 240
        },
        "id": "jxx7MJc29GzG",
        "outputId": "04cce37a-d083-4acf-93e1-1c4dbf26aee5"
      },
      "execution_count": 4,
      "outputs": [
        {
          "output_type": "error",
          "ename": "NameError",
          "evalue": "ignored",
          "traceback": [
            "\u001b[0;31m---------------------------------------------------------------------------\u001b[0m",
            "\u001b[0;31mNameError\u001b[0m                                 Traceback (most recent call last)",
            "\u001b[0;32m<ipython-input-4-b3551544c83e>\u001b[0m in \u001b[0;36m<module>\u001b[0;34m\u001b[0m\n\u001b[1;32m      2\u001b[0m \u001b[0;32mfor\u001b[0m \u001b[0mq\u001b[0m\u001b[0;34m,\u001b[0m \u001b[0mtrue_wids\u001b[0m \u001b[0;32min\u001b[0m \u001b[0mqueries\u001b[0m\u001b[0;34m.\u001b[0m\u001b[0mitems\u001b[0m\u001b[0;34m(\u001b[0m\u001b[0;34m)\u001b[0m\u001b[0;34m:\u001b[0m\u001b[0;34m\u001b[0m\u001b[0;34m\u001b[0m\u001b[0m\n\u001b[1;32m      3\u001b[0m   \u001b[0mduration\u001b[0m\u001b[0;34m,\u001b[0m \u001b[0map\u001b[0m \u001b[0;34m=\u001b[0m \u001b[0;32mNone\u001b[0m\u001b[0;34m,\u001b[0m \u001b[0;32mNone\u001b[0m\u001b[0;34m\u001b[0m\u001b[0;34m\u001b[0m\u001b[0m\n\u001b[0;32m----> 4\u001b[0;31m   \u001b[0mt_start\u001b[0m \u001b[0;34m=\u001b[0m \u001b[0mtime\u001b[0m\u001b[0;34m(\u001b[0m\u001b[0;34m)\u001b[0m\u001b[0;34m\u001b[0m\u001b[0;34m\u001b[0m\u001b[0m\n\u001b[0m\u001b[1;32m      5\u001b[0m   \u001b[0;32mtry\u001b[0m\u001b[0;34m:\u001b[0m\u001b[0;34m\u001b[0m\u001b[0;34m\u001b[0m\u001b[0m\n\u001b[1;32m      6\u001b[0m     \u001b[0mres\u001b[0m \u001b[0;34m=\u001b[0m \u001b[0mrequests\u001b[0m\u001b[0;34m.\u001b[0m\u001b[0mget\u001b[0m\u001b[0;34m(\u001b[0m\u001b[0murl\u001b[0m \u001b[0;34m+\u001b[0m \u001b[0;34m'/search_anchor'\u001b[0m\u001b[0;34m,\u001b[0m \u001b[0;34m{\u001b[0m\u001b[0;34m'query'\u001b[0m\u001b[0;34m:\u001b[0m \u001b[0mq\u001b[0m\u001b[0;34m}\u001b[0m\u001b[0;34m,\u001b[0m \u001b[0mtimeout\u001b[0m\u001b[0;34m=\u001b[0m\u001b[0;36m35\u001b[0m\u001b[0;34m)\u001b[0m\u001b[0;34m\u001b[0m\u001b[0;34m\u001b[0m\u001b[0m\n",
            "\u001b[0;31mNameError\u001b[0m: name 'time' is not defined"
          ]
        }
      ]
    },
    {
      "cell_type": "code",
      "source": [
        "qs_res"
      ],
      "metadata": {
        "colab": {
          "base_uri": "https://localhost:8080/"
        },
        "id": "YfKA6WBV_EbH",
        "outputId": "4143a291-92f0-42ef-a46a-3929ec77091a"
      },
      "execution_count": 22,
      "outputs": [
        {
          "output_type": "execute_result",
          "data": {
            "text/plain": [
              "[('best marvel movie', 1.2029616832733154, 0.211),\n",
              " ('How do kids come to world?', 0.8682630062103271, None),\n",
              " ('Information retrieval', 0.3724937438964844, 0.539),\n",
              " ('LinkedIn', 0.19281625747680664, 0.0),\n",
              " ('How to make coffee?', 0.3871622085571289, 0.0),\n",
              " ('Ritalin', 0.07719063758850098, 1.0),\n",
              " ('How to make wine at home?', 0.666496992111206, 0.0),\n",
              " ('Most expensive city in the world', 1.1442947387695312, None),\n",
              " ('India', 0.5168144702911377, 0.0),\n",
              " ('how to make money fast?', 0.35771942138671875, 0.0),\n",
              " ('Netflix', 0.28501033782958984, 0.0),\n",
              " ('Apple computer', 0.3236422538757324, None),\n",
              " ('The Simpsons', 0.22041893005371094, 0.0),\n",
              " ('World cup', 0.9011344909667969, None),\n",
              " ('How to lose weight?', 0.15961432456970215, 1.0),\n",
              " ('Java', 0.2603275775909424, 0.0),\n",
              " ('Air Jordan', 0.4343099594116211, None),\n",
              " ('how to deal with depression?', 0.3039383888244629, 0.0),\n",
              " ('How do you make gold', 0.16629528999328613, None),\n",
              " ('Marijuana', 0.09459686279296875, 0.408),\n",
              " ('How to make hummus', 0.30675697326660156, 0.75),\n",
              " ('Winter', 0.46637797355651855, 0.0),\n",
              " ('Rick and Morty', 0.3799002170562744, 0.395),\n",
              " ('Natural Language processing', 0.6611578464508057, 0.0),\n",
              " ('World Cup 2022', 0.8869390487670898, None),\n",
              " ('Dolly the sheep', 0.1625688076019287, 0.516),\n",
              " ('Cigarets', 0.06663894653320312, None),\n",
              " ('What is the best place to live in?', 0.5242180824279785, None),\n",
              " ('Elon musk', 0.09023618698120117, 0.625),\n",
              " ('How do you breed flowers?', 0.2293999195098877, 0.097)]"
            ]
          },
          "metadata": {},
          "execution_count": 22
        }
      ]
    },
    {
      "cell_type": "markdown",
      "source": [
        "## **Test Page Rank**"
      ],
      "metadata": {
        "id": "-m5bHO0O9o6p"
      }
    },
    {
      "cell_type": "code",
      "source": [
        "qs_res = []\n",
        "lst = [100,200,300,565677,54656,89897]\n",
        "\n",
        "duration, ap = None, None\n",
        "t_start = time()\n",
        "try:\n",
        "  res = requests.post(url+'/get_pagerank',json=lst)\n",
        "  duration = time() - t_start\n",
        "  if res.status_code == 200:\n",
        "    qs_res= res.json()\n",
        "except:\n",
        "  pass\n",
        "  \n",
        "qs_res"
      ],
      "metadata": {
        "colab": {
          "base_uri": "https://localhost:8080/"
        },
        "id": "cbmkpYRU9G9f",
        "outputId": "573e18de-eecc-4460-f0dd-ea521edafd00"
      },
      "execution_count": 15,
      "outputs": [
        {
          "output_type": "execute_result",
          "data": {
            "text/plain": [
              "[[565677, 1719]]"
            ]
          },
          "metadata": {},
          "execution_count": 15
        }
      ]
    },
    {
      "cell_type": "markdown",
      "source": [
        "## **Test Page View**"
      ],
      "metadata": {
        "id": "nwwHip4a9IqF"
      }
    },
    {
      "cell_type": "code",
      "source": [
        "qs_res = []\n",
        "lst = [100,200,300,565677,54656,89897]\n",
        "\n",
        "duration, ap = None, None\n",
        "t_start = time()\n",
        "try:\n",
        "  res = requests.post(url+'/get_pageview',json=lst)\n",
        "  duration = time() - t_start\n",
        "  if res.status_code == 200:\n",
        "    qs_res= res.json()\n",
        "except:\n",
        "  pass\n",
        "  \n",
        "qs_res"
      ],
      "metadata": {
        "id": "dYmNTq9u0ChK",
        "colab": {
          "base_uri": "https://localhost:8080/"
        },
        "outputId": "2641e3e2-8d89-475a-a8dd-7c5f66a38bc6"
      },
      "execution_count": 14,
      "outputs": [
        {
          "output_type": "execute_result",
          "data": {
            "text/plain": [
              "[[100, 0.0],\n",
              " [200, 0.0],\n",
              " [300, 0.0],\n",
              " [565677, 1719],\n",
              " [54656, 0.0],\n",
              " [89897, 0.0]]"
            ]
          },
          "metadata": {},
          "execution_count": 14
        }
      ]
    }
  ]
}