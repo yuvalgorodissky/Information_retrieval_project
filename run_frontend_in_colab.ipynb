{
  "nbformat": 4,
  "nbformat_minor": 0,
  "metadata": {
    "colab": {
      "name": "run_frontend_in_colab.ipynb",
      "provenance": []
    },
    "kernelspec": {
      "name": "python3",
      "display_name": "Python 3"
    },
    "language_info": {
      "name": "python"
    }
  },
  "cells": [
    {
      "cell_type": "markdown",
      "source": [
        "# Testing your app\n",
        "\n",
        "Once your app is running you can query it. You can simply do that by navigating to the URL that ngrok gave you above or through code in a different python session. For example, once the frontend app is running, you can navigate to:\n",
        "http://YOUR_SERVER_DOMAIN/search?query=hello+world where YOUR_SERVER_DOMAIN is something like XXXX-XX-XX-XX-XX.ngrok.io, which is printed above in Colab or that is your external IP on GCP.\n",
        "\n",
        "The code below shows how to issue a query from python. This is also how our testing code will issue queries to your search engine, so make sure to test your search engine this way after you deploy it to GCP and before submission. Command line instructions for deploying your search engine to GCP are available at `run_frontend_in_gcp.sh`. Note that we will not only issue training queries to your search engine, but also test queries, i.e. queries that you've never seen before."
      ],
      "metadata": {
        "id": "Na0MC_1nzDbi"
      }
    },
    {
      "cell_type": "code",
      "source": [
        "import json\n",
        "\n",
        "with open('queries_train.json', 'rt') as f:\n",
        "  # queries = dict(list(json.load(f).items())[20:])\n",
        "  queries = json.load(f)"
      ],
      "metadata": {
        "id": "EM5ePrRHojbG"
      },
      "execution_count": 68,
      "outputs": []
    },
    {
      "cell_type": "code",
      "source": [
        "def average_precision(true_list, predicted_list, k=40):\n",
        "    true_set = frozenset(true_list)\n",
        "    predicted_list = predicted_list[:k]\n",
        "    precisions = []\n",
        "    for i,doc_id in enumerate(predicted_list):        \n",
        "        if doc_id in true_set:\n",
        "            prec = (len(precisions)+1) / (i+1)            \n",
        "            precisions.append(prec)\n",
        "    if len(precisions) == 0:\n",
        "        return 0.0\n",
        "    return round(sum(precisions)/len(precisions),3)"
      ],
      "metadata": {
        "id": "gWimZWCOy3Ei"
      },
      "execution_count": 34,
      "outputs": []
    },
    {
      "cell_type": "code",
      "source": [
        "def avg_time_pres(qs):\n",
        "  return sum([time for _,time,_ in qs])/len(qs),sum([pres for _,_,pres in qs if pres!= None])/(len(qs))\n"
      ],
      "metadata": {
        "id": "ZWxHZJOynZhy"
      },
      "execution_count": 35,
      "outputs": []
    },
    {
      "cell_type": "code",
      "source": [
        "def prams_to_string(parms):\n",
        "  return f'title_parms: w_cosine_similarity {parms[0]}, w_boolean {parms[1]},w_BM25_b_k1_k3_baselog {parms[2:7]}     body_parms: w_cosine_similarity {parms[7]}, w_boolean {parms[8]},w_BM25_b_k1_k3_baselog {parms[9:14]}'\n",
        "  \n"
      ],
      "metadata": {
        "id": "Kb1WY-UVDWO_"
      },
      "execution_count": 36,
      "outputs": []
    },
    {
      "cell_type": "code",
      "source": [
        "import requests\n",
        "from time import time\n",
        "url = 'http://34.132.244.115:8080'"
      ],
      "metadata": {
        "id": "lO7XqIlM-FGZ"
      },
      "execution_count": 37,
      "outputs": []
    },
    {
      "cell_type": "markdown",
      "source": [
        "## **result dict by parameters**"
      ],
      "metadata": {
        "id": "CeOVXkRH9kGB"
      }
    },
    {
      "cell_type": "code",
      "source": [
        "result_dict={}"
      ],
      "metadata": {
        "id": "aUmu16A19hZZ"
      },
      "execution_count": 38,
      "outputs": []
    },
    {
      "cell_type": "markdown",
      "source": [
        "## **set parameters**"
      ],
      "metadata": {
        "id": "MrBt6syC-bWK"
      }
    },
    {
      "cell_type": "code",
      "source": [
        "def get_init_param():\n",
        "  p_title_cosine_similarity = 0\n",
        "  p_title_boolean = 0.7\n",
        "  p_title_BM25 = 0.7\n",
        "  b_title_BM25 = 0.54\n",
        "  k1_title_BM25 = 1.84\n",
        "  k3_title_BM25 = 1.95\n",
        "  base_log_title_BM25 = 10\n",
        "\n",
        "  p_body_cosine_similarity = 0\n",
        "  p_body_boolean = 0.3\n",
        "  p_body_BM25 = 0.3\n",
        "  b_body_BM25 = 0.54\n",
        "  k1_body_BM25 = 1.84\n",
        "  k3_body_BM25 = 1.95\n",
        "  base_log_body_BM25 = 10\n",
        "\n",
        "  merge_n=230\n",
        "\n",
        "  parameters=[p_title_cosine_similarity,p_title_boolean,p_title_BM25,b_title_BM25,k1_title_BM25,k3_title_BM25,base_log_title_BM25,\n",
        "              p_body_cosine_similarity,p_body_boolean,p_body_BM25,b_body_BM25,k1_body_BM25,k3_body_BM25,base_log_body_BM25,merge_n]\n",
        "  return parameters\n",
        "\n"
      ],
      "metadata": {
        "id": "UqkmK72Q9fi-"
      },
      "execution_count": 71,
      "outputs": []
    },
    {
      "cell_type": "code",
      "source": [
        "duration, ap = None, None\n",
        "t_start = time()\n",
        "qs_res=None\n",
        "try:\n",
        "  res = requests.post(url+'/set_parameters',json=get_init_param())\n",
        "  duration = time() - t_start\n",
        "  if res.status_code == 200:\n",
        "    qs_res= res.json()\n",
        "except:\n",
        "  pass\n",
        "qs_res"
      ],
      "metadata": {
        "colab": {
          "base_uri": "https://localhost:8080/"
        },
        "id": "V-c-Ym6hJ4cD",
        "outputId": "9e5947ce-7e23-41fa-ff3f-4cac65301e27"
      },
      "execution_count": 55,
      "outputs": [
        {
          "output_type": "execute_result",
          "data": {
            "text/plain": [
              "[True]"
            ]
          },
          "metadata": {},
          "execution_count": 55
        }
      ]
    },
    {
      "cell_type": "markdown",
      "source": [
        "## **Auto Tests**\n"
      ],
      "metadata": {
        "id": "CNcS4xcqcaOg"
      }
    },
    {
      "cell_type": "markdown",
      "source": [
        "### **Choose model**\n"
      ],
      "metadata": {
        "id": "EyI-9hoen9k_"
      }
    },
    {
      "cell_type": "code",
      "source": [
        "import random\n",
        "def get_parameters_Choose_model():\n",
        "  parameters=get_init_param()\n",
        "  parameters[0]=random.randint(0, 2)\n",
        "  parameters[1]=random.randint(0, 2)\n",
        "  parameters[2]=random.randint(0, 2)\n",
        "  parameters[3]=0.75\n",
        "  parameters[4]=1.75\n",
        "  parameters[5]=1.75\n",
        "  parameters[6]=10\n",
        "  parameters[7]=random.randint(0, 2)\n",
        "  parameters[8]=random.randint(0, 2)\n",
        "  parameters[9]=random.randint(0, 2)\n",
        "  parameters[10]=0.75\n",
        "  parameters[11]=1.75\n",
        "  parameters[12]=1.75\n",
        "  parameters[13]=10\n",
        "\n",
        "  return parameters"
      ],
      "metadata": {
        "id": "sQ0T7BTgcbFM"
      },
      "execution_count": 8,
      "outputs": []
    },
    {
      "cell_type": "code",
      "source": [
        "def set_param(parameters):\n",
        "  duration, ap = None, None\n",
        "  t_start = time()\n",
        "  qs_res=None\n",
        "  try:\n",
        "    res = requests.post(url+'/set_parameters',json=parameters)\n",
        "    duration = time() - t_start\n",
        "    if res.status_code == 200:\n",
        "      qs_res= res.json()\n",
        "  except:\n",
        "    pass\n",
        "  print(qs_res)"
      ],
      "metadata": {
        "id": "iH3YSmOSgdy_"
      },
      "execution_count": 9,
      "outputs": []
    },
    {
      "cell_type": "code",
      "source": [
        "def search():\n",
        "  qs_res = []\n",
        "  for q, true_wids in queries.items():\n",
        "    duration, ap = None, None\n",
        "    t_start = time()\n",
        "    try:\n",
        "      res = requests.get(url + '/search', {'query': q}, timeout=35)\n",
        "      duration = time() - t_start\n",
        "      if res.status_code == 200:\n",
        "        pred_wids, _ = zip(*res.json())\n",
        "        ap = average_precision(true_wids, pred_wids)\n",
        "    except:\n",
        "      pass\n",
        "    \n",
        "    qs_res.append((q, duration, ap))\n",
        "  return(qs_res)"
      ],
      "metadata": {
        "id": "OtGxZpfTg0IE"
      },
      "execution_count": 10,
      "outputs": []
    },
    {
      "cell_type": "code",
      "source": [
        "for a in range(2):\n",
        "  for b in range(2):\n",
        "    for c in range(2):\n",
        "        for d in range(2):\n",
        "            for e in range(2):\n",
        "                if (a+b+c+d+e==0):\n",
        "                  continue\n",
        "                parameters = get_parameters_Choose_model()\n",
        "                parameters[0]=0\n",
        "                parameters[1]=b\n",
        "                parameters[2]=c\n",
        "                parameters[7]=d\n",
        "                parameters[8]=e\n",
        "                parameters[9]=a   \n",
        "                set_param(parameters)\n",
        "                qs_res = search()\n",
        "                result_dict[prams_to_string(parameters)] = avg_time_pres(qs_res)\n",
        "\n",
        "\n"
      ],
      "metadata": {
        "id": "TwJQOP-SeS6k"
      },
      "execution_count": null,
      "outputs": []
    },
    {
      "cell_type": "code",
      "source": [
        "result_dict\n"
      ],
      "metadata": {
        "id": "rVOLyGK-Ij7G"
      },
      "execution_count": null,
      "outputs": []
    },
    {
      "cell_type": "markdown",
      "source": [
        "### **Find weights**"
      ],
      "metadata": {
        "id": "1tujJ7UMAhQT"
      }
    },
    {
      "cell_type": "code",
      "source": [
        "import random\n",
        "def get_parameters_Find_weights():\n",
        "  parameters=get_init_param()\n",
        "  parameters[0]=0\n",
        "  parameters[1]=round(random.uniform(0, 1),3)\n",
        "  parameters[2]=0\n",
        "  parameters[3]=0.75\n",
        "  parameters[4]=1.75\n",
        "  parameters[5]=1.75\n",
        "  parameters[6]=10\n",
        "  parameters[7]=0\n",
        "  parameters[8]=round(1-parameters[1])\n",
        "  parameters[9]=0\n",
        "  parameters[10]=0.75\n",
        "  parameters[11]=1.75\n",
        "  parameters[12]=1.75\n",
        "  parameters[13]=10\n",
        "\n",
        "  return parameters"
      ],
      "metadata": {
        "id": "wecuccT9Agek"
      },
      "execution_count": 11,
      "outputs": []
    },
    {
      "cell_type": "code",
      "source": [
        "for i in range(30):\n",
        "  parameters = get_parameters_Find_weights()\n",
        "  set_param(parameters)\n",
        "  qs_res = search()\n",
        "  print(qs_res)\n",
        "  print(parameters)\n",
        "  result_dict[prams_to_string(parameters)] = avg_time_pres(qs_res)"
      ],
      "metadata": {
        "id": "2HBjQq6wB4vU"
      },
      "execution_count": null,
      "outputs": []
    },
    {
      "cell_type": "markdown",
      "source": [
        "### **Word2Vec**"
      ],
      "metadata": {
        "id": "OOVbPD7iUU7H"
      }
    },
    {
      "cell_type": "code",
      "source": [
        "result_dict={}"
      ],
      "metadata": {
        "id": "VrodoY_NVr8-"
      },
      "execution_count": 64,
      "outputs": []
    },
    {
      "cell_type": "code",
      "source": [
        "without_w2v=avg_time_pres(search())"
      ],
      "metadata": {
        "id": "6Wju7kAXUe29"
      },
      "execution_count": 27,
      "outputs": []
    },
    {
      "cell_type": "code",
      "source": [
        "with_w2v=avg_time_pres(search())"
      ],
      "metadata": {
        "id": "VIcAVybaU25M"
      },
      "execution_count": 34,
      "outputs": []
    },
    {
      "cell_type": "code",
      "source": [
        "result_dict[\"without\"]=without_w2v\n",
        "result_dict[\"with_w2v\"]=with_w2v\n"
      ],
      "metadata": {
        "id": "4BChd-BbU7KD"
      },
      "execution_count": 38,
      "outputs": []
    },
    {
      "cell_type": "markdown",
      "source": [
        "## **find query facrtor** "
      ],
      "metadata": {
        "id": "DD5y-ab9YP3P"
      }
    },
    {
      "cell_type": "code",
      "source": [
        "parameters=get_init_param()\n",
        "parameters.append(0)\n",
        "for i in range(1,10):\n",
        "  parameters[15]=i\n",
        "  set_param(parameters)\n",
        "  qs_res = search()\n",
        "  result_dict[prams_to_string(parameters)+str(i)] = avg_time_pres(qs_res)"
      ],
      "metadata": {
        "id": "g60JlREEYfG0",
        "outputId": "7893e1a6-525a-4aff-82d2-971b230810e9",
        "colab": {
          "base_uri": "https://localhost:8080/"
        }
      },
      "execution_count": 46,
      "outputs": [
        {
          "output_type": "stream",
          "name": "stdout",
          "text": [
            "[True]\n",
            "[True]\n",
            "[True]\n",
            "[True]\n",
            "[True]\n",
            "[True]\n",
            "[True]\n",
            "[True]\n",
            "[True]\n"
          ]
        }
      ]
    },
    {
      "cell_type": "code",
      "source": [
        "result_dict"
      ],
      "metadata": {
        "id": "6Sa3iqtPZ1E9",
        "outputId": "a07df97f-772b-470b-e301-da0382a9d681",
        "colab": {
          "base_uri": "https://localhost:8080/"
        }
      },
      "execution_count": 43,
      "outputs": [
        {
          "output_type": "execute_result",
          "data": {
            "text/plain": [
              "{'title_parms: w_cosine_similarity 0, w_boolean 0.7,w_BM25_b_k1_k3_baselog [0, 0, 0, 0, 0]     body_parms: w_cosine_similarity 0, w_boolean 0.3,w_BM25_b_k1_k3_baselog [0, 0, 0, 0, 0]': (1.408300805091858,\n",
              "  0.0)}"
            ]
          },
          "metadata": {},
          "execution_count": 43
        }
      ]
    },
    {
      "cell_type": "markdown",
      "source": [
        "## **BM25 vs Cosine_Similarity**"
      ],
      "metadata": {
        "id": "nMVw5rn4dxCs"
      }
    },
    {
      "cell_type": "code",
      "source": [
        "parameters=get_init_param()\n",
        "set_param(parameters)\n",
        "qs_res = search()\n",
        "result_dict[\"BM25\"] = avg_time_pres(qs_res)"
      ],
      "metadata": {
        "id": "PFrhaQEjdvyl",
        "outputId": "00418df0-6d9b-4d54-9307-3eb44e44eaf4",
        "colab": {
          "base_uri": "https://localhost:8080/"
        }
      },
      "execution_count": 72,
      "outputs": [
        {
          "output_type": "stream",
          "name": "stdout",
          "text": [
            "[True]\n"
          ]
        }
      ]
    },
    {
      "cell_type": "code",
      "source": [
        "parameters=get_init_param()\n",
        "set_param(parameters)\n",
        "qs_res = search()\n",
        "result_dict[i] = avg_time_pres(qs_res)"
      ],
      "metadata": {
        "id": "vN9dP7jgdvad",
        "outputId": "1fd6920f-c9a2-4b76-95e7-b7b8efb4b1a1",
        "colab": {
          "base_uri": "https://localhost:8080/"
        }
      },
      "execution_count": 85,
      "outputs": [
        {
          "output_type": "stream",
          "name": "stdout",
          "text": [
            "[True]\n"
          ]
        }
      ]
    },
    {
      "cell_type": "markdown",
      "source": [
        "### **find N**"
      ],
      "metadata": {
        "id": "i4mZbRjkk1gB"
      }
    },
    {
      "cell_type": "code",
      "source": [
        "for i in range(100,250,10):\n",
        "  parameters=get_init_param()\n",
        "  parameters[14]=i\n",
        "  set_param(parameters)\n",
        "  qs_res = search()\n",
        "  result_dict[i] = avg_time_pres(qs_res)"
      ],
      "metadata": {
        "id": "f-xqr5TIk7PA",
        "outputId": "3f0f2083-38b8-48e2-9500-ef73a5ae8e59",
        "colab": {
          "base_uri": "https://localhost:8080/"
        }
      },
      "execution_count": 52,
      "outputs": [
        {
          "output_type": "stream",
          "name": "stdout",
          "text": [
            "[True]\n",
            "[True]\n",
            "[True]\n",
            "[True]\n",
            "[True]\n",
            "[True]\n",
            "[True]\n",
            "[True]\n",
            "[True]\n",
            "[True]\n",
            "[True]\n",
            "[True]\n",
            "[True]\n",
            "[True]\n",
            "[True]\n"
          ]
        }
      ]
    },
    {
      "cell_type": "markdown",
      "source": [
        "### **Stemming vs NONStemming**"
      ],
      "metadata": {
        "id": "yMOBmpfrngB9"
      }
    },
    {
      "cell_type": "code",
      "source": [
        "parameters=get_init_param()\n",
        "set_param(parameters)\n",
        "qs_res = search()\n",
        "result_dict[\"Stemming\"] = avg_time_pres(qs_res)"
      ],
      "metadata": {
        "id": "IUJp7agHnYtC",
        "outputId": "8a9e52e1-5004-4e04-d6c4-c8582aec20c0",
        "colab": {
          "base_uri": "https://localhost:8080/"
        }
      },
      "execution_count": 57,
      "outputs": [
        {
          "output_type": "stream",
          "name": "stdout",
          "text": [
            "[True]\n"
          ]
        }
      ]
    },
    {
      "cell_type": "code",
      "source": [
        "parameters=get_init_param()\n",
        "set_param(parameters)\n",
        "qs_res = search()\n",
        "result_dict[\"NonStemming\"] = avg_time_pres(qs_res)"
      ],
      "metadata": {
        "id": "DCs_miJgnsfQ",
        "outputId": "5c849ddf-5e0f-4ede-e4b6-3d134edea0ba",
        "colab": {
          "base_uri": "https://localhost:8080/"
        }
      },
      "execution_count": 60,
      "outputs": [
        {
          "output_type": "stream",
          "name": "stdout",
          "text": [
            "[True]\n"
          ]
        }
      ]
    },
    {
      "cell_type": "markdown",
      "source": [
        "### **final result**"
      ],
      "metadata": {
        "id": "JvqOLqjY5coz"
      }
    },
    {
      "cell_type": "code",
      "source": [
        "parameters=get_init_param()\n",
        "set_param(parameters)\n",
        "qs_res = search()\n",
        "result_dict[\"Last10\"] = avg_time_pres(qs_res)"
      ],
      "metadata": {
        "id": "ncWDiJzN5m63",
        "outputId": "b8e7f69e-fe2d-4364-d554-c7628363861c",
        "colab": {
          "base_uri": "https://localhost:8080/"
        }
      },
      "execution_count": 65,
      "outputs": [
        {
          "output_type": "stream",
          "name": "stdout",
          "text": [
            "[True]\n"
          ]
        }
      ]
    },
    {
      "cell_type": "code",
      "source": [
        "parameters=get_init_param()\n",
        "set_param(parameters)\n",
        "qs_res = search()\n",
        "result_dict[\"All30\"] = avg_time_pres(qs_res)"
      ],
      "metadata": {
        "id": "0tDsvxuV5wUi",
        "outputId": "fddde2ed-6a45-407d-a973-d64c4943defd",
        "colab": {
          "base_uri": "https://localhost:8080/"
        }
      },
      "execution_count": 72,
      "outputs": [
        {
          "output_type": "stream",
          "name": "stdout",
          "text": [
            "[True]\n"
          ]
        }
      ]
    },
    {
      "cell_type": "markdown",
      "source": [
        "## **Plot Test Results** "
      ],
      "metadata": {
        "id": "rKPyxqj_mZii"
      }
    },
    {
      "cell_type": "code",
      "source": [
        "from nltk.metrics.scores import precision\n",
        "from matplotlib.pyplot import figure\n",
        "import matplotlib.pyplot as plt\n",
        "import numpy as np\n",
        "\n",
        "\n",
        "labels = result_dict.keys()\n",
        "duration,precision = zip(*result_dict.values())\n",
        "\n",
        "\n",
        "x = np.arange(len(labels))  # the label locations\n",
        "width = 0.35  # the width of the bars\n",
        "\n",
        "fig, ax = plt.subplots()\n",
        "rects1 = ax.bar(x - width/2, duration, width, label='duration')\n",
        "rects2 = ax.bar(x + width/2, precision, width, label='precision')\n",
        "\n",
        "# Add some text for labels, title and custom x-axis tick labels, etc.\n",
        "ax.set_ylabel('Scores')\n",
        "ax.set_title('Results Test :Final results')\n",
        "ax.set_xticks(range(len(labels)),[\"BM25\",\"Cosine_Similarity\"])\n",
        "ax.legend()\n",
        "\n",
        "for bar in rects1:\n",
        "  height = bar.get_height()\n",
        "  ax.text(bar.get_x() + bar.get_width()/2, height, round(height,3), ha='center', va='bottom',fontsize=7,fontweight='bold')\n",
        "\n",
        "for bar in rects2:\n",
        "  height = bar.get_height()\n",
        "  ax.text(bar.get_x() + bar.get_width()/2, height, round(height,3), ha='center', va='bottom',fontsize=7,fontweight='bold')\n",
        "# fig.tight_layout()\n",
        "fig.set_size_inches(10,6)\n",
        "plt.show()\n",
        "plt.savefig(\"choosing_test.jpg\") #save as png\n",
        "max_key = max(result_dict, key = lambda x: result_dict.get(x)[1])\n",
        "\n",
        "\n",
        "print(result_dict[max_key])\n",
        "print(max_key)"
      ],
      "metadata": {
        "colab": {
          "base_uri": "https://localhost:8080/",
          "height": 501
        },
        "id": "b9r91I1GmXwu",
        "outputId": "40323247-c0ec-4c4f-cb7d-cf1127b916b3"
      },
      "execution_count": 73,
      "outputs": [
        {
          "output_type": "stream",
          "name": "stderr",
          "text": [
            "<ipython-input-73-0335a1aa388b>:21: MatplotlibDeprecationWarning: Passing the minor parameter of set_xticks() positionally is deprecated since Matplotlib 3.2; the parameter will become keyword-only two minor releases later.\n",
            "  ax.set_xticks(range(len(labels)),[\"BM25\",\"Cosine_Similarity\"])\n"
          ]
        },
        {
          "output_type": "display_data",
          "data": {
            "text/plain": [
              "<Figure size 720x432 with 1 Axes>"
            ],
            "image/png": "[encoded data removed]"
          },
          "metadata": {
            "needs_background": "light"
          }
        },
        {
          "output_type": "stream",
          "name": "stdout",
          "text": [
            "(2.6472996711730956, 0.6634666666666666)\n",
            "All30\n"
          ]
        },
        {
          "output_type": "display_data",
          "data": {
            "text/plain": [
              "<Figure size 432x288 with 0 Axes>"
            ]
          },
          "metadata": {}
        }
      ]
    },
    {
      "cell_type": "code",
      "source": [],
      "metadata": {
        "id": "V801PlbmUIUW"
      },
      "execution_count": null,
      "outputs": []
    },
    {
      "cell_type": "markdown",
      "source": [
        "## **Test search**"
      ],
      "metadata": {
        "id": "-wD0KIGP9-p_"
      }
    },
    {
      "cell_type": "code",
      "source": [
        "\n",
        "# url = 'http://35.232.59.3:8080'\n",
        "# place the domain you got from ngrok or GCP IP below. \n",
        "\n",
        "\n",
        "qs_res = []\n",
        "for q, true_wids in queries.items():\n",
        "  duration, ap,rc = None, None,None\n",
        "  t_start = time()\n",
        "  try:\n",
        "    res = requests.get(url + '/search', {'query': q}, timeout=35)\n",
        "    duration = time() - t_start\n",
        "    if res.status_code == 200:\n",
        "      pred_wids, _ = zip(*res.json())\n",
        "      ap = average_precision(true_wids, pred_wids)\n",
        "  except:\n",
        "    pass\n",
        "  \n",
        "  qs_res.append((q, duration, ap))\n",
        "  \n"
      ],
      "metadata": {
        "id": "Gatr1Dtm-Cct"
      },
      "execution_count": 48,
      "outputs": []
    },
    {
      "cell_type": "code",
      "source": [
        "qs_res"
      ],
      "metadata": {
        "colab": {
          "base_uri": "https://localhost:8080/"
        },
        "id": "6AxGSP-SB31k",
        "outputId": "d170ee49-9bd3-4492-f048-223e8526ab6e"
      },
      "execution_count": 49,
      "outputs": [
        {
          "output_type": "execute_result",
          "data": {
            "text/plain": [
              "[('best marvel movie', 4.920014142990112, 0.867),\n",
              " ('How do kids come to world?', 7.877712249755859, 0.0),\n",
              " ('Information retrieval', 0.8833026885986328, 1.0),\n",
              " ('LinkedIn', 0.02552056312561035, 1.0),\n",
              " ('How to make coffee?', 2.1878459453582764, 0.0),\n",
              " ('Ritalin', 0.008104801177978516, 0.771),\n",
              " ('How to make wine at home?', 5.747897386550903, 0.0),\n",
              " ('Most expensive city in the world', 9.915420293807983, 0.5),\n",
              " ('India', 2.1855695247650146, 0.661),\n",
              " ('how to make money fast?', 3.533029317855835, 1.0),\n",
              " ('Netflix', 0.12916350364685059, 1.0),\n",
              " ('Apple computer', 1.3058652877807617, 0.68),\n",
              " ('The Simpsons', 0.06329822540283203, 0.766),\n",
              " ('World cup', 7.171169757843018, 0.622),\n",
              " ('How to lose weight?', 1.149634599685669, 1.0),\n",
              " ('Java', 0.18502497673034668, 0.887),\n",
              " ('Air Jordan', 2.452096939086914, 1.0),\n",
              " ('how to deal with depression?', 1.0281143188476562, 1.0),\n",
              " ('How do you make gold', 4.15368390083313, 0.583),\n",
              " ('Marijuana', 0.07253551483154297, 0.295)]"
            ]
          },
          "metadata": {},
          "execution_count": 49
        }
      ]
    },
    {
      "cell_type": "code",
      "source": [
        "avg_time_pres(qs_res)"
      ],
      "metadata": {
        "colab": {
          "base_uri": "https://localhost:8080/"
        },
        "id": "aKuFCaYolK--",
        "outputId": "4cc5d540-37b6-4ac8-fe6c-461717c22eee"
      },
      "execution_count": 50,
      "outputs": [
        {
          "output_type": "execute_result",
          "data": {
            "text/plain": [
              "(2.7497501969337463, 0.6816)"
            ]
          },
          "metadata": {},
          "execution_count": 50
        }
      ]
    },
    {
      "cell_type": "code",
      "source": [
        "result_dict[prams_to_string(parameters)] = avg_time_pres(qs_res)"
      ],
      "metadata": {
        "id": "bNlaCcfx-LPU"
      },
      "execution_count": null,
      "outputs": []
    },
    {
      "cell_type": "code",
      "source": [
        "result_dict "
      ],
      "metadata": {
        "id": "78PqsrTRG6gQ"
      },
      "execution_count": null,
      "outputs": []
    },
    {
      "cell_type": "markdown",
      "source": [
        "## **Test search_body**"
      ],
      "metadata": {
        "id": "e-lvloy_97TN"
      }
    },
    {
      "cell_type": "code",
      "source": [
        "qs_res = []\n",
        "for q, true_wids in queries.items():\n",
        "  duration, ap = None, None\n",
        "  t_start = time()\n",
        "  try:\n",
        "    res = requests.get(url + '/search_body', {'query': q}, timeout=35)\n",
        "    duration = time() - t_start\n",
        "    if res.status_code == 200:\n",
        "      pred_wids, _ = zip(*res.json())\n",
        "      ap = average_precision(true_wids, pred_wids)\n",
        "  except:\n",
        "    pass\n",
        "  \n",
        "  qs_res.append((q, duration, ap))"
      ],
      "metadata": {
        "id": "gsaD3VfS9GkB"
      },
      "execution_count": null,
      "outputs": []
    },
    {
      "cell_type": "code",
      "source": [
        "qs_res"
      ],
      "metadata": {
        "id": "NBeoYHKlncb9"
      },
      "execution_count": null,
      "outputs": []
    },
    {
      "cell_type": "code",
      "source": [
        "avg_time_pres(qs_res)"
      ],
      "metadata": {
        "id": "8l-Rn-DR-1Mk"
      },
      "execution_count": null,
      "outputs": []
    },
    {
      "cell_type": "markdown",
      "source": [
        "## **Test search_title**"
      ],
      "metadata": {
        "id": "Gp0Wc-mu9s63"
      }
    },
    {
      "cell_type": "code",
      "source": [
        "qs_res = []\n",
        "for q, true_wids in queries.items():\n",
        "  duration, ap = None, None\n",
        "  t_start = time()\n",
        "  try:\n",
        "    res = requests.get(url + '/search_title', {'query': q}, timeout=35)\n",
        "    duration = time() - t_start\n",
        "    if res.status_code == 200:\n",
        "      pred_wids, _ = zip(*res.json())\n",
        "      ap = average_precision(true_wids, pred_wids)\n",
        "  except:\n",
        "    pass\n",
        "  \n",
        "  qs_res.append((q, duration, ap))"
      ],
      "metadata": {
        "id": "xIzj0oIo-3bR"
      },
      "execution_count": null,
      "outputs": []
    },
    {
      "cell_type": "code",
      "source": [
        "qs_res"
      ],
      "metadata": {
        "id": "cTE9HXfTndfG"
      },
      "execution_count": null,
      "outputs": []
    },
    {
      "cell_type": "code",
      "source": [
        "avg_time_pres(qs_res)"
      ],
      "metadata": {
        "id": "4hXnKJH99GrA"
      },
      "execution_count": null,
      "outputs": []
    },
    {
      "cell_type": "markdown",
      "source": [
        "## **Test search_anchor**"
      ],
      "metadata": {
        "id": "sMMV1wzQ9zNI"
      }
    },
    {
      "cell_type": "code",
      "source": [
        "qs_res = []\n",
        "for q, true_wids in queries.items():\n",
        "  duration, ap = None, None\n",
        "  t_start = time()\n",
        "  try:\n",
        "    res = requests.get(url + '/search_anchor', {'query': q}, timeout=35)\n",
        "    duration = time() - t_start\n",
        "    if res.status_code == 200:\n",
        "      pred_wids, _ = zip(*res.json())\n",
        "      ap = average_precision(true_wids, pred_wids)\n",
        "  except:\n",
        "    pass\n",
        "  \n",
        "  qs_res.append((q, duration, ap))"
      ],
      "metadata": {
        "id": "jxx7MJc29GzG"
      },
      "execution_count": null,
      "outputs": []
    },
    {
      "cell_type": "code",
      "source": [
        "qs_res"
      ],
      "metadata": {
        "id": "YfKA6WBV_EbH"
      },
      "execution_count": null,
      "outputs": []
    },
    {
      "cell_type": "code",
      "source": [
        "avg_time_pres(qs_res)"
      ],
      "metadata": {
        "id": "Hha4GQDn2oCu"
      },
      "execution_count": null,
      "outputs": []
    },
    {
      "cell_type": "markdown",
      "source": [
        "## **Test Page Rank**"
      ],
      "metadata": {
        "id": "-m5bHO0O9o6p"
      }
    },
    {
      "cell_type": "code",
      "source": [
        "qs_res = []\n",
        "lst = [100,200,300,565677,54656,89897]\n",
        "\n",
        "duration, ap = None, None\n",
        "t_start = time()\n",
        "try:\n",
        "  res = requests.post(url+'/get_pagerank',json=lst)\n",
        "  duration = time() - t_start\n",
        "  if res.status_code == 200:\n",
        "    qs_res= res.json()\n",
        "except:\n",
        "  pass\n",
        "  \n",
        "qs_res"
      ],
      "metadata": {
        "id": "cbmkpYRU9G9f"
      },
      "execution_count": null,
      "outputs": []
    },
    {
      "cell_type": "markdown",
      "source": [
        "## **Test Page View**"
      ],
      "metadata": {
        "id": "nwwHip4a9IqF"
      }
    },
    {
      "cell_type": "code",
      "source": [
        "qs_res = []\n",
        "lst = [100,200,300,565677,54656,89897]\n",
        "\n",
        "duration, ap = None, None\n",
        "t_start = time()\n",
        "try:\n",
        "  res = requests.post(url+'/get_pageview',json=lst)\n",
        "  duration = time() - t_start\n",
        "  if res.status_code == 200:\n",
        "    qs_res= res.json()\n",
        "except:\n",
        "  pass\n",
        "  \n",
        "qs_res"
      ],
      "metadata": {
        "id": "dYmNTq9u0ChK"
      },
      "execution_count": null,
      "outputs": []
    }
  ]
}